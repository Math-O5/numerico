{
  "nbformat": 4,
  "nbformat_minor": 0,
  "metadata": {
    "colab": {
      "name": "sistemas_nao_lineares.ipynb",
      "provenance": [],
      "collapsed_sections": []
    },
    "kernelspec": {
      "name": "python3",
      "display_name": "Python 3"
    }
  },
  "cells": [
    {
      "cell_type": "markdown",
      "metadata": {
        "id": "UT3zZW5t196E",
        "colab_type": "text"
      },
      "source": [
        "# **Sistema Não Lineares**\n",
        "---\n",
        "<ul>\n",
        "  <li><a href=\"#scrollTo=6T7Gy-Docn5C&uniqifier=1\">Sistemas Não Lineares</a>\n",
        "  </li>\n",
        "  <ul>\n",
        "      <li><a href=\"#scrollTo=E2wcnL1ak8bG&uniqifier=1\">Introdução</a></li>\n",
        "    <li><a href=\"#scrollTo=pFFXXiPXkxvA&uniqifier=1\">Funções comuns</a></li>\n",
        "    <li>Equações não lineares\n",
        "      <ul>\n",
        "          <li><a href=\"#scrollTo=4Vd2bqLKpwpr&uniqifier=1\">Método da Bisseção</a></li>\n",
        "          <li><a href=\"#scrollTo=JpN1O-_mHgEp&uniqifier=1\">Método de Newton Rapshon</a></li>\n",
        "      </ul>\n",
        "    </li>\n",
        "    <li>Sistemas não lineares\n",
        "        <ul>\n",
        "          <li><a href=\"#scrollTo=6X8hhhuyhZHC&uniqifier=1\">Extensão do Método de Newton Rapshon</a></li>\n",
        "      </ul>\n",
        "    </li>\n",
        "    <li><a href=\"#scrollTo=BP3sHmVDk-s1&uniqifier=1\">Aplicações</a></li>\n",
        "  </ul>"
      ]
    },
    {
      "cell_type": "code",
      "metadata": {
        "id": "kpBQV0-Zbiha",
        "colab_type": "code",
        "colab": {}
      },
      "source": [
        "import numpy as np\n",
        "import matplotlib.pyplot as plt\n",
        "import timeit"
      ],
      "execution_count": 1,
      "outputs": []
    },
    {
      "cell_type": "markdown",
      "metadata": {
        "id": "E2wcnL1ak8bG",
        "colab_type": "text"
      },
      "source": [
        "## Introdução"
      ]
    },
    {
      "cell_type": "markdown",
      "metadata": {
        "id": "7Y6wgDZulHVj",
        "colab_type": "text"
      },
      "source": [
        "\n",
        "Dado f, e um intervalo onde ela é continua e tem uma possivel intersecção com o eixo-x:\n",
        "\n",
        "Seja $f \\in C[a,b]$, dizemos que $x$ é solução quando $f(x) = 0$.\n",
        "\n",
        "Tal como $x - A*cos(2*x) - b = 0$\n",
        "\n",
        "Para resolver esse problema computacionalmente, utilizamos métodos iterativos. Assim, é necessário chutar o vetor $x_{0}$ e aproximar a cada iteração $x_{k}$ de $x$.\n",
        "\n",
        "Dessa forma, critérios de parada devem ser estabelecidos. \n",
        "\n",
        "$\\left\\{\\begin{matrix}\n",
        " (1)Limite\\space  de  \\space iterações & k & =  & k_{kmax}\\\\ \n",
        " (2)Erro \\space absoluto: & |x_{k} - x_{k-1}| & <  & e\\\\\n",
        " (3)Erro \\space relativo: & |x_{k} - x_{k-1}| & <  & e|x_k| \\\\\n",
        " (4)Teste \\space do \\space Resíduo: & |f(x_k)| & <  & e \\\\\n",
        "\\end{matrix}\\right.$\n",
        "\n",
        "O primeiro critério é indispensavel, para caso o método não convergir ou demorar para atingir o $|f(x_k)| < e$.Em aplicações, veremos que esses critérios estão sucetiveis a falsos positivos."
      ]
    },
    {
      "cell_type": "markdown",
      "metadata": {
        "id": "pFFXXiPXkxvA",
        "colab_type": "text"
      },
      "source": [
        "## Funções comuns"
      ]
    },
    {
      "cell_type": "code",
      "metadata": {
        "id": "EQBBvhtghs9S",
        "colab_type": "code",
        "colab": {}
      },
      "source": [
        "import time\n",
        "\n",
        "# Decorator timeit\n",
        "# Retorna o tempo de excução da função\n",
        "# Não modifica a função.\n",
        "# Para mais informações sobre decorators e timeit:\n",
        "# https://medium.com/pythonhive/python-decorator-to-measure-the-execution-time-of-methods-fa04cb6bb36d\n",
        "def timeit(method):\n",
        "    def timed(*args, **kw):\n",
        "        ts = time.time();\n",
        "        result = method(*args, **kw);\n",
        "\n",
        "        te = time.time();\n",
        "\n",
        "        # Armazenar resultado\n",
        "        if 'log_time' in kw:\n",
        "            name = kw.get('log_name', method.__name__);\n",
        "            kw['log_time'][name].append((te - ts) * 1000);\n",
        "        else:\n",
        "            print(\"%r  %2.5f ms\" % (method.__name__, (te - ts) * 1000));\n",
        "        return result\n",
        "    return timed"
      ],
      "execution_count": null,
      "outputs": []
    },
    {
      "cell_type": "markdown",
      "metadata": {
        "id": "4Vd2bqLKpwpr",
        "colab_type": "text"
      },
      "source": [
        "## Método da Bissecção"
      ]
    },
    {
      "cell_type": "markdown",
      "metadata": {
        "id": "plRZuFy4rIXK",
        "colab_type": "text"
      },
      "source": [
        "Esse método é simplesmente uma busca binária, em que o intervalo de busca é divido ao meio, mas sempre conferindo a possibilidade de a raiz está dentro do intervalo."
      ]
    },
    {
      "cell_type": "code",
      "metadata": {
        "id": "oYYE_u-Dv9SV",
        "colab_type": "code",
        "colab": {
          "base_uri": "https://localhost:8080/",
          "height": 373
        },
        "outputId": "4986cd72-6227-442f-a63d-a97d78f61daa"
      },
      "source": [
        " # Cria quadro\n",
        "fig, ax = plt.subplots(1,2, figsize=(15,6));\n",
        "\n",
        "# intervalo\n",
        "x = np.linspace(-1, 1);\n",
        "\n",
        "# f(x) = y\n",
        "y = []\n",
        "for i in x:\n",
        "  y.append(np.math.tan(i));\n",
        "\n",
        "y1 = []\n",
        "for i in x:\n",
        "  y1.append(1 - np.math.cos(i));\n",
        "\n",
        "# Centralizar eixos\n",
        "ax[0].spines['left'].set_position('center')\n",
        "ax[0].spines['bottom'].set_position('center')\n",
        "ax[1].spines['left'].set_position('center')\n",
        "\n",
        "# Plot time\n",
        "ax[0].plot(x, y);\n",
        "ax[1].plot(x, y1);\n",
        "\n",
        "plt.show();"
      ],
      "execution_count": 62,
      "outputs": [
        {
          "output_type": "display_data",
          "data": {
            "image/png": "[encoded data removed]",
            "text/plain": [
              "<Figure size 1080x432 with 2 Axes>"
            ]
          },
          "metadata": {
            "tags": [],
            "needs_background": "light"
          }
        }
      ]
    },
    {
      "cell_type": "markdown",
      "metadata": {
        "id": "KFyq3ZFUxhv0",
        "colab_type": "text"
      },
      "source": [
        "\n",
        "Note, pela figura 2, se a função é par no intervalo, e $|a| \\neq |b|$, então o método não pode calcular uma solução.\n",
        "\n",
        "Se queremos encontrar f(x) = tan(x) = 0 no intervalo [-1, 0.75].\n",
        "\n",
        "Pela figura 1, podemos observar que se f(X) passa por y = 0, então $f(x_1) * f(x_2) < 0$.\n",
        "\n",
        "Para estreitar o intervalo e aproximar-se da raiz, calcula-se o meio do intervalo $x_{mid} = (x_1 + x_2) /  2$\n",
        "\n",
        "$x_2$ recebe $x_{mid}$ se $f(x_1)f(x_{mid}) < 0$\n",
        "\n",
        "$x_1$ recebe $x_{mid}$ se $f(x_{mid})f(x_2) < 0$ \n",
        "\n",
        "O método começa a convergir quando o intervalo é suficientemente pequeno. $|x_1 - x_2| < e$\n",
        "\n",
        "Além disso, facilmente observa-se a complexidade como: $\\delta x$ é dividido por 2 a cada iteração. Portanto na iteração n temos $\\delta x / 2^n = e$ => $ n = \\log_2(\\delta x / e) $"
      ]
    },
    {
      "cell_type": "code",
      "metadata": {
        "id": "DGUCQBvYrEc8",
        "colab_type": "code",
        "colab": {}
      },
      "source": [
        "# Recebe uma função func, e o intervalo [a, b] onde há uma possível solução.\n",
        "def bisection(func, a, b, e=1.0e-9):\n",
        "  fa = func(a);\n",
        "  \n",
        "  if(fa == 0.0):\n",
        "    return a; \n",
        "  \n",
        "  fb = func(b);\n",
        "\n",
        "  if(fb == 0.0):\n",
        "    return b;\n",
        "\n",
        "  \n",
        "  try:\n",
        "    if( fa * fb > 0.0 ):\n",
        "      raise NameError('NoSolution');\n",
        "    \n",
        "    n = np.ceil(np.log(np.abs(b - a)/e)/np.log(2.0));\n",
        "    for i in np.arange(n):\n",
        "      mid = 0.5*(a + b);\n",
        "      fmid = func(mid);\n",
        "\n",
        "      if(fmid == 0.0):\n",
        "        return mid;\n",
        "      \n",
        "      if(fa * fmid < 0.0):\n",
        "        fb = fmid;\n",
        "        b = mid;\n",
        "      else:\n",
        "        fa = fmid;\n",
        "        a = mid;\n",
        "    return (a + b)/2.0;\n",
        "  except NameError:\n",
        "      print('This can not find a solution to this function in this range[a,b].')\n",
        "      raise"
      ],
      "execution_count": 72,
      "outputs": []
    },
    {
      "cell_type": "code",
      "metadata": {
        "id": "u9O9KhESBZqr",
        "colab_type": "code",
        "colab": {
          "base_uri": "https://localhost:8080/",
          "height": 367
        },
        "outputId": "2ab851ed-49e0-43b9-8080-fb196711576f"
      },
      "source": [
        "# Plot da tnagente no diferentes intervalos\n",
        "x_sample = [];\n",
        "\n",
        "x_sample.append(bisection(np.tan, -0.75, 0.75, e=1.0e-10));\n",
        "x_sample.append(bisection(np.tan, -1, 0.75, e=1.0e-10));\n",
        "x_sample.append(bisection(np.tan, -0.75, 1, e=1.0e-10));\n",
        "\n",
        "y_sample = [np.tan(x_sample[0]), np.tan(x_sample[1]), np.tan(x_sample[2])];\n",
        "\n",
        "# Cria quadro\n",
        "fig, ax = plt.subplots(1,1, figsize=(15,6));\n",
        "\n",
        "# intervalo\n",
        "x = np.linspace(-1e-10, 1e-10);\n",
        "\n",
        "# f(x) = y\n",
        "y = []\n",
        "for i in x:\n",
        "  y.append(np.math.tan(i));\n",
        "\n",
        "# Centralizar eixos\n",
        "ax.spines['left'].set_position('center')\n",
        "ax.spines['bottom'].set_position('center')\n",
        "\n",
        "# Plot time\n",
        "ax.plot(x, y);\n",
        "ax.scatter(x_sample, y_sample);\n",
        "\n",
        "plt.show();"
      ],
      "execution_count": 96,
      "outputs": [
        {
          "output_type": "display_data",
          "data": {
            "image/png": "[encoded data removed]",
            "text/plain": [
              "<Figure size 1080x432 with 1 Axes>"
            ]
          },
          "metadata": {
            "tags": [],
            "needs_background": "light"
          }
        }
      ]
    },
    {
      "cell_type": "markdown",
      "metadata": {
        "id": "2m8txG3ZC7Sk",
        "colab_type": "text"
      },
      "source": [
        "No gráfico acima, vemos que a escolha do intervalo interfere na resposta, porém ela possuí uma precisão pré estimada de $10^{-10}$.\n",
        "\n",
        "Estratégia: encontrar a tal que f(a) > 0 e f(b) < 0, então o método poe ser aplicado. "
      ]
    },
    {
      "cell_type": "markdown",
      "metadata": {
        "id": "JpN1O-_mHgEp",
        "colab_type": "text"
      },
      "source": [
        "## Método de Newton raphson / Secante"
      ]
    },
    {
      "cell_type": "markdown",
      "metadata": {
        "id": "yJ-BUklNIBOW",
        "colab_type": "text"
      },
      "source": [
        "Esse método exige que $f(x)$ seja diferenciavel $f'(x)$ e pode ser obtido a partir da Expansão de Taylor.\n",
        "\n",
        "Expansão de Taylor\n",
        "\n",
        "$f(x) \\approx f(x_k) + f'(x_k)(x - x_k)$\n",
        "\n",
        "Para $f(\\alpha) = 0$\n",
        "\n",
        "$0 \\approx f(x_k) + f'(x_k)(\\alpha - x_k)$\n",
        "\n",
        "$\\alpha \\approx x_k - (f(x_k)/f'(x_k))$\n",
        "\n",
        "Portanto:\n",
        "\n",
        "$(1) \\space x_{k+1} \\approx x_k - (f(x_k)/f'(x_k))$\n",
        "\n",
        "Para evitar o cáculo de $df/dx$, aproximaremos usando o método da secante. Note que para aproximar a derivada no ponto, são necessários dois pontos, então o chute incial consiste agora de dois chutes.\n",
        "\n",
        "$(2) \\space f'(x_k) \\approx (f(x_k) - f(x_{k-1})) / (x_l - x_{k-1})$\n",
        "\n",
        "Juntando $(1)$ e $(2)$\n",
        "\n",
        "$ x_{k+1} \\approx x_k - (f(x_k)(x_l - x_{k-1})/f(x_k) - f(x_{k-1}))$\n"
      ]
    },
    {
      "cell_type": "code",
      "metadata": {
        "id": "qB32QcIqPmDa",
        "colab_type": "code",
        "colab": {}
      },
      "source": [
        "def secant(func, a, b, x0, x1):"
      ],
      "execution_count": null,
      "outputs": []
    },
    {
      "cell_type": "code",
      "metadata": {
        "id": "C1w8C2pIiNhS",
        "colab_type": "code",
        "colab": {}
      },
      "source": [
        "# F(X) = 0\n",
        "def newtonRapshon_ji(f, x, tol = 1.0e-9):\n",
        "  def jacobiano(f, x):\n",
        "    #     | f1/dx  f1/dy  f1/dz |\n",
        "    # J = | f2/dx  f2/dy  f2/dz |\n",
        "    #     | f3/dx  f3/dy  f3/dz |\n",
        "    h = 1.0e-4\n",
        "    n = x.shape[0]\n",
        "    jac = np.zeros([n, n], dtype='float64')\n",
        "    f0 = f(x) # f0 = { f1(x), f2(x), ..., fn(x) }\n",
        "    for i in np.arange(n):\n",
        "      aux = x[i]\n",
        "      x[i] = aux + h  # x = {x0, ..., xi + h, ..., xn } ; avança x na direção ith\n",
        "      f1 = f(x)       # f1 = { f1/di, f2/di, ..., fn/di }\n",
        "      x[i] = aux\n",
        "      jac[:, i] = (f1 - f0) / h\n",
        "    return jac, f0\n",
        "  \n",
        "  for i in np.arange(30):\n",
        "    jac, f0 = jacobiano(f, x)\n",
        "  \n",
        "    # the solutions is near enough of f(X) ~ 0\n",
        "    if(np.sqrt(np.dot(f0, f0)) < tol):\n",
        "      return x\n",
        "    else:\n",
        "      jac_inv = inverter_matrix(jac)\n",
        "      \n",
        "      # x_k_new = x_k - (jacobiana_inversa @ F(x_k)) \n",
        "      dx = jac_inv.dot(f0)\n",
        "      x = x - dx\n",
        "      if(1.0 > np.max(np.abs(x))):\n",
        "        y = 1.0\n",
        "      else:\n",
        "        y = np.max(np.abs(x));\n",
        "      \n",
        "      # Se dx for indicar pouco deslocamento:\n",
        "      if(np.sqrt(np.dot(dx, dx)) < tol*y):\n",
        "        return x\n",
        "  print('The solution is far yet.')\n",
        "  return -1"
      ],
      "execution_count": null,
      "outputs": []
    },
    {
      "cell_type": "code",
      "metadata": {
        "id": "nMwT1Xuoxg6w",
        "colab_type": "code",
        "colab": {}
      },
      "source": [
        "def test_jac_inv():\n",
        "  x = np.array([0.5, 1.5], dtype='float64')\n",
        "  bad_guess = np.array([1.5, 2.5], dtype='float64')\n",
        "\n",
        "\n",
        "  startTimer()\n",
        "  print(newtonRapshon_j(f, np.copy(x)))\n",
        "  getTimer()\n",
        "\n",
        "  startTimer()\n",
        "  print(fsolve(f, x))\n",
        "  getTimer()\n",
        "\n",
        "  startTimer()\n",
        "  print(newtonRapshon_j(f, np.copy(bad_guess)))\n",
        "  getTimer()\n",
        "\n",
        "  startTimer()\n",
        "  print(fsolve(f, bad_guess))\n",
        "  getTimer()"
      ],
      "execution_count": null,
      "outputs": []
    },
    {
      "cell_type": "code",
      "metadata": {
        "id": "izkYTZUkxlZc",
        "colab_type": "code",
        "colab": {}
      },
      "source": [
        "def newtonRapshon_j(f, x, tol = 1.0e-9):\n",
        "  # F(X) = 0\n",
        "  # O critério de parada é a solução está próxima a zero,\n",
        "  # Ou -1 se estiver muito longe.\n",
        "  def jacobiano(f, x):\n",
        "    #     | f1/dx  f1/dy  f1/dz |\n",
        "    # J = | f2/dx  f2/dy  f2/dz |\n",
        "    #     | f3/dx  f3/dy  f3/dz |\n",
        "    h = 1.0e-4\n",
        "    n = x.shape[0]\n",
        "    jac = np.zeros([n, n], dtype='float64')\n",
        "    f0 = f(x) # f0 = { f1(x), f2(x), ..., fn(x) }\n",
        "    for i in np.arange(n):\n",
        "      aux = x[i]\n",
        "      x[i] = aux + h # x = {x0, ..., xi + h, ..., xn } ; avança x na direção ith\n",
        "      f1 = f(x)       # f1 = { f1/di, f2/di, ..., fn/di }\n",
        "      x[i] = aux\n",
        "      jac[:, i] = (f1 - f0) / h\n",
        "    \n",
        "    return jac, f0\n",
        "  \n",
        "  for i in np.arange(30):\n",
        "    jac, f0 = jacobiano(f, x)\n",
        "    if(np.sqrt(np.dot(f0, f0)) < tol):\n",
        "      return x\n",
        "    else:\n",
        "      A, b = gaussPivot(jac, -f0)\n",
        "      dx = backSubstituion(A, b)\n",
        "      x = x + dx\n",
        "      if(1.0 > np.max(np.abs(x))):\n",
        "        y = 1.0\n",
        "      else:\n",
        "        y = np.max(np.abs(x))\n",
        "      \n",
        "      if(np.sqrt(np.dot(dx, dx)) < tol*y):\n",
        "        return x\n",
        "  print('The solution is far yet.')\n",
        "  return -1"
      ],
      "execution_count": null,
      "outputs": []
    },
    {
      "cell_type": "markdown",
      "metadata": {
        "id": "0f95KhC9xzad",
        "colab_type": "text"
      },
      "source": [
        "# Aplicações"
      ]
    },
    {
      "cell_type": "markdown",
      "metadata": {
        "id": "DvDrafuZh7HW",
        "colab_type": "text"
      },
      "source": [
        "## A resolução da Equação da Circunferência\n",
        "\n",
        "Dado a equação do  circulo: \n",
        "\n",
        "$(x - a)^2 + (y - b)^2 = R^2$\n",
        "\n",
        "E três pontos que passam por ele $(8.21, 0), (0.34, 6.62), (5.96,-1.12)$ que retornam o raio.\n",
        "\n",
        "Encontra $a,b$ e $R$"
      ]
    },
    {
      "cell_type": "code",
      "metadata": {
        "id": "YYSBzABQhw6D",
        "colab_type": "code",
        "colab": {}
      },
      "source": [
        "def f_circ(a, b, r):\n",
        "  n = 3\n",
        "  f = np.zeros([n], dtype = 'float64')\n",
        "  \n",
        "  R = r*r;\n",
        "  f[0] = ((8.21 - a)*(8.21 - a)) + ((0.0 - b)*(0.0 - b)) - R\n",
        "  f[1] = ((0.34 - a)*(0.34 - a)) + ((6.62 - b)*(6.62 - b)) - R\n",
        "  f[2] = ((5.96 - a)*(5.96 - a)) + ((-1.12 - b)*(-1.12 - b)) - R\n",
        "  return f"
      ],
      "execution_count": null,
      "outputs": []
    },
    {
      "cell_type": "markdown",
      "metadata": {
        "id": "ky1anYr1yCAy",
        "colab_type": "text"
      },
      "source": [
        "## Pontos de interseção"
      ]
    },
    {
      "cell_type": "code",
      "metadata": {
        "id": "hfaH7X6YxrJm",
        "colab_type": "code",
        "colab": {}
      },
      "source": [
        "def f(x):\n",
        "  # Intersecção entre circulo e hipérbole:\n",
        "  # f1(x, y) = x^2 + y^2 - 3 = 0\n",
        "  # f2(x, y) = xy - 1 = 0\n",
        "  n = x.shape[0]\n",
        "  f = np.zeros([n], dtype = 'float64')\n",
        "  f[0] = (x[0]*x[0]) + (x[1]*x[1]) - 3\n",
        "  f[1] = (x[0]*x[1]) - 1\n",
        "  return f"
      ],
      "execution_count": null,
      "outputs": []
    },
    {
      "cell_type": "markdown",
      "metadata": {
        "id": "v7tM8LVXx2at",
        "colab_type": "text"
      },
      "source": [
        "## Aproximando raizes"
      ]
    }
  ]
}