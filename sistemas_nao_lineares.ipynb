{
  "nbformat": 4,
  "nbformat_minor": 0,
  "metadata": {
    "colab": {
      "name": "sistemas_nao_lineares.ipynb",
      "provenance": []
    },
    "kernelspec": {
      "name": "python3",
      "display_name": "Python 3"
    }
  },
  "cells": [
    {
      "cell_type": "code",
      "metadata": {
        "id": "kpBQV0-Zbiha",
        "colab_type": "code",
        "colab": {}
      },
      "source": [
        "import numpy as np\n",
        "import matplotlib.pyplot as plt\n",
        "import timeit"
      ],
      "execution_count": 1,
      "outputs": []
    },
    {
      "cell_type": "code",
      "metadata": {
        "id": "EQBBvhtghs9S",
        "colab_type": "code",
        "colab": {}
      },
      "source": [
        "import time\n",
        "\n",
        "# @Decorator timeit\n",
        "# Retorna o tempo de excução da função\n",
        "# Não modifica a função.\n",
        "# Para mais informações sobre decorators e timeit:\n",
        "# https://medium.com/pythonhive/python-decorator-to-measure-the-execution-time-of-methods-fa04cb6bb36d\n",
        "def timeit(method):\n",
        "    def timed(*args, **kw):\n",
        "        ts = time.time();\n",
        "        result = method(*args, **kw);\n",
        "\n",
        "        te = time.time();\n",
        "\n",
        "        # Armazenar resultado\n",
        "        if 'log_time' in kw:\n",
        "            name = kw.get('log_name', method.__name__);\n",
        "            kw['log_time'][name].append((te - ts) * 1000);\n",
        "        else:\n",
        "            print(\"%r  %2.5f ms\" % (method.__name__, (te - ts) * 1000));\n",
        "        return result\n",
        "    return timed"
      ],
      "execution_count": 2,
      "outputs": []
    },
    {
      "cell_type": "code",
      "metadata": {
        "id": "YYSBzABQhw6D",
        "colab_type": "code",
        "colab": {}
      },
      "source": [
        "def f_circ(a, b, r):\n",
        "  # Dado um circulo (x - a)^2 + (y - b)^2 = r^2\n",
        "  # Temos três pontos x = (x1, x2, x3) e y = (y1, y2, y3)\n",
        "  # encontre o quão a, b e r está distante.\n",
        "  n = 3\n",
        "  f = np.zeros([n], dtype = 'float64')\n",
        "  \n",
        "  R = r*r;\n",
        "  f[0] = ((8.21 - a)*(8.21 - a)) + ((0.0 - b)*(0.0 - b)) - R\n",
        "  f[1] = ((0.34 - a)*(0.34 - a)) + ((6.62 - b)*(6.62 - b)) - R\n",
        "  f[2] = ((5.96 - a)*(5.96 - a)) + ((-1.12 - b)*(-1.12 - b)) - R\n",
        "  return f"
      ],
      "execution_count": null,
      "outputs": []
    },
    {
      "cell_type": "markdown",
      "metadata": {
        "id": "DvDrafuZh7HW",
        "colab_type": "text"
      },
      "source": [
        "## A resolução da Equação da Circunferência\n",
        "\n",
        "$(x - a)^2 + (y - b)^2 = R^2$\n",
        "\n",
        "Temos três pontos x e três y $(x1, y1)...(x3,y3)$ que retornam o raio.\n",
        "\n",
        "Encontra $a,b$ e $R$"
      ]
    },
    {
      "cell_type": "code",
      "metadata": {
        "id": "C1w8C2pIiNhS",
        "colab_type": "code",
        "colab": {}
      },
      "source": [
        "def newtonRapshon_ji(f, x, tol = 1.0e-9):\n",
        "  # F(X) = 0\n",
        "  def jacobiano(f, x):\n",
        "    #     | f1/dx  f1/dy  f1/dz |\n",
        "    # J = | f2/dx  f2/dy  f2/dz |\n",
        "    #     | f3/dx  f3/dy  f3/dz |\n",
        "    h = 1.0e-4\n",
        "    n = x.shape[0]\n",
        "    jac = np.zeros([n, n], dtype='float64')\n",
        "    f0 = f(x) # f0 = { f1(x), f2(x), ..., fn(x) }\n",
        "    for i in np.arange(n):\n",
        "      aux = x[i]\n",
        "      x[i] = aux + h  # x = {x0, ..., xi + h, ..., xn } ; avança x na direção ith\n",
        "      f1 = f(x)       # f1 = { f1/di, f2/di, ..., fn/di }\n",
        "      x[i] = aux\n",
        "      jac[:, i] = (f1 - f0) / h\n",
        "    \n",
        "    return jac, f0\n",
        "  \n",
        "  for i in np.arange(30):\n",
        "    jac, f0 = jacobiano(f, x)\n",
        "  \n",
        "    # the solutions is near enough of f(X) ~ 0\n",
        "    if(np.sqrt(np.dot(f0, f0)) < tol):\n",
        "      return x\n",
        "    else:\n",
        "      jac_inv = inverter_matrix(jac)\n",
        "      \n",
        "      # x_k_new = x_k - (jacobiana_inversa @ F(x_k)) \n",
        "      dx = jac_inv.dot(f0)\n",
        "      x = x - dx\n",
        "      if(1.0 > np.max(np.abs(x))):\n",
        "        y = 1.0\n",
        "      else:\n",
        "        y = np.max(np.abs(x))\n",
        "      \n",
        "      # Se dx for indicar pouco deslocamento:\n",
        "      if(np.sqrt(np.dot(dx, dx)) < tol*y):\n",
        "        return x\n",
        "  print('The solution is far yet.')\n",
        "  return -1"
      ],
      "execution_count": null,
      "outputs": []
    },
    {
      "cell_type": "code",
      "metadata": {
        "id": "hfaH7X6YxrJm",
        "colab_type": "code",
        "colab": {}
      },
      "source": [
        "def f(x):\n",
        "  # Intersecção entre circulo e hipérbole:\n",
        "  # f1(x, y) = x^2 + y^2 - 3 = 0\n",
        "  # f2(x, y) = xy - 1 = 0\n",
        "  n = x.shape[0]\n",
        "  f = np.zeros([n], dtype = 'float64')\n",
        "  f[0] = (x[0]*x[0]) + (x[1]*x[1]) - 3\n",
        "  f[1] = (x[0]*x[1]) - 1\n",
        "  return f"
      ],
      "execution_count": null,
      "outputs": []
    },
    {
      "cell_type": "code",
      "metadata": {
        "id": "nMwT1Xuoxg6w",
        "colab_type": "code",
        "colab": {}
      },
      "source": [
        "def test_jac_inv():\n",
        "  x = np.array([0.5, 1.5], dtype='float64')\n",
        "  bad_guess = np.array([1.5, 2.5], dtype='float64')\n",
        "\n",
        "\n",
        "  startTimer()\n",
        "  print(newtonRapshon_j(f, np.copy(x)))\n",
        "  getTimer()\n",
        "\n",
        "  startTimer()\n",
        "  print(fsolve(f, x))\n",
        "  getTimer()\n",
        "\n",
        "  startTimer()\n",
        "  print(newtonRapshon_j(f, np.copy(bad_guess)))\n",
        "  getTimer()\n",
        "\n",
        "  startTimer()\n",
        "  print(fsolve(f, bad_guess))\n",
        "  getTimer()"
      ],
      "execution_count": null,
      "outputs": []
    },
    {
      "cell_type": "code",
      "metadata": {
        "id": "izkYTZUkxlZc",
        "colab_type": "code",
        "colab": {}
      },
      "source": [
        "def newtonRapshon_j(f, x, tol = 1.0e-9):\n",
        "  # F(X) = 0\n",
        "  # O critério de parada é a solução está próxima a zero,\n",
        "  # Ou -1 se estiver muito longe.\n",
        "  def jacobiano(f, x):\n",
        "    #     | f1/dx  f1/dy  f1/dz |\n",
        "    # J = | f2/dx  f2/dy  f2/dz |\n",
        "    #     | f3/dx  f3/dy  f3/dz |\n",
        "    h = 1.0e-4\n",
        "    n = x.shape[0]\n",
        "    jac = np.zeros([n, n], dtype='float64')\n",
        "    f0 = f(x) # f0 = { f1(x), f2(x), ..., fn(x) }\n",
        "    for i in np.arange(n):\n",
        "      aux = x[i]\n",
        "      x[i] = aux + h # x = {x0, ..., xi + h, ..., xn } ; avança x na direção ith\n",
        "      f1 = f(x)       # f1 = { f1/di, f2/di, ..., fn/di }\n",
        "      x[i] = aux\n",
        "      jac[:, i] = (f1 - f0) / h\n",
        "    \n",
        "    return jac, f0\n",
        "  \n",
        "  for i in np.arange(30):\n",
        "    jac, f0 = jacobiano(f, x)\n",
        "    if(np.sqrt(np.dot(f0, f0)) < tol):\n",
        "      return x\n",
        "    else:\n",
        "      A, b = gaussPivot(jac, -f0)\n",
        "      dx = backSubstituion(A, b)\n",
        "      x = x + dx\n",
        "      if(1.0 > np.max(np.abs(x))):\n",
        "        y = 1.0\n",
        "      else:\n",
        "        y = np.max(np.abs(x))\n",
        "      \n",
        "      if(np.sqrt(np.dot(dx, dx)) < tol*y):\n",
        "        return x\n",
        "  print('The solution is far yet.')\n",
        "  return -1"
      ],
      "execution_count": null,
      "outputs": []
    }
  ]
}