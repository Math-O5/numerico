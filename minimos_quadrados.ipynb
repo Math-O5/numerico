{
 "cells": [
  {
   "cell_type": "markdown",
   "metadata": {},
   "source": [
    "# **Método dos Mínimos Quadrados**\n",
    "---\n",
    "<ul>\n",
    "  <li><a href=\"#scrollTo=6T7Gy-Docn5C&uniqifier=1\">Mínimos Quadrados</a>\n",
    "  </li>\n",
    "  <ul>\n",
    "      <li><a href=\"#scrollTo=E2wcnL1ak8bG&uniqifier=1\">Introdução</a></li>\n",
    "    <li><a href=\"#scrollTo=pFFXXiPXkxvA&uniqifier=1\">Funções comuns</a></li>\n",
    "    <li>Aproximação Polinomial\n",
    "      <ul>\n",
    "          <li><a href=\"#scrollTo=4Vd2bqLKpwpr&uniqifier=1\">Caso Contínuo</a></li>\n",
    "          <li><a href=\"#scrollTo=JpN1O-_mHgEp&uniqifier=1\">Caso Discreto</a></li>\n",
    "      </ul>\n",
    "    </li>\n",
    "    <li><a href=\"#scrollTo=0f95KhC9xzad&uniqifier=1\">Aplicações</a></li>\n",
    "  </ul>"
   ]
  },
  {
   "cell_type": "code",
   "execution_count": 1,
   "metadata": {},
   "outputs": [],
   "source": [
    "import matplotlib.pyplot as plt\n",
    "import numpy as np\n",
    "import math as m\n",
    "import timeit"
   ]
  },
  {
   "cell_type": "markdown",
   "metadata": {},
   "source": [
    "## **Introdução**"
   ]
  },
  {
   "cell_type": "markdown",
   "metadata": {},
   "source": [
    "Dado $f$:\n",
    "\n",
    "Seja $f$ uma função qualquer, e $V$ um espaço de funções conhecidas, gerado pelas funções {$\\varphi_0$ , $\\dots$ , $\\varphi_n$}.\n",
    "\n",
    "Queremos encontrar uma combinação de funções conhecidas $F$, que aproxime-se de $f$, ou seja, que minimize a distância entre $f$ e $F$.\n",
    "\n",
    "Sendo $F = \\alpha_0\\varphi_0 + \\dots + \\alpha_n\\varphi_n$.\n",
    "\n",
    "Para encontrar $F$, precisamos resolver o seguinte sistema:\n",
    "\n",
    "$\\begin{bmatrix}\n",
    "  [\\varphi_0, \\varphi_0] & \n",
    "    \\dots & \n",
    "    [\\varphi_0, \\varphi_n] \\\\[1ex]\n",
    "  \\vdots & \n",
    "     & \n",
    "    \\vdots \\\\[1ex]\n",
    "  [\\varphi_n, \\varphi_0] & \n",
    "    \\dots & \n",
    "    [\\varphi_n, \\varphi_n]\n",
    "\\end{bmatrix}$\n",
    "$\\begin{bmatrix}\n",
    "  \\alpha_0 \\\\[1ex]\n",
    "  \\vdots \\\\[1ex]\n",
    "  \\alpha_n\n",
    "\\end{bmatrix}$ = \n",
    "$\\begin{bmatrix}\n",
    "  [f, \\varphi_0] \\\\[1ex]\n",
    "  \\vdots \\\\[1ex]\n",
    "  [f, \\varphi_n]\n",
    "\\end{bmatrix}$\n",
    "\n",
    "Para encontrar $F$ vamos utilizar a Aproximação Polinomial.\n",
    "\n",
    "---"
   ]
  },
  {
   "cell_type": "markdown",
   "metadata": {},
   "source": [
    "## Decorator para medir tempo."
   ]
  },
  {
   "cell_type": "code",
   "execution_count": 2,
   "metadata": {},
   "outputs": [],
   "source": [
    "import time\n",
    "\n",
    "# Decorator timeit\n",
    "# Retorna o tempo de excução da função\n",
    "# Não modifica a função.\n",
    "# Para mais informações sobre decorators e timeit:\n",
    "# https://medium.com/pythonhive/python-decorator-to-measure-the-execution-time-of-methods-fa04cb6bb36d\n",
    "def timeit(method):\n",
    "    def timed(*args, **kw):\n",
    "        ts = time.time();\n",
    "        result = method(*args, **kw);\n",
    "\n",
    "        te = time.time();\n",
    "\n",
    "        # Armazenar resultado\n",
    "        if 'log_time' in kw:\n",
    "            name = kw.get('log_name', method.__name__);\n",
    "            kw['log_time'][name].append((te - ts) * 1000);\n",
    "        else:\n",
    "            print(\"%r  %2.5f ms\" % (method.__name__, (te - ts) * 1000));\n",
    "        return result\n",
    "    return timed"
   ]
  },
  {
   "cell_type": "markdown",
   "metadata": {},
   "source": [
    "---"
   ]
  },
  {
   "cell_type": "markdown",
   "metadata": {},
   "source": [
    "## Aproximação Polinomial"
   ]
  },
  {
   "cell_type": "markdown",
   "metadata": {},
   "source": [
    "### Caso Contínuo"
   ]
  },
  {
   "cell_type": "markdown",
   "metadata": {},
   "source": [
    "No caso discreto, queremos aproximar a função $f$ de um polinômio $P_m$:\n",
    "\n",
    "$f(x) \\approx P_m(x) = \\alpha_0 + \\alpha_1x + \\dots + \\alpha_mx^m$\n",
    "\n",
    "Como sabemos que $B$ = {$1, x, x^2, \\dots, x^m$} é base de $P_m$, temos que resolver os seguinte sistema linear para encontrar $P_m(X)$:\n",
    "\n",
    "$\\begin{bmatrix}\n",
    "  [1, 1] &\n",
    "    [1, x] &\n",
    "    \\dots & \n",
    "    [1, x^m] \\\\[1ex]\n",
    "  [x, 1] &\n",
    "    [x, x] &\n",
    "    \\dots & \n",
    "    [x, x^m] \\\\[1ex]\n",
    "  \\vdots & \n",
    "    \\vdots &\n",
    "    \\dots &\n",
    "    \\vdots \\\\[1ex]\n",
    "  [x^m, 1] &\n",
    "    [x^m, x] &\n",
    "    \\dots & \n",
    "    [x^m, x^m]\n",
    "\\end{bmatrix}$\n",
    "$\\begin{bmatrix}\n",
    "  \\alpha_0 \\\\[1ex]\n",
    "  \\alpha_1 \\\\[1ex]\n",
    "  \\vdots \\\\[1ex]\n",
    "  \\alpha_m\n",
    "\\end{bmatrix}$ = \n",
    "$\\begin{bmatrix}\n",
    "  [1, f] \\\\[1ex]\n",
    "  [x, f] \\\\[1ex]\n",
    "  \\vdots \\\\[1ex]\n",
    "  [x^m, f]\n",
    "\\end{bmatrix}$\n",
    "\n",
    "Sendo $[a, b]$ = $\\int_{0}^{1}a(x)b(x)dx$"
   ]
  },
  {
   "cell_type": "code",
   "execution_count": 3,
   "metadata": {},
   "outputs": [],
   "source": [
    "def Cholesky(M):\n",
    "    M_copy = np.tril(M)\n",
    "    row = M.shape[0]\n",
    "    \n",
    "    for x in range(row):\n",
    "        for y in range(x+1):\n",
    "            sum_ = 0\n",
    "            for z in range(y):\n",
    "                sum_ = sum_ + M_copy[x][z]*M_copy[y][z]\n",
    "            if(x == y):\n",
    "                M_copy[x][y] = m.sqrt(M_copy[x][y]-sum_)\n",
    "            else:\n",
    "                M_copy[x][y] = (1/M_copy[y][y]*(M_copy[x][y]-sum_))\n",
    "    return M_copy\n",
    "\n",
    "def lower(L, N):\n",
    "    row = L.shape[0]\n",
    "    z = np.zeros(row)\n",
    "    \n",
    "    for x in range(row):\n",
    "        z[x] = (N[x]-L[x,0:x].dot(z[0:x]))/L[x,x]\n",
    "    \n",
    "    return z\n",
    "\n",
    "def upper(U, z):\n",
    "    row = U.shape[0]\n",
    "    alpha = np.zeros(row)\n",
    "    \n",
    "    for x in range(row-1, -1, -1):\n",
    "        alpha[x] = (z[x]-U[x,x+1:row].dot(alpha[x+1:row]))/U[x,x]\n",
    "        \n",
    "    return alpha\n",
    "\n",
    "#M * alpha = N\n",
    "def continuous(M, N):\n",
    "    #Fatoração de Cholesky de M\n",
    "    new_M = Cholesky(M)\n",
    "    \n",
    "    #Calculando alpha\n",
    "    z = lower(new_M, N)\n",
    "    alpha = upper(np.transpose(new_M), z)\n",
    "    \n",
    "    return alpha"
   ]
  },
  {
   "cell_type": "markdown",
   "metadata": {},
   "source": [
    "### Caso Discreto"
   ]
  },
  {
   "cell_type": "markdown",
   "metadata": {},
   "source": [
    "No caso discreto, conhecemos (n+1) pares de pontos que pertencem a função $f$, então consideramos:\n",
    "\n",
    "$y_i = f(x_i)$\n",
    "\n",
    "Sendo $(x_i, y_i)$ os pontos conhecidos, e i = 0, 1, ..., n-1, n.\n",
    "\n",
    "Assim como no caso contínuo, queremos aproximar a função $f$ de um polinômio $P_m$:\n",
    "\n",
    "$f(x) \\approx P_m(x) = \\alpha_0 + \\alpha_1x + \\dots + \\alpha_mx^m$, m < n\n",
    "\n",
    "\n",
    "Sabendo que:\n",
    "\n",
    "$P_m(x_0) = \\alpha_0 + \\alpha_1x_0 + \\alpha_2x_0^2 + \\dots + \\alpha_mx_0^m$\n",
    "\n",
    "$P_m(x_1) = \\alpha_0 + \\alpha_1x_1 + \\alpha_2x_1^2 + \\dots + \\alpha_mx_1^m$\n",
    "\n",
    "$\\vdots$\n",
    "\n",
    "$P_m(x_0) = \\alpha_0 + \\alpha_1x_0 + \\alpha_2x_0^2 + \\dots + \\alpha_mx_0^m$\n",
    "\n",
    "e supondo que $p = (P_m(x_0), P_m(x_1), \\dots, P_m(x_n))$\n",
    "\n",
    "Temos que:\n",
    "\n",
    "$p = \\alpha_0$\n",
    "$\\begin{bmatrix}\n",
    "  1 \\\\[1ex]\n",
    "  1 \\\\[1ex]\n",
    "  \\vdots \\\\[1ex]\n",
    "  1\n",
    "\\end{bmatrix}$ +\n",
    " $\\alpha_1$\n",
    "$\\begin{bmatrix}\n",
    "  x_0 \\\\[1ex]\n",
    "  x_1 \\\\[1ex]\n",
    "  \\vdots \\\\[1ex]\n",
    "  x_n\n",
    "\\end{bmatrix}$ +\n",
    " $\\alpha_2$\n",
    "$\\begin{bmatrix}\n",
    "  x_0^2 \\\\[1ex]\n",
    "  x_1^2 \\\\[1ex]\n",
    "  \\vdots \\\\[1ex]\n",
    "  x_n^2\n",
    "\\end{bmatrix}$ +\n",
    "$\\dots$ +\n",
    "$\\alpha_m$\n",
    "$\\begin{bmatrix}\n",
    "  x_0^m \\\\[1ex]\n",
    "  x_1^m \\\\[1ex]\n",
    "  \\vdots \\\\[1ex]\n",
    "  x_n^m\n",
    "\\end{bmatrix}$\n",
    "\n",
    "Supondo que $Y = (y_0, y_1, \\dots, y_n)$\n",
    "\n",
    "E sabendo que o conjunto $U = (u_0, u_1, \\dots, u_n)$ é base. Sendo:\n",
    "\n",
    "$u_0 = [1, 1, \\dots, 1]$\n",
    "\n",
    "$u_1 = [x_0, x_1, \\dots, x_n]$\n",
    "\n",
    "$u_2 = [x_0^2, x_1^2, \\dots, x_n^2]$\n",
    "\n",
    "$\\vdots$\n",
    "\n",
    "$u_m = [x_0^m, x_1^m, \\dots, x_n^m]$\n",
    "\n",
    "Temos que resolver o seguinte sistema linear para encontrar $P_m(x)$:\n",
    "\n",
    "$\\begin{bmatrix}\n",
    "  [u_0, u_0] &\n",
    "    [u_0, u_1] &\n",
    "    \\dots & \n",
    "    [u_0, u_m] \\\\[1ex]\n",
    "  [u_1, u_0] &\n",
    "    [u_1, u_1] &\n",
    "    \\dots & \n",
    "    [u_1, u_m] \\\\[1ex]\n",
    "  \\vdots & \n",
    "    \\vdots &\n",
    "    \\dots &\n",
    "    \\vdots \\\\[1ex]\n",
    "  [u_m, u_0] &\n",
    "    [u_m, u_1] &\n",
    "    \\dots & \n",
    "    [u_m, u_m]\n",
    "\\end{bmatrix}$\n",
    "$\\begin{bmatrix}\n",
    "  \\alpha_0 \\\\[1ex]\n",
    "  \\alpha_1 \\\\[1ex]\n",
    "  \\vdots \\\\[1ex]\n",
    "  \\alpha_m\n",
    "\\end{bmatrix}$ = \n",
    "$\\begin{bmatrix}\n",
    "  [u_0, Y] \\\\[1ex]\n",
    "  [u_1, Y] \\\\[1ex]\n",
    "  \\vdots \\\\[1ex]\n",
    "  [u_m, Y]\n",
    "\\end{bmatrix}$\n",
    "\n",
    "Sendo $[a, b]$ = $\\sum_{k=0}^{n}a_kb_k$\n",
    "\n",
    "Esse sistema pode ser reescrito da seguinte forma:\n",
    "\n",
    "$\\begin{bmatrix}\n",
    "  1 &\n",
    "    1 &\n",
    "    \\dots & \n",
    "    1 \\\\[1ex]\n",
    "  x_0 &\n",
    "    x_1 &\n",
    "    \\dots & \n",
    "    x_n \\\\[1ex]\n",
    "  \\vdots & \n",
    "    \\vdots &\n",
    "    \\dots &\n",
    "    \\vdots \\\\[1ex]\n",
    "  x_0^m &\n",
    "    x_1^m &\n",
    "    \\dots & \n",
    "    x_n^m\n",
    "\\end{bmatrix}$\n",
    "$\\begin{bmatrix}\n",
    "  1 &\n",
    "    x_0 &\n",
    "    \\dots & \n",
    "    x_0^m \\\\[1ex]\n",
    "  1 &\n",
    "    x_1 &\n",
    "    \\dots & \n",
    "    x_1^m \\\\[1ex]\n",
    "  \\vdots & \n",
    "    \\vdots &\n",
    "    \\dots &\n",
    "    \\vdots \\\\[1ex]\n",
    "  1 &\n",
    "    x_n &\n",
    "    \\dots & \n",
    "    x_n^m \\\\[1ex]\n",
    "\\end{bmatrix}$\n",
    "$\\begin{bmatrix}\n",
    "  \\alpha_0 \\\\[1ex]\n",
    "  \\alpha_1 \\\\[1ex]\n",
    "  \\vdots \\\\[1ex]\n",
    "  \\alpha_m\n",
    "\\end{bmatrix}$ = \n",
    "$\\begin{bmatrix}\n",
    "  1 &\n",
    "    1 &\n",
    "    \\dots & \n",
    "    1 \\\\[1ex]\n",
    "  x_0 &\n",
    "    x_1 &\n",
    "    \\dots & \n",
    "    x_n \\\\[1ex]\n",
    "  \\vdots & \n",
    "    \\vdots &\n",
    "    \\dots &\n",
    "    \\vdots \\\\[1ex]\n",
    "  x_0^m &\n",
    "    x_1^m &\n",
    "    \\dots & \n",
    "    x_n^m\n",
    "\\end{bmatrix}$\n",
    "$\\begin{bmatrix}\n",
    "  y_0 \\\\[1ex]\n",
    "  y_1 \\\\[1ex]\n",
    "  \\vdots \\\\[1ex]\n",
    "  y_m\n",
    "\\end{bmatrix}$\n",
    "\n",
    "Ou seja:\n",
    "\n",
    "$M^TM\\alpha = M^TY \\Rightarrow \\alpha = (M^TM)^{-1}M^TY$"
   ]
  },
  {
   "cell_type": "code",
   "execution_count": 4,
   "metadata": {},
   "outputs": [],
   "source": [
    "# x e y: vetores de dados\n",
    "# k = grau do Polinômio\n",
    "def discrete(x, y, k):\n",
    "    M = np.vander(x, k).astype('double')\n",
    "    A = np.transpose(M).dot(M).astype('double')\n",
    "    B = np.transpose(M).dot(y).astype('double')\n",
    "    alpha = continuous(A, B)\n",
    "    return alpha"
   ]
  },
  {
   "cell_type": "markdown",
   "metadata": {},
   "source": [
    "---"
   ]
  },
  {
   "cell_type": "markdown",
   "metadata": {},
   "source": [
    "## Aplicações"
   ]
  },
  {
   "cell_type": "markdown",
   "metadata": {},
   "source": [
    "### Caso Contínuo (Aproximação de funções mais complexas para funções mais simples)"
   ]
  },
  {
   "cell_type": "markdown",
   "metadata": {},
   "source": [
    "Utilizando como exemplo a função $f(x) = 4x^3, 0 < x < 1$, e querendo aproximá-la do Polinômio $P_2(x) = \\alpha_0 + \\alpha_1x$\n",
    "\n",
    "Temos o seguinte sistema linear para resolver:\n",
    "\n",
    "$\\begin{bmatrix}\n",
    "  1 &\n",
    "    \\frac{1}{2} \\\\[1ex]\n",
    "  \\frac{1}{2} &\n",
    "    \\frac{1}{3}\n",
    "\\end{bmatrix}$\n",
    "$\\begin{bmatrix}\n",
    "  \\alpha_0 \\\\[1ex]\n",
    "  \\alpha_1\n",
    "\\end{bmatrix}$ = \n",
    "$\\begin{bmatrix}\n",
    "  1 \\\\[1ex]\n",
    "  \\frac{4}{5}\n",
    "\\end{bmatrix}$\n",
    "\n",
    "Queremos encontrar $F(x) = \\alpha_0 + \\alpha_1x$"
   ]
  },
  {
   "cell_type": "code",
   "execution_count": 5,
   "metadata": {},
   "outputs": [
    {
     "name": "stdout",
     "output_type": "stream",
     "text": [
      "F(x) = -0.8 + 3.6x\n"
     ]
    }
   ],
   "source": [
    "M = np.array([[    1.0, 1.0/2.0],    \n",
    "              [1.0/2.0, 1.0/3.0]], dtype='double')\n",
    "N = np.array( [    1.0, 4.0/5.0])\n",
    "\n",
    "alpha = continuous(M, N)\n",
    "\n",
    "print(\"F(x) = \", (\"%.1f\"%alpha[0]), \" + \", (\"%.1f\"%alpha[1]), \"x\", sep='')"
   ]
  },
  {
   "cell_type": "code",
   "execution_count": 6,
   "metadata": {},
   "outputs": [
    {
     "data": {
      "image/png": "[encoded data removed]",
      "text/plain": [
       "<Figure size 432x288 with 1 Axes>"
      ]
     },
     "metadata": {
      "needs_background": "light"
     },
     "output_type": "display_data"
    }
   ],
   "source": [
    "x = np.linspace(0,1)\n",
    "f = 4*(x**3)\n",
    "F = -0.8 + 3.6*x\n",
    "\n",
    "fig = plt.figure()\n",
    "ax = fig.add_subplot(1, 1, 1)\n",
    "ax.spines['left'].set_position('center')\n",
    "ax.spines['bottom'].set_position('center')\n",
    "ax.spines['right'].set_color('none')\n",
    "ax.spines['top'].set_color('none')\n",
    "ax.xaxis.set_ticks_position('bottom')\n",
    "ax.yaxis.set_ticks_position('left')\n",
    "\n",
    "plt.plot(x,f, 'r')\n",
    "plt.plot(x,F, 'g')\n",
    "\n",
    "plt.show()"
   ]
  },
  {
   "cell_type": "markdown",
   "metadata": {},
   "source": [
    "No gráfico acima podemos ver a função f(x) em vermelho, e F(x) em verde\n",
    "\n",
    "---"
   ]
  },
  {
   "cell_type": "markdown",
   "metadata": {},
   "source": [
    "Podemos também utilizar como exemplo a função $g(x) = \\cos(\\pi x)$, com o objetivo de aproximá-la do Polinômio $P_3 = \\alpha_0 + \\alpha_1x + \\alpha_2x^2$\n",
    "\n",
    "$\\begin{bmatrix}\n",
    "  1 &\n",
    "    \\frac{1}{2} &\n",
    "    \\frac{1}{3} \\\\[1ex]\n",
    "  \\frac{1}{2} &\n",
    "    \\frac{1}{3} &\n",
    "    \\frac{1}{4} \\\\[1ex]\n",
    "  \\frac{1}{3} &\n",
    "    \\frac{1}{4} &\n",
    "    \\frac{1}{5}  \n",
    "\\end{bmatrix}$\n",
    "$\\begin{bmatrix}\n",
    "  \\alpha_0 \\\\[1ex]\n",
    "  \\alpha_1 \\\\[1ex]\n",
    "  \\alpha_2\n",
    "\\end{bmatrix}$ = \n",
    "$\\begin{bmatrix}\n",
    "  0 \\\\[1ex]\n",
    "   \\frac{-2}{\\pi^2} \\\\[1ex]\n",
    "   \\frac{-2}{\\pi^2}\n",
    "\\end{bmatrix}$\n",
    "\n",
    "Queremos encontrar $G(x) = \\alpha_0 + \\alpha_1x + \\alpha_2x^2$"
   ]
  },
  {
   "cell_type": "code",
   "execution_count": 7,
   "metadata": {},
   "outputs": [
    {
     "name": "stdout",
     "output_type": "stream",
     "text": [
      "G(x) = 1.2159 + -2.4317x + 0.0000x²\n"
     ]
    }
   ],
   "source": [
    "M = np.array([[    1.0, 1.0/2.0, 1.0/3.0],  \n",
    "              [1.0/2.0, 1.0/3.0, 1.0/4.0],\n",
    "              [1.0/3.0, 1.0/4.0, 1.0/5.0]], dtype='double')\n",
    "N = np.array( [    0.0, -2/(m.pi**2), -2/(m.pi**2)])\n",
    "\n",
    "alpha = continuous(M, N)\n",
    "\n",
    "print(\"G(x) = \", (\"%.4f\"%alpha[0]), \" + \", (\"%.4f\"%alpha[1]), \"x\", \" + \", (\"%.4f\"%alpha[2]), \"x²\" , sep='')"
   ]
  },
  {
   "cell_type": "code",
   "execution_count": 8,
   "metadata": {},
   "outputs": [
    {
     "data": {
      "image/png": "[encoded data removed]",
      "text/plain": [
       "<Figure size 432x288 with 1 Axes>"
      ]
     },
     "metadata": {
      "needs_background": "light"
     },
     "output_type": "display_data"
    }
   ],
   "source": [
    "x = np.linspace(0,1)\n",
    "g = np.cos(m.pi*x)\n",
    "G = 1.2159 -2.4317*x\n",
    "\n",
    "fig = plt.figure()\n",
    "ax = fig.add_subplot(1, 1, 1)\n",
    "ax.spines['left'].set_position('center')\n",
    "ax.spines['bottom'].set_position('center')\n",
    "ax.spines['right'].set_color('none')\n",
    "ax.spines['top'].set_color('none')\n",
    "ax.xaxis.set_ticks_position('bottom')\n",
    "ax.yaxis.set_ticks_position('left')\n",
    "\n",
    "plt.plot(x,g, 'r')\n",
    "plt.plot(x,G, 'g')\n",
    "\n",
    "plt.show()"
   ]
  },
  {
   "cell_type": "markdown",
   "metadata": {},
   "source": [
    "No gráfico acima podemos ver a função g(x) em vermelho, e G(x) em verde\n",
    "\n",
    "---"
   ]
  },
  {
   "cell_type": "markdown",
   "metadata": {},
   "source": [
    "### Caso Discreto (Aproximação de pares de pontos para uma função)"
   ]
  },
  {
   "cell_type": "markdown",
   "metadata": {},
   "source": [
    "Utilizando como o exemplo o seguinte conjunto de dados, que se referem a densidade do ar em diferentes alturas:\n",
    "\n",
    "<table>\n",
    "  <tr>\n",
    "    <th style=\"text-align:center\">Height (Km)</th>\n",
    "    <th style=\"text-align:center\">$\\rho$</th>\n",
    "  </tr>\n",
    "  <tr>\n",
    "    <td style=\"text-align:center\">0</td>\n",
    "    <td style=\"text-align:center\">1</td>\n",
    "  </tr>\n",
    "  <tr>\n",
    "    <td style=\"text-align:center\">1.525</td>\n",
    "    <td style=\"text-align:center\">0.8617</td>\n",
    "  </tr>\n",
    "  <tr>\n",
    "    <td style=\"text-align:center\">3.050</td>\n",
    "    <td style=\"text-align:center\">0.7385</td>\n",
    "  </tr>\n",
    "  <tr>\n",
    "    <td style=\"text-align:center\">4.575</td>\n",
    "    <td style=\"text-align:center\">0.6292</td>\n",
    "  </tr>\n",
    "  <tr>\n",
    "    <td style=\"text-align:center\">6.10</td>\n",
    "    <td style=\"text-align:center\">0.5328</td>\n",
    "  </tr>\n",
    "  <tr>\n",
    "    <td style=\"text-align:center\">7.625</td>\n",
    "    <td style=\"text-align:center\">0.4481</td>\n",
    "  </tr>\n",
    "  <tr>\n",
    "    <td style=\"text-align:center\">9.150</td>\n",
    "    <td style=\"text-align:center\">0.3741</td>\n",
    "  </tr>\n",
    "</table>\n",
    "\n",
    "Queremos encontrar uma relação entre os dados que seja um polinômio de grau 2."
   ]
  },
  {
   "cell_type": "code",
   "execution_count": 9,
   "metadata": {},
   "outputs": [
    {
     "name": "stdout",
     "output_type": "stream",
     "text": [
      "r = 0.0028 + -0.0934h + 0.9989h²\n"
     ]
    }
   ],
   "source": [
    "# @TODO: Arrumar código do caso discreto\n",
    "x = np.array([0, 1.5250, 3.0500, 4.5750, 6.1000, 7.6250, 9.1500])\n",
    "y = np.array([1, 0.8617, 0.7385, 0.6292, 0.5328, 0.4481, 0.3741])\n",
    "\n",
    "alpha = discrete(x, y, 3)\n",
    "print(\"r = \", (\"%.4f\"%alpha[0]), \" + \", (\"%.4f\"%alpha[1]), \"h\", \" + \", (\"%.4f\"%alpha[2]), \"h²\" , sep='')"
   ]
  },
  {
   "cell_type": "code",
   "execution_count": 10,
   "metadata": {},
   "outputs": [
    {
     "data": {
      "image/png": "[encoded data removed]",
      "text/plain": [
       "<Figure size 432x288 with 1 Axes>"
      ]
     },
     "metadata": {
      "needs_background": "light"
     },
     "output_type": "display_data"
    }
   ],
   "source": [
    "plt.plot([0, 1.5250, 3.0500, 4.5750, 6.1000, 7.6250, 9.1500], [1, 0.8617, 0.7385, 0.6292, 0.5328, 0.4481, 0.3741], 'ro')\n",
    "plt.axis([0, 10, 0, 1])\n",
    "\n",
    "h = np.linspace(0,10)\n",
    "r = 0.0028 -0.0934*h + (0.9989*h)**2\n",
    "plt.plot(h,r, 'g')\n",
    "\n",
    "plt.show()"
   ]
  },
  {
   "cell_type": "code",
   "execution_count": null,
   "metadata": {},
   "outputs": [],
   "source": []
  }
 ],
 "metadata": {
  "kernelspec": {
   "display_name": "Python 3",
   "language": "python",
   "name": "python3"
  },
  "language_info": {
   "codemirror_mode": {
    "name": "ipython",
    "version": 3
   },
   "file_extension": ".py",
   "mimetype": "text/x-python",
   "name": "python",
   "nbconvert_exporter": "python",
   "pygments_lexer": "ipython3",
   "version": "3.8.2"
  }
 },
 "nbformat": 4,
 "nbformat_minor": 4
}
