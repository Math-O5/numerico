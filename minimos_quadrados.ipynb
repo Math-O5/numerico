{
 "cells": [
  {
   "cell_type": "markdown",
   "metadata": {},
   "source": [
    "# **Método dos Mínimos Quadrados**\n",
    "---\n",
    "<ul>\n",
    "  <li><a href=\"#scrollTo=6T7Gy-Docn5C&uniqifier=1\">Mínimos Quadrados</a>\n",
    "  </li>\n",
    "  <ul>\n",
    "      <li><a href=\"#scrollTo=E2wcnL1ak8bG&uniqifier=1\">Introdução</a></li>\n",
    "    <li><a href=\"#scrollTo=pFFXXiPXkxvA&uniqifier=1\">Funções comuns</a></li>\n",
    "    <li>Aproximação Polinomial\n",
    "      <ul>\n",
    "          <li><a href=\"#scrollTo=4Vd2bqLKpwpr&uniqifier=1\">Caso Contínuo</a></li>\n",
    "          <li><a href=\"#scrollTo=JpN1O-_mHgEp&uniqifier=1\">Caso Discreto</a></li>\n",
    "      </ul>\n",
    "    </li>\n",
    "    <li><a href=\"#scrollTo=0f95KhC9xzad&uniqifier=1\">Aplicações</a></li>\n",
    "  </ul>"
   ]
  },
  {
   "cell_type": "code",
   "execution_count": 1,
   "metadata": {},
   "outputs": [],
   "source": [
    "import numpy as np\n",
    "import matplotlib.pyplot as plt\n",
    "import timeit"
   ]
  },
  {
   "cell_type": "markdown",
   "metadata": {},
   "source": [
    "## **Introdução**"
   ]
  },
  {
   "cell_type": "markdown",
   "metadata": {},
   "source": [
    "Dado $f$:\n",
    "\n",
    "Seja $f$ uma função qualquer, e $V$ um espaço de funções conhecidas, gerado pelas funções {$φ_0$ , $\\dots$ , $φ_n$}.\n",
    "\n",
    "Queremos encontrar uma combinação de funções conhecidas $F$, que aproxime-se de $f$, ou seja, que minimize a distância entre $f$ e $F$.\n",
    "\n",
    "Sendo $F$ = $α_0$$φ_0$ + $\\dots$ + $α_n$$φ_n$.\n",
    "\n",
    "Para encontrar $F$, precisamos resolver o seguinte sistema:\n",
    "\n",
    "$\\begin{bmatrix}\n",
    "  [φ_0, φ_0] & \n",
    "    \\dots & \n",
    "    [φ_0, φ_n] \\\\[1ex]\n",
    "  \\vdots & \n",
    "     & \n",
    "    \\vdots \\\\[1ex]\n",
    "  [φ_n, φ_0] & \n",
    "    \\dots & \n",
    "    [φ_n, φ_n]\n",
    "\\end{bmatrix}$\n",
    "$\\begin{bmatrix}\n",
    "  α_0 \\\\[1ex]\n",
    "  \\vdots \\\\[1ex]\n",
    "  α_n\n",
    "\\end{bmatrix}$ = \n",
    "$\\begin{bmatrix}\n",
    "  [f, φ_0] \\\\[1ex]\n",
    "  \\vdots \\\\[1ex]\n",
    "  [f, φ_n]\n",
    "\\end{bmatrix}$\n",
    "\n",
    "Para encontrar $F$ vamos utilizar a Aproximação Polinomial."
   ]
  },
  {
   "cell_type": "markdown",
   "metadata": {},
   "source": [
    "## Decorator para medir tempo."
   ]
  },
  {
   "cell_type": "code",
   "execution_count": 2,
   "metadata": {},
   "outputs": [],
   "source": [
    "import time\n",
    "\n",
    "# Decorator timeit\n",
    "# Retorna o tempo de excução da função\n",
    "# Não modifica a função.\n",
    "# Para mais informações sobre decorators e timeit:\n",
    "# https://medium.com/pythonhive/python-decorator-to-measure-the-execution-time-of-methods-fa04cb6bb36d\n",
    "def timeit(method):\n",
    "    def timed(*args, **kw):\n",
    "        ts = time.time();\n",
    "        result = method(*args, **kw);\n",
    "\n",
    "        te = time.time();\n",
    "\n",
    "        # Armazenar resultado\n",
    "        if 'log_time' in kw:\n",
    "            name = kw.get('log_name', method.__name__);\n",
    "            kw['log_time'][name].append((te - ts) * 1000);\n",
    "        else:\n",
    "            print(\"%r  %2.5f ms\" % (method.__name__, (te - ts) * 1000));\n",
    "        return result\n",
    "    return timed"
   ]
  },
  {
   "cell_type": "markdown",
   "metadata": {},
   "source": [
    "## Aproximação Polinomial"
   ]
  },
  {
   "cell_type": "markdown",
   "metadata": {},
   "source": [
    "### Caso Contínuo"
   ]
  },
  {
   "cell_type": "markdown",
   "metadata": {},
   "source": [
    "No caso discreto, queremos aproximar a função $f$ de um polinômio $P_m$:\n",
    "\n",
    "$f(x) ≅ P_m(x) = α_0 + α_1x + \\dots + α_mx^m$\n",
    "\n",
    "Como sabemos que $B$ = {$1, x, x^2, \\dots, x^m$} é base de $P_m$, temos que resolver os seguinte sistema linear para encontrar $P_m(X)$:\n",
    "\n",
    "$\\begin{bmatrix}\n",
    "  [1, 1] &\n",
    "    [1, x] &\n",
    "    \\dots & \n",
    "    [1, x^m] \\\\[1ex]\n",
    "  [x, 1] &\n",
    "    [x, x] &\n",
    "    \\dots & \n",
    "    [x, x^m] \\\\[1ex]\n",
    "  \\vdots & \n",
    "    \\vdots &\n",
    "    \\dots &\n",
    "    \\vdots \\\\[1ex]\n",
    "  [x^m, 1] &\n",
    "    [x^m, x] &\n",
    "    \\dots & \n",
    "    [x^m, x^m]\n",
    "\\end{bmatrix}$\n",
    "$\\begin{bmatrix}\n",
    "  α_0 \\\\[1ex]\n",
    "  α_1 \\\\[1ex]\n",
    "  \\vdots \\\\[1ex]\n",
    "  α_m\n",
    "\\end{bmatrix}$ = \n",
    "$\\begin{bmatrix}\n",
    "  [1, f] \\\\[1ex]\n",
    "  [x, f] \\\\[1ex]\n",
    "  \\vdots \\\\[1ex]\n",
    "  [x^m, f]\n",
    "\\end{bmatrix}$\n",
    "\n",
    "Sendo $[a, b]$ = $\\int_{0}^{1}a(x)b(x)dx$"
   ]
  },
  {
   "cell_type": "code",
   "execution_count": 6,
   "metadata": {},
   "outputs": [],
   "source": [
    "# @TODO: Código para Caso Contínuo"
   ]
  },
  {
   "cell_type": "markdown",
   "metadata": {},
   "source": [
    "### Caso Discreto"
   ]
  },
  {
   "cell_type": "markdown",
   "metadata": {},
   "source": [
    "No caso discreto, conhecemos (n+1) pares de pontos que pertencem a função $f$, então consideramos:\n",
    "\n",
    "$y_i = f(x_i)$\n",
    "\n",
    "Sendo $(x_i, y_i)$ os pontos conhecidos, e i = 0, 1, ..., n-1, n.\n",
    "\n",
    "Assim como no caso contínuo, queremos aproximar a função $f$ de um polinômio $P_m$:\n",
    "\n",
    "$f(x) ≅ P_m(x) = α_0 + α_1x + \\dots + α_mx^m$, m < n\n",
    "\n",
    "\n",
    "Sabendo que:\n",
    "\n",
    "$P_m(x_0) = α_0 + α_1x_0 + α_2x_0^2 + \\dots + α_mx_0^m$\n",
    "\n",
    "$P_m(x_1) = α_0 + α_1x_1 + α_2x_1^2 + \\dots + α_mx_1^m$\n",
    "\n",
    "$\\vdots$\n",
    "\n",
    "$P_m(x_0) = α_0 + α_1x_0 + α_2x_0^2 + \\dots + α_mx_0^m$\n",
    "\n",
    "e supondo que $p = (P_m(x_0), P_m(x_1), \\dots, P_m(x_n))$\n",
    "\n",
    "Temos que:\n",
    "\n",
    "$p = α_0$\n",
    "$\\begin{bmatrix}\n",
    "  1 \\\\[1ex]\n",
    "  1 \\\\[1ex]\n",
    "  \\vdots \\\\[1ex]\n",
    "  1\n",
    "\\end{bmatrix}$ +\n",
    " $α_1$\n",
    "$\\begin{bmatrix}\n",
    "  x_0 \\\\[1ex]\n",
    "  x_1 \\\\[1ex]\n",
    "  \\vdots \\\\[1ex]\n",
    "  x_n\n",
    "\\end{bmatrix}$ +\n",
    " $α_2$\n",
    "$\\begin{bmatrix}\n",
    "  x_0^2 \\\\[1ex]\n",
    "  x_1^2 \\\\[1ex]\n",
    "  \\vdots \\\\[1ex]\n",
    "  x_n^2\n",
    "\\end{bmatrix}$ +\n",
    "$\\dots$ +\n",
    "$α_m$\n",
    "$\\begin{bmatrix}\n",
    "  x_0^m \\\\[1ex]\n",
    "  x_1^m \\\\[1ex]\n",
    "  \\vdots \\\\[1ex]\n",
    "  x_n^m\n",
    "\\end{bmatrix}$\n",
    "\n",
    "Supondo que $Y = (y_0, y_1, \\dots, y_n)$\n",
    "\n",
    "E sabendo que o conjunto $U = (u_0, u_1, \\dots, u_n)$ é base. Sendo:\n",
    "\n",
    "$u_0 = [1, 1, \\dots, 1]$\n",
    "\n",
    "$u_1 = [x_0, x_1, \\dots, x_n]$\n",
    "\n",
    "$u_2 = [x_0^2, x_1^2, \\dots, x_n^2]$\n",
    "\n",
    "$\\vdots$\n",
    "\n",
    "$u_m = [x_0^m, x_1^m, \\dots, x_n^m]$\n",
    "\n",
    "Temos que resolver o seguinte sistema linear para encontrar $P_m(x)$:\n",
    "\n",
    "$\\begin{bmatrix}\n",
    "  [u_0, u_0] &\n",
    "    [u_0, u_1] &\n",
    "    \\dots & \n",
    "    [u_0, u_m] \\\\[1ex]\n",
    "  [u_1, u_0] &\n",
    "    [u_1, u_1] &\n",
    "    \\dots & \n",
    "    [u_1, u_m] \\\\[1ex]\n",
    "  \\vdots & \n",
    "    \\vdots &\n",
    "    \\dots &\n",
    "    \\vdots \\\\[1ex]\n",
    "  [u_m, u_0] &\n",
    "    [u_m, u_1] &\n",
    "    \\dots & \n",
    "    [u_m, u_m]\n",
    "\\end{bmatrix}$\n",
    "$\\begin{bmatrix}\n",
    "  α_0 \\\\[1ex]\n",
    "  α_1 \\\\[1ex]\n",
    "  \\vdots \\\\[1ex]\n",
    "  α_m\n",
    "\\end{bmatrix}$ = \n",
    "$\\begin{bmatrix}\n",
    "  [u_0, Y] \\\\[1ex]\n",
    "  [u_1, Y] \\\\[1ex]\n",
    "  \\vdots \\\\[1ex]\n",
    "  [u_m, Y]\n",
    "\\end{bmatrix}$\n",
    "\n",
    "Sendo $[a, b]$ = $\\sum_{k=0}^{n}a_kb_k$"
   ]
  },
  {
   "cell_type": "code",
   "execution_count": 7,
   "metadata": {},
   "outputs": [],
   "source": [
    "# @TODO: Código para Caso Discreto"
   ]
  },
  {
   "cell_type": "markdown",
   "metadata": {},
   "source": [
    "# Aplicações"
   ]
  },
  {
   "cell_type": "code",
   "execution_count": 8,
   "metadata": {},
   "outputs": [],
   "source": [
    "# @TODO: Aplicações dos códigos"
   ]
  },
  {
   "cell_type": "code",
   "execution_count": null,
   "metadata": {},
   "outputs": [],
   "source": []
  }
 ],
 "metadata": {
  "kernelspec": {
   "display_name": "Python 3",
   "language": "python",
   "name": "python3"
  },
  "language_info": {
   "codemirror_mode": {
    "name": "ipython",
    "version": 3
   },
   "file_extension": ".py",
   "mimetype": "text/x-python",
   "name": "python",
   "nbconvert_exporter": "python",
   "pygments_lexer": "ipython3",
   "version": "3.8.2"
  }
 },
 "nbformat": 4,
 "nbformat_minor": 4
}
