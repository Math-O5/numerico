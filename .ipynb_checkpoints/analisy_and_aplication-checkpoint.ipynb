{
 "cells": [
  {
   "cell_type": "markdown",
   "metadata": {
    "colab_type": "text",
    "id": "dgMsn5uDCCDz"
   },
   "source": [
    "# **Solução de Sistema Lineares e Não Lineares**\n",
    "---\n",
    "<ul>\n",
    "  <li><a href=\"#scrollTo=6T7Gy-Docn5C&uniqifier=1\">Sistemas Lineares</a>\n",
    "  </li>\n",
    "  <ul>\n",
    "    <li><a href=\"#scrollTo=Wr_js7DvZvzF&uniqifier=1\">Funções comuns</a></li>\n",
    "    <li><a href=\"#scrollTo=ETP1sGcGjg8h&uniqifier=1\">Método direto</a></li>\n",
    "    <li><a href=\"#scrollTo=ETP1sGcGjg8h&uniqifier=1\">Método iterativo</a></li>\n",
    "  </ul>\n",
    "  <li><a href=\"#scrollTo=Sb5DDFdCgSvt&uniqifier=1\n",
    "\">Sistemas Não-Lineares</a>\n",
    "  <ul>\n",
    "    <li><a href=\"#scrollTo=Uaspx0NxqI0s&uniqifier=1\n",
    "\">Solução de sistemas lineares com LU</a></li>\n",
    "    <li><a href=\"#scrollTo=Uaspx0NxqI0s&uniqifier=1\n",
    "\">Matriz inversa</a></li>\n",
    "    <li><a href=\"#scrollTo=fzEIg0YbgwFi&uniqifier=1\n",
    "      \">Método de newton com jacobiano inverso</a></li>\n",
    "    <li><a href=\"#scrollTo=fzEIg0YbgwFi&uniqifier=1\n",
    "    \">Método de newton com jacobiano</a></li>\n",
    "  </ul>\n",
    "  </li>\n",
    "\n",
    "</ul>"
   ]
  },
  {
   "cell_type": "code",
   "execution_count": null,
   "metadata": {
    "colab": {},
    "colab_type": "code",
    "id": "_-7jN9xmKGgw"
   },
   "outputs": [],
   "source": [
    "import numpy as np\n",
    "import time\n",
    "from scipy.optimize import fsolve\n",
    "import math\n",
    "from oilib import oi"
   ]
  },
  {
   "cell_type": "code",
   "execution_count": 0,
   "metadata": {
    "colab": {},
    "colab_type": "code",
    "id": "rlRumXGiALXP"
   },
   "outputs": [],
   "source": [
    "# Global\n",
    "start_time = time.time()"
   ]
  },
  {
   "cell_type": "code",
   "execution_count": 0,
   "metadata": {
    "colab": {},
    "colab_type": "code",
    "id": "M-fS49eEAEb5"
   },
   "outputs": [],
   "source": [
    "def startTimer():\n",
    "  start_time = time.time()\n",
    "\n",
    "def getTimer():\n",
    "  print(\"---  seconds ---\", (time.time() - start_time))"
   ]
  },
  {
   "cell_type": "markdown",
   "metadata": {
    "colab_type": "text",
    "id": "6T7Gy-Docn5C"
   },
   "source": [
    "**<h2>Sistemas Lineares com Matrizes Simétricas</h2>**"
   ]
  },
  {
   "cell_type": "markdown",
   "metadata": {
    "colab_type": "text",
    "id": "n_LH6b46B-8I"
   },
   "source": [
    "<p><strong>A</strong> matriz dos coeficientes e pentagonal de dimensão n*n</p>\n",
    "<p><strong>As</strong> é a matriz A armazenada otimizadamente. (which is a band symmetric case):\n",
    "<p>Input:</p>\n",
    "<p> n k </p>\n",
    "<p><strong>As</strong> a matrix of dimentison n and k. (The bandwidth is k -1).</p>\n",
    "<p><strong>b</strong> vector of dimension n</p>\n",
    "<div id=\"sl\"></div>\n",
    "<div class=\"input\"></div>\n",
    "*As save memory and time complexity from the code. For n = 100, the size of A is n². But As is only n*k, where k = 3.\n",
    "```\n",
    "index(As) = | A11 A12 A13|\n",
    "            | A22 A23  0 |\n",
    "            | A33  0   0 |\n",
    "```"
   ]
  },
  {
   "cell_type": "code",
   "execution_count": 0,
   "metadata": {
    "colab": {},
    "colab_type": "code",
    "id": "-2WZXdPedHU_"
   },
   "outputs": [],
   "source": [
    "def getAs(n = 3, k = 3):\n",
    "\n",
    "  # filling the diagonals of As\n",
    "  A = np.zeros([n,k])\n",
    "  A[:, 0].fill(6) \n",
    "  A[0:n-1, 1].fill(-4)\n",
    "  A[0:n-2, 2].fill(1)\n",
    "  A[0 ,0] = 9\n",
    "  A[n-2, 0] = 5\n",
    "  A[n-2, 1] = -2\n",
    "  return A"
   ]
  },
  {
   "cell_type": "code",
   "execution_count": 0,
   "metadata": {
    "colab": {},
    "colab_type": "code",
    "id": "byAdVT0ndTSh"
   },
   "outputs": [],
   "source": [
    "def getB(n = 3):\n",
    "  \n",
    "  # filling the vector b\n",
    "  value = n**-4\n",
    "  b = np.full((n, 1), value)\n",
    "  return b\n"
   ]
  },
  {
   "cell_type": "code",
   "execution_count": 0,
   "metadata": {
    "colab": {},
    "colab_type": "code",
    "id": "mx9W-5IYgPFI"
   },
   "outputs": [],
   "source": [
    "# matrix A nxn\n",
    "#     | 9 -4  1  0|\n",
    "# A = |-4  6 -4  1|\n",
    "#     | 1 -4  5 -2|\n",
    "#     | 0  1 -2  1|\n",
    "\n",
    "def getA(n = 3):\n",
    "    A = np.zeros((n, n)) #cria matriz com tudo zero\n",
    "\n",
    "    np.fill_diagonal(A[:, :], 6)      #diagonal principal\n",
    "    np.fill_diagonal(A[1:, :-1], -4)  #digonal abaixo da principal\n",
    "    np.fill_diagonal(A[:-1, 1:], -4)  #diagonal acima da principal\n",
    "    np.fill_diagonal(A[:-2, 2:], 1)   #diagonal duas abaixo da principal\n",
    "    np.fill_diagonal(A[2:, :-2], 1)   #diagonal duas cima da principal\n",
    "\n",
    "    # Alguns valores distintos\n",
    "    A[0, 0] = 9\n",
    "    A[n-1, n-1] = 1\n",
    "    A[n-2, n-2] = 5\n",
    "    A[n-2, n-1] = -2\n",
    "    A[n-1, n-2] = -2\n",
    "    \n",
    "    return A"
   ]
  },
  {
   "cell_type": "markdown",
   "metadata": {
    "colab_type": "text",
    "id": "Wr_js7DvZvzF"
   },
   "source": [
    "<h2>Funções gerais usados em diversos métodos.<h2>"
   ]
  },
  {
   "cell_type": "markdown",
   "metadata": {
    "colab_type": "text",
    "id": "ETP1sGcGjg8h"
   },
   "source": [
    "**Foward Solution Ly = b (then)**, y = Ux\n",
    "```\n",
    "l11   0   0  | y1  = b1\n",
    "l21 l22   0  | y2  = b2\n",
    "l31 l32 l33  | y3  = b3\n",
    "(...)\n",
    "\n",
    "y1 = b1 / l11\n",
    "y2 = (b2 - l21*y1 ) / l22\n",
    "y3 = (b3 - l31*y1 - l32*y2) / l33\n",
    "\n",
    "for i = 0..n-1\n",
    "  yi = (bi - dot(matrix[i, 0:i], y[i, 0:i]))\n",
    "```"
   ]
  },
  {
   "cell_type": "code",
   "execution_count": 0,
   "metadata": {
    "colab": {},
    "colab_type": "code",
    "id": "w36B8ZS_jm-V"
   },
   "outputs": [],
   "source": [
    "# Ly = b \n",
    "# return y of size n\n",
    "def forwardSubstitution(l, b):\n",
    "  n = len(l)\n",
    "  for i in range(1, n):\n",
    "    b[i] = b[i] - np.dot(l[i, 0:i], b[0:i]);\n",
    "  return b"
   ]
  },
  {
   "cell_type": "markdown",
   "metadata": {
    "colab_type": "text",
    "id": "dokmFp6tkFeA"
   },
   "source": [
    "**Back Solution Ux = y (then)**\n",
    "```\n",
    "u11 u12 u13 | x1 = y1\n",
    "0   u22 u23 | x2 = y2\n",
    "0   0   u33 | x3 = y3\n",
    "(...)\n",
    "xn = yn/unn\n",
    "xn-1 = (y(n-1)-xn*u(n-1n)/u(n-1n-1) \n",
    "```"
   ]
  },
  {
   "cell_type": "code",
   "execution_count": 0,
   "metadata": {
    "colab": {},
    "colab_type": "code",
    "id": "JYRe7X-3kIpS"
   },
   "outputs": [],
   "source": [
    "def backSubstituion(l, y): \n",
    "  # Ux = y\n",
    "  # return x is array size n\n",
    "  n = len(y)\n",
    "  for i in range(n-1, -1, -1):\n",
    "    y[i] = (y[i] - np.dot(l[i,i+1:n], y[i+1:n]))/l[i, i];\n",
    "  return y"
   ]
  },
  {
   "cell_type": "code",
   "execution_count": 0,
   "metadata": {
    "colab": {},
    "colab_type": "code",
    "id": "Q9Q3AAJsnNAD"
   },
   "outputs": [],
   "source": [
    "def transverse(A):\n",
    "  # A is a quadratic matrix.\n",
    "  # return the transversed A\n",
    "  n = len(A)\n",
    "  for i in range(0, n):\n",
    "    b = np.copy(A[i, i:n])\n",
    "    A[i, i:n] = np.copy(A[i:n, i])\n",
    "    A[i:n, i] = np.copy(b)\n",
    "  return A"
   ]
  },
  {
   "cell_type": "markdown",
   "metadata": {
    "colab_type": "text",
    "id": "vEaBe_pG-A-h"
   },
   "source": [
    "<h2>Cholesky's decompostion: método direto.</h2>\n",
    "\n",
    "```\n",
    "#  A = LU = |l11 0     0|     |1  u12 u13|\n",
    "            |l21 l22   0|  @  |0    1 u23|\n",
    "            |l31 l32 l33|     |0    0   1|\n",
    "```"
   ]
  },
  {
   "cell_type": "code",
   "execution_count": 0,
   "metadata": {
    "colab": {},
    "colab_type": "code",
    "id": "ywF0UnqX-AKU"
   },
   "outputs": [],
   "source": [
    "def choleskisBand(a):\n",
    "  # /*\n",
    "  #   choleski in band case.\n",
    "  #   funciona para poucos n.\n",
    "  #   obs: incompleta\n",
    "  # */\n",
    "  n = 5\n",
    "  for i in range(0, n):\n",
    "    try:\n",
    "      if(i-2 >= 0):\n",
    "        a[i, 0] = np.sqrt(a[i, 0] - (a[i-1,1] * a[i-1, 1]) - (a[i-2,2] * a[i-2, 2]))\n",
    "      elif(i-1 >= 0):\n",
    "        a[i, 0] = np.sqrt(a[i, 0] - (a[i-1,1] * a[i-1, 1]))\n",
    "      else:\n",
    "        a[i, 0] = np.sqrt(a[i, 0])\n",
    "\n",
    "    except ValueError:\n",
    "      error.err('Not a define posit]ive Matrix')\n",
    "    if(i-1 >= 0):\n",
    "      a[i, 1] = (a[i, 1] - (a[i-1, 1]*a[i-1, 2]))/a[i, 0] \n",
    "    else:\n",
    "      a[i, 1] = a[i, 1]/a[i, 0] \n",
    "    a[i, 2] =  a[i, 2]/a[i, 0]\n",
    "  return a"
   ]
  },
  {
   "cell_type": "markdown",
   "metadata": {
    "colab_type": "text",
    "id": "B98IXRCKa910"
   },
   "source": [
    "<p>While I was working on banded matrix, it give me some trouble processing the banded matrix, then I end up choicing work with both matrixs.</p>\n",
    "<p>Em comparação, o método para a matriz A é mais facilmente implementada.</p>\n"
   ]
  },
  {
   "cell_type": "code",
   "execution_count": 0,
   "metadata": {
    "colab": {},
    "colab_type": "code",
    "id": "qlkBnWlntWHx"
   },
   "outputs": [],
   "source": [
    "def choleskis_decomposition(a):\n",
    "  # A = L @ (L^t)\n",
    "  # \n",
    "  n = len(a)\n",
    "  for i in range(0, n):\n",
    "    try:\n",
    "      a[i, i] = np.sqrt(a[i, i]-np.dot(a[i, 0:i], a[i, 0:i]))\n",
    "    except ValueError:\n",
    "      error.err('Not a define posit]ive Matrix')  \n",
    "    for k in range(i+1, n):\n",
    "      a[k,i] = (a[k,i] - np.dot(a[k, 0:i], a[i, 0:i]))/a[i,i]\n",
    "  for k in range(1, n):\n",
    "    a[0:k, k] = 0.0\n",
    "  return a"
   ]
  },
  {
   "cell_type": "markdown",
   "metadata": {
    "colab_type": "text",
    "id": "ZR9YZ39ZnwwW"
   },
   "source": [
    "**Solve Ax = b**\n",
    "```\n",
    "Ax = (LU)x = b\n",
    "      L(Ux) = b\n",
    "      Ly = b    // foward solution\n",
    "      Ux = y    // back solution\n",
    "```"
   ]
  },
  {
   "cell_type": "code",
   "execution_count": 0,
   "metadata": {
    "colab": {},
    "colab_type": "code",
    "id": "N2yciYk5mekK"
   },
   "outputs": [],
   "source": [
    "def choleskis_solve(A, b):\n",
    "  L = choleskis_decomposition(np.copy(A))\n",
    "  U = transverse(np.copy(L))\n",
    "  y = forwardSubstitution(L, b)\n",
    "  return backSubstituion(U, y)\n"
   ]
  },
  {
   "cell_type": "markdown",
   "metadata": {
    "colab_type": "text",
    "id": "8ZcWCZdsY3Sy"
   },
   "source": [
    "<h2>Gauss-Seidel: método iterativo.</h2>\n"
   ]
  },
  {
   "cell_type": "code",
   "execution_count": 0,
   "metadata": {
    "colab": {},
    "colab_type": "code",
    "id": "ERKVAm7uY2ia"
   },
   "outputs": [],
   "source": [
    "def gaussSeidel(x, n, tol=1.0e-9):\n",
    "  w = 1.0\n",
    "  p = 1\n",
    "  k = 10\n",
    "  for i in range(1,n):\n",
    "    xOld = np.copy(x)\n",
    "    x = interEqs(x, w)\n",
    "    dx = np.sqrt(np.dot(x-xOld, x-xOld))\n",
    "    if(dx < tol):\n",
    "      return [x, i]\n",
    "    if(i == k):\n",
    "      dx1 = dx\n",
    "    if(i == k + p):\n",
    "      dx2 = dx\n",
    "      print(dx1, dx2, \"ue\")\n",
    "      w = 2.0/(1.0 + np.sqrt(1.0-(dx2/dx1)))\n",
    "\n",
    "  print(\"No converge for \", tol)\n",
    "  return  [-1]"
   ]
  },
  {
   "cell_type": "markdown",
   "metadata": {
    "colab_type": "text",
    "id": "lqDkRuFP_tpC"
   },
   "source": [
    "Saidelb"
   ]
  },
  {
   "cell_type": "code",
   "execution_count": 0,
   "metadata": {
    "colab": {},
    "colab_type": "code",
    "id": "HiCeKhNj_tAr"
   },
   "outputs": [],
   "source": []
  },
  {
   "cell_type": "markdown",
   "metadata": {
    "colab_type": "text",
    "id": "Sb5DDFdCgSvt"
   },
   "source": [
    "**<h2>Sistemas Não-Lineares com Matrizes</h2>**\n"
   ]
  },
  {
   "cell_type": "markdown",
   "metadata": {
    "colab_type": "text",
    "id": "saMzwsrBhd-C"
   },
   "source": [
    "** A = LU **\n",
    "```\n",
    "A = [L\\U]\n",
    "A = u11 u12 u13\n",
    "    l21 u22 u23\n",
    "    l31 l32 u33\n",
    "```"
   ]
  },
  {
   "cell_type": "code",
   "execution_count": 0,
   "metadata": {
    "colab": {},
    "colab_type": "code",
    "id": "s6p-BFsqg8WC"
   },
   "outputs": [],
   "source": [
    "def LU_decomposition(A):\n",
    "  #decompoẽ uma mtriz A qualquer em LU\n",
    "  #Retorna A, em que a parte inferior está L e superior está a U. \n",
    "  #ou seja, A = [L\\U]\n",
    "  n = len(A)\n",
    "\n",
    "  for k in range(0, n-1):\n",
    "    for i in range(k+1, n):\n",
    "      if(A[i, k]!=0):\n",
    "        m = A[i, k]/A[k, k]\n",
    "        A[i, k+1:n] -= m*A[k, k+1:n];\n",
    "        A[i, k] = m;\n",
    "\n",
    "  return A"
   ]
  },
  {
   "cell_type": "markdown",
   "metadata": {
    "colab_type": "text",
    "id": "Uaspx0NxqI0s"
   },
   "source": [
    "<h2>Matriz inversa</h2>\n",
    "<p>Uma matriz J possuí inversa e ela é não singular.</p>\n",
    "<p>Para isso, seu determinante é diferente de zero)</p>\n"
   ]
  },
  {
   "cell_type": "markdown",
   "metadata": {
    "colab_type": "text",
    "id": "IUEMf71RqKTr"
   },
   "source": [
    "```\n",
    "J = |1  0|\n",
    "    |0  1|\n",
    "det(J) = 1\n",
    "\n",
    "J @ J^-1 = I\n",
    "J^-1 @ J = I\n",
    "```"
   ]
  },
  {
   "cell_type": "markdown",
   "metadata": {
    "colab_type": "text",
    "id": "6p-3eXjGqNcK"
   },
   "source": [
    "```\n",
    "J @ J^(-1) = Id\n",
    " \n",
    "| j11 j12 | @ | v11 v21 | = | 1 0 |\n",
    "| j21 j22 |   | v12 v22 |   | 0 1 |\n",
    " \n",
    "Seja vi e ei os vetores coluna de J^(-1) e Id, respectivamente, \n",
    "Então,\n",
    " \n",
    "J @ vi = ei\n",
    "| j11 j12 | @ | v11 | = | 1 |\n",
    "| j21 j22 |   | v12 |   | 0 |\n",
    " \n",
    "| j11 j12 | @ | v21 | = | 0 |\n",
    "| j21 j22 |   | v22 |   | 1 |\n",
    " \n",
    "Ou seja, temos 1 sistema linear para cada coluna.\n",
    " \n",
    "Solução:\n",
    " \n",
    "Decompor J = LU, e para cada ej\n",
    " \n",
    "LU = ej\n",
    " \n",
    "x = [e1, e2, .., en] = J^(-1)\n",
    "```"
   ]
  },
  {
   "cell_type": "code",
   "execution_count": 0,
   "metadata": {
    "colab": {},
    "colab_type": "code",
    "id": "3VDgG3VDqsKw"
   },
   "outputs": [],
   "source": [
    "def solve_LU_system(LU, b):\n",
    "  y = forwardSubstitution(LU, b)\n",
    "  return backSubstituion(LU, y)"
   ]
  },
  {
   "cell_type": "code",
   "execution_count": 0,
   "metadata": {
    "colab": {},
    "colab_type": "code",
    "id": "xPNHQYD-qBjA"
   },
   "outputs": [],
   "source": [
    "def inverter_matrix(J):\n",
    "  n = len(J)\n",
    "  Id = np.zeros([n, n])\n",
    "  np.fill_diagonal(Id[:, :], 1) \n",
    "\n",
    "  J = LU_decomposition(J)\n",
    "\n",
    "  for i in range(n):\n",
    "    Id[:, i] = solve_LU_system(J, Id[:, i])\n",
    "  return Id;"
   ]
  },
  {
   "cell_type": "markdown",
   "metadata": {
    "colab_type": "text",
    "id": "Y_EXiFeZsPpW"
   },
   "source": [
    "<h3>Testando a matriz inversa com duas matriz.</h3>\n",
    "<p>O resultado esperado é que a multiplicação gera a matriz identidade.</p>"
   ]
  },
  {
   "cell_type": "code",
   "execution_count": 0,
   "metadata": {
    "colab": {
     "base_uri": "https://localhost:8080/",
     "height": 90
    },
    "colab_type": "code",
    "id": "qQh82r13sLf-",
    "outputId": "93d837e4-f997-44d7-c18c-45ccdf032cf3"
   },
   "outputs": [
    {
     "name": "stdout",
     "output_type": "stream",
     "text": [
      "[[1. 0.]\n",
      " [0. 1.]]\n",
      "[[1. 0.]\n",
      " [0. 1.]]\n"
     ]
    }
   ],
   "source": [
    "n = 2\n",
    "# matrizes não singulares:\n",
    "J = np.zeros([n, n])\n",
    "np.fill_diagonal(J[:, :], 1)  \n",
    "\n",
    "A = [[2.,1.],[4.,3.]]\n",
    "\n",
    "inv_J = inverter_matrix(np.copy(J));\n",
    "inv_A = inverter_matrix(np.copy(A));\n",
    "\n",
    "print(A @ inv_A);\n",
    "print(J @ inv_J);"
   ]
  },
  {
   "cell_type": "markdown",
   "metadata": {
    "colab_type": "text",
    "id": "9M4ZDQFWJ4fO"
   },
   "source": [
    "<h3>Gauss com pivoteamento.</h3>\n",
    "<p>Busca transformar a diagonal da matriz em dominante selecionando os maiores elementos na linha.</p>\n",
    "<p>Outra medida é o maior elemento elativo na linha.</p> "
   ]
  },
  {
   "cell_type": "markdown",
   "metadata": {
    "colab_type": "text",
    "id": "Cc--szt4J7nc"
   },
   "source": [
    "  ```\n",
    "  para i em (1, n):\n",
    "    si = max(|Aij|)\n",
    " \n",
    "  para i em (1, n):\n",
    "    rij = |Aij|/si\n",
    "  ```"
   ]
  },
  {
   "cell_type": "code",
   "execution_count": 0,
   "metadata": {
    "colab": {},
    "colab_type": "code",
    "id": "TR6agVLGJx8N"
   },
   "outputs": [],
   "source": [
    "def swapRow(A, i, j):\n",
    "  # A is a matrix\n",
    "  # ith line to be swpaped with j\n",
    "  if(len(A.shape) == 1):\n",
    "    A[i], A[j] = A[j], A[i]\n",
    "  else:\n",
    "    tmp = np.copy(A[i, :])\n",
    "    A[i, :] = np.copy(A[j, :])\n",
    "    A[j, :] = np.copy(tmp[:])"
   ]
  },
  {
   "cell_type": "code",
   "execution_count": 0,
   "metadata": {
    "colab": {},
    "colab_type": "code",
    "id": "eRM0AtSuKJ4o"
   },
   "outputs": [],
   "source": [
    "def gaussPivot(A, b, tol=1.0e-9):\n",
    "  # U decomposition for Ux = y \n",
    "  # return [A|b] (matriz aumentada)\n",
    "  n = len(b)\n",
    "  s = np.zeros([n])\n",
    "  for i in range(0, n):\n",
    "    s[i] = np.max(np.abs(A[i, :]))\n",
    "  \n",
    "  #pivoteamento\n",
    "  for k in np.arange(n-1):\n",
    "    p = np.argmax(np.abs(A[k, k:n]/s[k:n]))\n",
    "    if(np.abs(A[p, k]) < tol):\n",
    "      error.err('Matriz singular!')\n",
    "    if(p != k):\n",
    "      swapRow(A, p, k)\n",
    "      swapRow(b, p, k)\n",
    "      swapRow(s, p, k)\n",
    "\n",
    "  #elimination\n",
    "    for i in range(k+1, n):\n",
    "      m = 0.0;\n",
    "      if(A[i, k] != 0):\n",
    "        m = A[i, k]/A[k, k]\n",
    "        A[i, k+1:n] -= m*A[k, k+1:n];\n",
    "        b[i] -= m*b[k]; \n",
    "\n",
    "  return [A, b]"
   ]
  },
  {
   "cell_type": "markdown",
   "metadata": {
    "colab_type": "text",
    "id": "YJzombWgKRqd"
   },
   "source": [
    "<h3>Testando Gauss Pivot</h3>"
   ]
  },
  {
   "cell_type": "code",
   "execution_count": 0,
   "metadata": {
    "colab": {
     "base_uri": "https://localhost:8080/",
     "height": 54
    },
    "colab_type": "code",
    "id": "kcJv5PfiKSrb",
    "outputId": "e249c07b-584e-47d8-c286-66f404a38ea4"
   },
   "outputs": [
    {
     "name": "stdout",
     "output_type": "stream",
     "text": [
      "[ 2.  3. -5.]\n",
      "[2.0, 3.0, -5.0]\n"
     ]
    }
   ],
   "source": [
    "test_A = np.array([[1, 1, 1],  \n",
    "              [1, 0, 10],  \n",
    "              [0,10, 1]], dtype='double')\n",
    "test_b = [0,-48,25]\n",
    "\n",
    "x_pivo = np.linalg.solve(test_A, test_b)\n",
    "print(x_pivo)\n",
    "\n",
    "test_A, test_b = gaussPivot(test_A, test_b)\n",
    "print(backSubstituion(test_A, test_b))"
   ]
  },
  {
   "cell_type": "markdown",
   "metadata": {
    "colab_type": "text",
    "id": "fzEIg0YbgwFi"
   },
   "source": [
    "<h2>O método de Newton para sistemas não lineares</h2>\n"
   ]
  },
  {
   "cell_type": "markdown",
   "metadata": {
    "colab_type": "text",
    "id": "3LOoZ8hUj_Wu"
   },
   "source": [
    "```\n",
    "X_k_new = X_k - Jacob(X_k) * F(X_k)\n",
    "\n",
    "Para simplicaficar a derivada da função, Jacob é calculado da seguinte forma:\n",
    "\n",
    "index(Jacob(X_k)[i, j] = F[i](X_k + erro*h) - F[i](X_k) / h\n",
    "\n",
    "h : passo\n",
    "erro jth: X_k_new - X_k\n",
    "```"
   ]
  },
  {
   "cell_type": "code",
   "execution_count": 0,
   "metadata": {
    "colab": {},
    "colab_type": "code",
    "id": "BTMSn493ge8W"
   },
   "outputs": [],
   "source": [
    "def f(x):\n",
    "  # Intersecção entre circulo e hipérbole:\n",
    "  # f1(x, y) = x^2 + y^2 - 3 = 0\n",
    "  # f2(x, y) = xy - 1 = 0\n",
    "  n = x.shape[0]\n",
    "  f = np.zeros([n], dtype = 'float64')\n",
    "  f[0] = (x[0]*x[0]) + (x[1]*x[1]) - 3\n",
    "  f[1] = (x[0]*x[1]) - 1\n",
    "  return f\n",
    "  "
   ]
  },
  {
   "cell_type": "code",
   "execution_count": 0,
   "metadata": {
    "colab": {},
    "colab_type": "code",
    "id": "Dz6cyhCYkQi8"
   },
   "outputs": [],
   "source": [
    "def newtonRapshon_j(f, x, tol = 1.0e-9):\n",
    "  # F(X) = 0\n",
    "  # O critério de parada é a solução está próxima a zero,\n",
    "  # Ou -1 se estiver muito longe.\n",
    "  def jacobiano(f, x):\n",
    "    #     | f1/dx  f1/dy  f1/dz |\n",
    "    # J = | f2/dx  f2/dy  f2/dz |\n",
    "    #     | f3/dx  f3/dy  f3/dz |\n",
    "    h = 1.0e-4\n",
    "    n = x.shape[0]\n",
    "    jac = np.zeros([n, n], dtype='float64')\n",
    "    f0 = f(x) # f0 = { f1(x), f2(x), ..., fn(x) }\n",
    "    for i in np.arange(n):\n",
    "      aux = x[i]\n",
    "      x[i] = aux + h # x = {x0, ..., xi + h, ..., xn } ; avança x na direção ith\n",
    "      f1 = f(x)       # f1 = { f1/di, f2/di, ..., fn/di }\n",
    "      x[i] = aux\n",
    "      jac[:, i] = (f1 - f0) / h\n",
    "    \n",
    "    return jac, f0\n",
    "  \n",
    "  for i in np.arange(30):\n",
    "    jac, f0 = jacobiano(f, x)\n",
    "    if(np.sqrt(np.dot(f0, f0)) < tol):\n",
    "      return x\n",
    "    else:\n",
    "      A, b = gaussPivot(jac, -f0)\n",
    "      dx = backSubstituion(A, b)\n",
    "      x = x + dx\n",
    "      if(1.0 > np.max(np.abs(x))):\n",
    "        y = 1.0\n",
    "      else:\n",
    "        y = np.max(np.abs(x))\n",
    "      \n",
    "      if(np.sqrt(np.dot(dx, dx)) < tol*y):\n",
    "        return x\n",
    "  print('The solution is far yet.')\n",
    "  return -1"
   ]
  },
  {
   "cell_type": "code",
   "execution_count": 0,
   "metadata": {
    "colab": {},
    "colab_type": "code",
    "id": "zX2txhx1mU68"
   },
   "outputs": [],
   "source": [
    "def newtonRapshon_ji(f, x, tol = 1.0e-9):\n",
    "  # F(X) = 0\n",
    "  def jacobiano(f, x):\n",
    "    #     | f1/dx  f1/dy  f1/dz |\n",
    "    # J = | f2/dx  f2/dy  f2/dz |\n",
    "    #     | f3/dx  f3/dy  f3/dz |\n",
    "    h = 1.0e-4\n",
    "    n = x.shape[0]\n",
    "    jac = np.zeros([n, n], dtype='float64')\n",
    "    f0 = f(x) # f0 = { f1(x), f2(x), ..., fn(x) }\n",
    "    for i in np.arange(n):\n",
    "      aux = x[i]\n",
    "      x[i] = aux + h  # x = {x0, ..., xi + h, ..., xn } ; avança x na direção ith\n",
    "      f1 = f(x)       # f1 = { f1/di, f2/di, ..., fn/di }\n",
    "      x[i] = aux\n",
    "      jac[:, i] = (f1 - f0) / h\n",
    "    \n",
    "    return jac, f0\n",
    "  \n",
    "  for i in np.arange(30):\n",
    "    jac, f0 = jacobiano(f, x)\n",
    "  \n",
    "    # the solutions is near enough of f(X) ~ 0\n",
    "    if(np.sqrt(np.dot(f0, f0)) < tol):\n",
    "      return x\n",
    "    else:\n",
    "      jac_inv = inverter_matrix(jac)\n",
    "      \n",
    "      # x_k_new = x_k - (jacobiana_inversa @ F(x_k)) \n",
    "      dx = jac_inv.dot(f0)\n",
    "      x = x - dx\n",
    "      if(1.0 > np.max(np.abs(x))):\n",
    "        y = 1.0\n",
    "      else:\n",
    "        y = np.max(np.abs(x))\n",
    "      \n",
    "      # Se dx for indicar pouco deslocamento:\n",
    "      if(np.sqrt(np.dot(dx, dx)) < tol*y):\n",
    "        return x\n",
    "  print('The solution is far yet.')\n",
    "  return -1"
   ]
  },
  {
   "cell_type": "code",
   "execution_count": 0,
   "metadata": {
    "colab": {
     "base_uri": "https://localhost:8080/",
     "height": 163
    },
    "colab_type": "code",
    "id": "gdu1Eq8mkTmT",
    "outputId": "1268bfc6-dfcb-46d1-b226-f4112e3fa0e0"
   },
   "outputs": [
    {
     "name": "stdout",
     "output_type": "stream",
     "text": [
      "[0.61803399 1.61803399]\n",
      "---  seconds --- 273.421017408371\n",
      "[0.61803399 1.61803399]\n",
      "---  seconds --- 273.4227776527405\n",
      "[0.61803399 1.61803399]\n",
      "---  seconds --- 273.42565155029297\n",
      "[0.61803399 1.61803399]\n",
      "---  seconds --- 273.42690539360046\n"
     ]
    }
   ],
   "source": [
    "def test_jac_inv():\n",
    "  x = np.array([0.5, 1.5], dtype='float64')\n",
    "  bad_guess = np.array([1.5, 2.5], dtype='float64')\n",
    "\n",
    "\n",
    "  startTimer()\n",
    "  print(newtonRapshon_j(f, np.copy(x)))\n",
    "  getTimer()\n",
    "\n",
    "  startTimer()\n",
    "  print(fsolve(f, x))\n",
    "  getTimer()\n",
    "\n",
    "  startTimer()\n",
    "  print(newtonRapshon_j(f, np.copy(bad_guess)))\n",
    "  getTimer()\n",
    "\n",
    "  startTimer()\n",
    "  print(fsolve(f, bad_guess))\n",
    "  getTimer()\n",
    "\n"
   ]
  },
  {
   "cell_type": "code",
   "execution_count": 0,
   "metadata": {
    "colab": {},
    "colab_type": "code",
    "id": "s1uuh44QmEpd"
   },
   "outputs": [],
   "source": [
    "startTimer()\n",
    "print(newtonRapshon_ji(f, np.copy(x)))\n",
    "getTimer()\n",
    "\n",
    "startTimer()\n",
    "print(fsolve(f, x))\n",
    "getTimer()\n",
    "\n",
    "startTimer()\n",
    "print(newtonRapshon2_ji(f, np.copy(bad_guess)))\n",
    "getTimer()\n",
    "\n",
    "startTimer()\n",
    "print(fsolve(f, bad_guess))\n",
    "getTimer()"
   ]
  },
  {
   "cell_type": "markdown",
   "metadata": {
    "colab_type": "text",
    "id": "q8dzrbMPwp1T"
   },
   "source": [
    "<h2>A resolução da Equação da Circunferência<h2>\n",
    "<h3><strong>(x - a)² + (y - b)² = R²</strong></h3>\n",
    "<p>Temos três pontos x e três y (x1, y1)...(x3,y3) que retornam o raio.</p>\n",
    "<p>Encontra a,b e R</p>"
   ]
  },
  {
   "cell_type": "code",
   "execution_count": 0,
   "metadata": {
    "colab": {},
    "colab_type": "code",
    "id": "qdnEKo_BwpVy"
   },
   "outputs": [],
   "source": [
    "def f_circ(a, b, r):\n",
    "  # Dado um circulo (x - a)^2 + (y - b)^2 = r^2\n",
    "  # Temos três pontos x = (x1, x2, x3) e y = (y1, y2, y3)\n",
    "  # encontre o quão a, b e r está distante.\n",
    "  n = 3\n",
    "  f = np.zeros([n], dtype = 'float64')\n",
    "  \n",
    "  R = r*r;\n",
    "  f[0] = ((8.21 - a)*(8.21 - a)) + ((0.0 - b)*(0.0 - b)) - R\n",
    "  f[1] = ((0.34 - a)*(0.34 - a)) + ((6.62 - b)*(6.62 - b)) - R\n",
    "  f[2] = ((5.96 - a)*(5.96 - a)) + ((-1.12 - b)*(-1.12 - b)) - R\n",
    "  return f"
   ]
  },
  {
   "cell_type": "code",
   "execution_count": 0,
   "metadata": {
    "colab": {},
    "colab_type": "code",
    "id": "WoJNaLrT0vGK"
   },
   "outputs": [],
   "source": [
    "def test_jac_inv():\n",
    "  x = np.array([1.0, 1.0, 1.0], dtype='float64')\n",
    "  bad_guess = np.array([5.0, 5.0, 5.0], dtype='float64')\n",
    "  ans = newtonRapshon(f_circ, np.copy(x))\n",
    "  print(ans)\n",
    "  print(f_circ(ans))"
   ]
  },
  {
   "cell_type": "code",
   "execution_count": 0,
   "metadata": {
    "colab": {
     "base_uri": "https://localhost:8080/",
     "height": 72
    },
    "colab_type": "code",
    "id": "bQ8za-joKIzM",
    "outputId": "38e26f79-58e7-4837-875c-506cd0254acd"
   },
   "outputs": [
    {
     "name": "stdout",
     "output_type": "stream",
     "text": [
      "[[0.02049341]\n",
      " [0.05919504]\n",
      " [0.08937654]]\n"
     ]
    }
   ],
   "source": [
    "def main():\n",
    "  #Gerando as matrizes\n",
    "  As = getAs()\n",
    "  A = getA()\n",
    "  b = getB()\n",
    "\n",
    "  #resolvendo o sistema Ax=b\n",
    "  print(choleskis_solve(np.copy(A), np.copy(b)))\n",
    "  \n",
    "if __name__ == \"__main__\":\n",
    "  main()"
   ]
  },
  {
   "cell_type": "markdown",
   "metadata": {
    "colab_type": "text",
    "id": "UqoP-JHouEKq"
   },
   "source": [
    "\n",
    "\n",
    "```\n",
    "# This is formatted as code\n",
    "```\n",
    "\n",
    "<p>The banded matrix output some weird results because of the wrong implemantation</p>"
   ]
  },
  {
   "cell_type": "code",
   "execution_count": 0,
   "metadata": {
    "colab": {},
    "colab_type": "code",
    "id": "-LAXIiGILXdS"
   },
   "outputs": [],
   "source": []
  },
  {
   "cell_type": "markdown",
   "metadata": {
    "colab_type": "text",
    "id": "JmwPuqubNBGi"
   },
   "source": [
    "<h3>Source</h3>\n",
    "<a href=\"https://en.wikipedia.org/wiki/Band_matrix\">https://en.wikipedia.org/wiki/Band_matrix</a>"
   ]
  }
 ],
 "metadata": {
  "colab": {
   "collapsed_sections": [],
   "name": "analisy_and_aplication.ipynb",
   "provenance": []
  },
  "kernelspec": {
   "display_name": "Python 3",
   "language": "python",
   "name": "python3"
  },
  "language_info": {
   "codemirror_mode": {
    "name": "ipython",
    "version": 3
   },
   "file_extension": ".py",
   "mimetype": "text/x-python",
   "name": "python",
   "nbconvert_exporter": "python",
   "pygments_lexer": "ipython3",
   "version": "3.7.3"
  }
 },
 "nbformat": 4,
 "nbformat_minor": 1
}
