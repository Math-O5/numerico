{
  "nbformat": 4,
  "nbformat_minor": 0,
  "metadata": {
    "colab": {
      "name": "sistemas_lineares",
      "provenance": [],
      "collapsed_sections": []
    },
    "kernelspec": {
      "name": "python3",
      "display_name": "Python 3"
    }
  },
  "cells": [
    {
      "cell_type": "markdown",
      "metadata": {
        "id": "1QTwUvXqr4o6",
        "colab_type": "text"
      },
      "source": [
        "# **Sistema Lineares**\n",
        "---\n",
        "<ul>\n",
        "  <li><a href=\"#scrollTo=6T7Gy-Docn5C&uniqifier=1\">Sistemas Lineares</a>\n",
        "  </li>\n",
        "  <ul>\n",
        "    <li><a href=\"#scrollTo=RoOsu9Ppsd0v&uniqifier=1\">Funções comuns</a></li>\n",
        "    <li><a href=\"#scrollTo=6X8hhhuyhZHC&uniqifier=1\">Método direto</a>\n",
        "      <ul>\n",
        "          <li><a href=\"#scrollTo=fvXmmrPMwIVa&uniqifier=1\">Métodos</a></li>\n",
        "          <li><a href=\"#scrollTo=6X8hhhuyhZHC&uniqifier=1\">Comparações</a></li>\n",
        "      </ul>\n",
        "    </li>\n",
        "    <li><a href=\"#scrollTo=Ti2W5pc9VLcl&uniqifier=1\">Método iterativo</a>\n",
        "        <ul>\n",
        "          <li><a href=\"#scrollTo=6X8hhhuyhZHC&uniqifier=1\">Métodos</a></li>\n",
        "          <li><a href=\"#scrollTo=6X8hhhuyhZHC&uniqifier=1\">Comparações</a></li>\n",
        "      </ul>\n",
        "    </li>\n",
        "    <li><a href=\"#scrollTo=6X8hhhuyhZHC&uniqifier=1\">Aplicações</a></li>\n",
        "  </ul>"
      ]
    },
    {
      "cell_type": "code",
      "metadata": {
        "id": "5l-3Opzjr2LG",
        "colab_type": "code",
        "colab": {}
      },
      "source": [
        "import time\n",
        "\n",
        "def timeit(method):\n",
        "    \"\"\"\n",
        "      @Decorator\n",
        "      Retorna o tempo de excução da função\n",
        "      Não modifica a função.\n",
        "    \"\"\"\n",
        "    def timed(*args, **kw):\n",
        "        ts = time.time();\n",
        "        result = method(*args, **kw);\n",
        "        te = time.time();\n",
        "        if 'log_time' in kw:\n",
        "            name = kw.get('log_name', method.__name__);\n",
        "            kw['log_time'][name] = (te - ts) * 1000;\n",
        "        else:\n",
        "            print(\"%r  %2.5f ms\" % (method.__name__, (te - ts) * 1000));\n",
        "        return result;\n",
        "    return timed;"
      ],
      "execution_count": null,
      "outputs": []
    },
    {
      "cell_type": "markdown",
      "metadata": {
        "id": "dRkBMuF7ZtwR",
        "colab_type": "text"
      },
      "source": [
        "# Introdução\n",
        "\n",
        "> $Ax = b$\n",
        "\n",
        "\"O vetor $b_m$ pode ser expresso como combinação linear das colunas de $A_{mn}$?\"[1] \n",
        "\n",
        "> $a_{11}*x_{1} + \\cdots + a_{1n}*x_{n} = b_{1}$\n",
        "\n",
        "> $a_{21}*x_{1} + \\cdots + a_{2n}*x_{n}= b_{2}$\n",
        "\n",
        "> $\\vdots$ \n",
        "\n",
        "> $a_{m1}*x_{1} + \\cdots + a_{mn}*x_{n} = b_{m}$\n",
        "\n",
        "Para facilitar, usaremos majoritariamente matrizes não-singulares, $|A| != 0$ de rank(A) = n, e portanto, haverá sempre ao menos uma solução.\n",
        "\n",
        "> $x = -A^{-1}*b$"
      ]
    },
    {
      "cell_type": "markdown",
      "metadata": {
        "id": "RoOsu9Ppsd0v",
        "colab_type": "text"
      },
      "source": [
        "# Funções Comuns"
      ]
    },
    {
      "cell_type": "markdown",
      "metadata": {
        "colab_type": "text",
        "id": "ETP1sGcGjg8h"
      },
      "source": [
        "\n",
        "**Foward Solution Ly = b**\n",
        "\n",
        ">$L_{m,n} =\n",
        " \\begin{pmatrix}\n",
        "  l_{1,1} & 0 & \\cdots & 0 \\\\\n",
        "  l_{2,1} & l_{2,2} & \\cdots & 0 \\\\\n",
        "  \\vdots  & \\vdots  & \\ddots & \\vdots  \\\\\n",
        "  l_{m,1} & l_{m,2} & \\cdots & l_{m,n}\n",
        " \\end{pmatrix}$\n",
        "\n",
        "\n",
        "> $y_1 = b_1/l_{11}$\n",
        "\n",
        ">$\\vdots$\n",
        "\n",
        "> $y_{n} = b_n - \\sum_{k=1}^{n} l_{ik}*y_{ik}$ "
      ]
    },
    {
      "cell_type": "code",
      "metadata": {
        "id": "-aSlDxmqdSEY",
        "colab_type": "code",
        "colab": {}
      },
      "source": [
        ""
      ],
      "execution_count": null,
      "outputs": []
    },
    {
      "cell_type": "code",
      "metadata": {
        "colab_type": "code",
        "id": "w36B8ZS_jm-V",
        "colab": {}
      },
      "source": [
        "# Ly = b, return y of size n\n",
        "def forward_substitution(A, b):\n",
        "  l = np.copy(A);\n",
        "  y = np.copy(b); \n",
        "  n = np.shape(A)[0];\n",
        "\n",
        "  for i in range(1, n):\n",
        "    y[i] -= np.dot(l[i, 0:i], y[0:i]);\n",
        "  return y;"
      ],
      "execution_count": null,
      "outputs": []
    },
    {
      "cell_type": "markdown",
      "metadata": {
        "colab_type": "text",
        "id": "dokmFp6tkFeA"
      },
      "source": [
        "**Back Solution Ux = y (then)**\n",
        "\n",
        ">$U_{m,n} =\n",
        " \\begin{pmatrix}\n",
        "  u_{1,1} & u_{1,2} & \\cdots & u_{1,n} \\\\\n",
        "  0 & a_{2,2} & \\cdots & u_{2,n} \\\\\n",
        "  \\vdots  & \\vdots  & \\ddots & \\vdots  \\\\\n",
        "  0 & 0 & \\cdots & u_{m,n}\n",
        " \\end{pmatrix}$\n",
        "\n",
        "\n",
        "> $x_n = y_n/u_{nn}$\n",
        "\n",
        "> $x_{n-1} = (y_{n-1}-x_{n}*u_{n-1n})/u_{n-1n-1}$ \n"
      ]
    },
    {
      "cell_type": "code",
      "metadata": {
        "colab_type": "code",
        "id": "JYRe7X-3kIpS",
        "colab": {}
      },
      "source": [
        "# Ux = y, return x is array size n\n",
        "def back_substituion(A, y): \n",
        "  u = np.copy(A);\n",
        "  x = np.copy(y);\n",
        "  n = len(x);\n",
        "\n",
        "  for i in range(n-1, -1, -1):\n",
        "    x[i] = (x[i] - np.dot(u[i,i+1:n], x[i+1:n]))/u[i, i];\n",
        "\n",
        "  return x;"
      ],
      "execution_count": null,
      "outputs": []
    },
    {
      "cell_type": "code",
      "metadata": {
        "id": "_VvWF8kutc-_",
        "colab_type": "code",
        "colab": {}
      },
      "source": [
        "# A is a quadratic matriz, return the transversed A\n",
        "def transverse(A):\n",
        "  n = len(A)\n",
        "  for i in range(0, n):\n",
        "    b = np.copy(A[i, i:n])\n",
        "    A[i, i:n] = np.copy(A[i:n, i])\n",
        "    A[i:n, i] = np.copy(b)\n",
        "  return A"
      ],
      "execution_count": null,
      "outputs": []
    },
    {
      "cell_type": "code",
      "metadata": {
        "id": "8gO_rCOuq78f",
        "colab_type": "code",
        "colab": {}
      },
      "source": [
        "# U: matriz triangular superior quadrada \n",
        "def determinante_upper_matrix(U):\n",
        "  det = 1\n",
        "  n = np.shape(U)[0];\n",
        "\n",
        "  for i in arange(0, n-1):\n",
        "    det *= U[i, i];\n",
        "  return det;"
      ],
      "execution_count": null,
      "outputs": []
    },
    {
      "cell_type": "markdown",
      "metadata": {
        "id": "6X8hhhuyhZHC",
        "colab_type": "text"
      },
      "source": [
        "# **Métodos diretos**\n"
      ]
    },
    {
      "cell_type": "markdown",
      "metadata": {
        "colab_type": "text",
        "id": "ZR9YZ39ZnwwW"
      },
      "source": [
        "**Solve Ax = b**\n",
        "\n",
        "> $Ax = (LU)x = b$\n",
        "\n",
        "> $L(Ux) = b$\n",
        "\n",
        "> $Ly = b$    // foward solution\n",
        "\n",
        "> $Ux = y$    // back solution"
      ]
    },
    {
      "cell_type": "code",
      "metadata": {
        "id": "5_kLcI8_pb9x",
        "colab_type": "code",
        "colab": {}
      },
      "source": [
        "# Recebe a matriz A, o vetor b e a função de decomposição A = (LU)\n",
        "def lu_solve_system(A, b, decomposition):\n",
        "    L, U = decomposition(A);\n",
        "    y = forward_substitution(L, b);\n",
        "    x = back_substituion(U, y);\n",
        "    return x"
      ],
      "execution_count": null,
      "outputs": []
    },
    {
      "cell_type": "markdown",
      "metadata": {
        "id": "fvXmmrPMwIVa",
        "colab_type": "text"
      },
      "source": [
        "## O método da decomposição LU\n",
        "\n",
        "Decompoẽ a matriz A em LU.\n",
        "\n",
        ">$A_{m,n} =\n",
        " \\begin{pmatrix}\n",
        "  u_{1,1} & u_{1,2} & u_{1,3} \\\\\n",
        "  u_{1,1}*l_{2,1} & u_{1,2}*l_{2,1} + u_{2,2}  & u_{1,3}*l_{2,1} + u_{2,3} \\\\\n",
        "  u_{1,1}*l_{3,1} & u_{12}*l_{3,1} + u_{2,2}*l_{3,2} &  u_{13}*l_{3,3} + u_{2,3}*l_{3,2} + u_{3,3}\n",
        " \\end{pmatrix}$"
      ]
    },
    {
      "cell_type": "code",
      "metadata": {
        "id": "fZohCVRIwPjQ",
        "colab_type": "code",
        "colab": {}
      },
      "source": [
        "# Recebe a matriz A, retorna a matriz aumentada [L/U]\n",
        "def LU_decomposition(A):\n",
        "  LU = np.copy(A);\n",
        "  n = len(A);\n",
        "\n",
        "  for k in range(0, n-1):\n",
        "    for i in range(k+1, n):\n",
        "      if(A[i, k]!=0):\n",
        "        m = A[i, k]/A[k, k]\n",
        "        A[i, k+1:n] -= m*A[k, k+1:n];\n",
        "        A[i, k] = m;\n",
        "\n",
        "  return A"
      ],
      "execution_count": null,
      "outputs": []
    },
    {
      "cell_type": "code",
      "metadata": {
        "id": "iJlax5SSUKyY",
        "colab_type": "code",
        "colab": {}
      },
      "source": [
        ""
      ],
      "execution_count": null,
      "outputs": []
    },
    {
      "cell_type": "markdown",
      "metadata": {
        "id": "j9z_Gl-2oYvm",
        "colab_type": "text"
      },
      "source": [
        "## O método de Gaus\n"
      ]
    },
    {
      "cell_type": "markdown",
      "metadata": {
        "id": "bGcHKo9ZstR-",
        "colab_type": "text"
      },
      "source": [
        "O método de Gaus consiste em obter a matriz triangular inferior utilizando apenas operações elementares na forma matricial.\n",
        "\n",
        "Elas são, sobre a matriz A:\n",
        "\n",
        "1. Tocar duas linhas de A, o que muda o sinal de |A|.\n",
        "2. Multiplicar uma linha por um escalar $a$, diferente de zero, o que implica $a|A|$.\n",
        "3. Multiplicar uma linha e subtrair de uma linha. \n",
        "\n",
        "Formula geral:\n",
        "> $A_{ij} = A_{ij} +- a * A_{kj}, j = k, k + 1, ..., n$\n",
        "\n",
        "> $b_i = b_i - a*b_k$\n",
        "\n",
        "Com A transformada em U, agora podemos fazer:\n",
        "> $Ux = y$"
      ]
    },
    {
      "cell_type": "markdown",
      "metadata": {
        "id": "nAI1-XYdrrlx",
        "colab_type": "text"
      },
      "source": [
        "## O método de Gaus com pivoteamento"
      ]
    },
    {
      "cell_type": "code",
      "metadata": {
        "id": "vEHXNIgw0EkM",
        "colab_type": "code",
        "colab": {}
      },
      "source": [
        "# Recebe a matriz A, os indexes i e j, referente as duas linhas que comutarão.\n",
        "def swap_row(A, i, j):\n",
        "  if(len(A.shape) == 1):\n",
        "    A[i], A[j] = A[j], A[i]\n",
        "  else:\n",
        "    tmp = np.copy(A[i, :])\n",
        "    A[i, :] = np.copy(A[j, :])\n",
        "    A[j, :] = np.copy(tmp[:])"
      ],
      "execution_count": null,
      "outputs": []
    },
    {
      "cell_type": "code",
      "metadata": {
        "id": "JLO38w65rpmu",
        "colab_type": "code",
        "colab": {}
      },
      "source": [
        "# Recebe a matriz A, e o vetor b. Returna [U|y] (matriz aumentada)\n",
        "def gaussPivot(A, b, tol=1.0e-9):\n",
        "  U = np.copy(A);\n",
        "  y = np.copy(b);\n",
        "  n = len(b);\n",
        "\n",
        "  s = np.zeros([n])\n",
        "  for i in range(0, n):\n",
        "    s[i] = np.max(np.abs(A[i, :]))\n",
        "  \n",
        "  #pivoteamento\n",
        "  for k in np.arange(n-1):\n",
        "    p = np.argmax(np.abs(A[k, k:n]/s[k:n]))\n",
        "    if(np.abs(A[p, k]) < tol):\n",
        "      error.err('Matriz singular!')\n",
        "    if(p != k):\n",
        "      swap_row(A, p, k)\n",
        "      swap_row(b, p, k)\n",
        "      swap_row(s, p, k)\n",
        "\n",
        "  #elimination\n",
        "    for i in range(k+1, n):\n",
        "      m = 0.0;\n",
        "      if(A[i, k] != 0):\n",
        "        m = A[i, k]/A[k, k]\n",
        "        A[i, k+1:n] -= m*A[k, k+1:n];\n",
        "        b[i] -= m*b[k]; \n",
        "\n",
        "  return [A, b]"
      ],
      "execution_count": null,
      "outputs": []
    },
    {
      "cell_type": "markdown",
      "metadata": {
        "id": "gpY-ZSgghpdm",
        "colab_type": "text"
      },
      "source": [
        "## O método de Cholesks\n",
        "\n",
        "Esse método decompoẽ uma matriz simétrica e positiva definida.\n",
        "\n",
        "> $A = LL^t$\n",
        "\n",
        "Se $i = j$\n",
        "\n",
        "> $L_{jj} = \\sqrt (A_{jj} -\\sum_{k=1}^{j-1} L_{j,k}^2), j = 2, 3, ..., n$\n",
        "\n",
        "Se $i \\neq j$\n",
        "\n",
        "> $L_{ij} = \\sqrt (A_{ij} -\\sum_{k=1}^{j-1} L_{i,k}*L_{j,k}) / L_{jj}, j = 2, 3, ..., n$"
      ]
    },
    {
      "cell_type": "code",
      "metadata": {
        "id": "poOg4-HpVA-2",
        "colab_type": "code",
        "colab": {}
      },
      "source": [
        "# Recebe a matrix simetrica, positiva definida A = L @ (^t)\n",
        "def choleskis_decomposition(a):  \n",
        "  L = np.copy(A);\n",
        "  n = len(a);\n",
        "\n",
        "  for i in range(0, n):\n",
        "    try:\n",
        "      a[i, i] = np.sqrt(a[i, i]-np.dot(a[i, 0:i], a[i, 0:i]))\n",
        "    except ValueError:\n",
        "      error.err('Not a define posit]ive Matrix')  \n",
        "    for k in range(i+1, n):\n",
        "      a[k,i] = (a[k,i] - np.dot(a[k, 0:i], a[i, 0:i]))/a[i,i]\n",
        "  for k in range(1, n):\n",
        "    a[0:k, k] = 0.0\n",
        "  return a"
      ],
      "execution_count": null,
      "outputs": []
    },
    {
      "cell_type": "code",
      "metadata": {
        "colab_type": "code",
        "id": "N2yciYk5mekK",
        "colab": {}
      },
      "source": [
        "def choleskis_solve(A, b):\n",
        "  L = choleskis_decomposition(np.copy(A))\n",
        "  U = transverse(np.copy(L))\n",
        "  y = forwardSubstitution(L, b)\n",
        "  return backSubstituion(U, y)\n"
      ],
      "execution_count": null,
      "outputs": []
    },
    {
      "cell_type": "markdown",
      "metadata": {
        "id": "Q1l9-tNWhuaq",
        "colab_type": "text"
      },
      "source": [
        "## Sistemas lineares diretos: Comparativo entre as funções e as bibliotecas do Python  "
      ]
    },
    {
      "cell_type": "code",
      "metadata": {
        "id": "6qvfep9Vdgnj",
        "colab_type": "code",
        "colab": {
          "base_uri": "https://localhost:8080/",
          "height": 197
        },
        "outputId": "b08117c1-d1fe-47a7-83d4-2c2f56895f9a"
      },
      "source": [
        "A = np.array([[2, 3], [5, 4]]);\n",
        "b = np.array([8, 13]);\n",
        "ans = np.array([1, 2]);"
      ],
      "execution_count": 1,
      "outputs": [
        {
          "output_type": "error",
          "ename": "NameError",
          "evalue": "ignored",
          "traceback": [
            "\u001b[0;31m---------------------------------------------------------------------------\u001b[0m",
            "\u001b[0;31mNameError\u001b[0m                                 Traceback (most recent call last)",
            "\u001b[0;32m<ipython-input-1-a3c49eacbde0>\u001b[0m in \u001b[0;36m<module>\u001b[0;34m()\u001b[0m\n\u001b[0;32m----> 1\u001b[0;31m \u001b[0mA\u001b[0m \u001b[0;34m=\u001b[0m \u001b[0mnp\u001b[0m\u001b[0;34m.\u001b[0m\u001b[0marray\u001b[0m\u001b[0;34m(\u001b[0m\u001b[0;34m[\u001b[0m\u001b[0;34m[\u001b[0m\u001b[0;36m2\u001b[0m\u001b[0;34m,\u001b[0m \u001b[0;36m3\u001b[0m\u001b[0;34m]\u001b[0m\u001b[0;34m,\u001b[0m \u001b[0;34m[\u001b[0m\u001b[0;36m5\u001b[0m\u001b[0;34m,\u001b[0m \u001b[0;36m4\u001b[0m\u001b[0;34m]\u001b[0m\u001b[0;34m]\u001b[0m\u001b[0;34m)\u001b[0m\u001b[0;34m;\u001b[0m\u001b[0;34m\u001b[0m\u001b[0;34m\u001b[0m\u001b[0m\n\u001b[0m\u001b[1;32m      2\u001b[0m \u001b[0mb\u001b[0m \u001b[0;34m=\u001b[0m \u001b[0mnp\u001b[0m\u001b[0;34m.\u001b[0m\u001b[0marray\u001b[0m\u001b[0;34m(\u001b[0m\u001b[0;34m[\u001b[0m\u001b[0;36m8\u001b[0m\u001b[0;34m,\u001b[0m \u001b[0;36m13\u001b[0m\u001b[0;34m]\u001b[0m\u001b[0;34m)\u001b[0m\u001b[0;34m;\u001b[0m\u001b[0;34m\u001b[0m\u001b[0;34m\u001b[0m\u001b[0m\n\u001b[1;32m      3\u001b[0m \u001b[0mans\u001b[0m \u001b[0;34m=\u001b[0m \u001b[0mnp\u001b[0m\u001b[0;34m.\u001b[0m\u001b[0marray\u001b[0m\u001b[0;34m(\u001b[0m\u001b[0;34m[\u001b[0m\u001b[0;36m1\u001b[0m\u001b[0;34m,\u001b[0m \u001b[0;36m2\u001b[0m\u001b[0;34m]\u001b[0m\u001b[0;34m)\u001b[0m\u001b[0;34m;\u001b[0m\u001b[0;34m\u001b[0m\u001b[0;34m\u001b[0m\u001b[0m\n",
            "\u001b[0;31mNameError\u001b[0m: name 'np' is not defined"
          ]
        }
      ]
    },
    {
      "cell_type": "markdown",
      "metadata": {
        "colab_type": "text",
        "id": "Ti2W5pc9VLcl"
      },
      "source": [
        "# **Métodos iterativos**\n",
        "\n",
        "Para facilitar, usaremos majoritariamente matrizes não-singulares, $|A| != 0$ e portanto, haverá sempre ao menos uma solução."
      ]
    },
    {
      "cell_type": "markdown",
      "metadata": {
        "colab_type": "text",
        "id": "8ZcWCZdsY3Sy"
      },
      "source": [
        "## Gauss-Seidel: método iterativo.\n"
      ]
    },
    {
      "cell_type": "code",
      "metadata": {
        "colab_type": "code",
        "id": "ERKVAm7uY2ia",
        "colab": {}
      },
      "source": [
        "def gauss_seidel(x, n, tol=1.0e-9):\n",
        "  w = 1.0\n",
        "  p = 1\n",
        "  k = 10\n",
        "  for i in range(1,n):\n",
        "    xOld = np.copy(x)\n",
        "    x = interEqs(x, w)\n",
        "    dx = np.sqrt(np.dot(x-xOld, x-xOld))\n",
        "    if(dx < tol):\n",
        "      return [x, i]\n",
        "    if(i == k):\n",
        "      dx1 = dx\n",
        "    if(i == k + p):\n",
        "      dx2 = dx\n",
        "      w = 2.0/(1.0 + np.sqrt(1.0-(dx2/dx1)))\n",
        "\n",
        "  print(\"No converge for \", tol)\n",
        "  return  [-1]"
      ],
      "execution_count": null,
      "outputs": []
    },
    {
      "cell_type": "markdown",
      "metadata": {
        "id": "65v5gUycU7So",
        "colab_type": "text"
      },
      "source": [
        "## Gauss-Jacobi: método iterativo.\n",
        "\n",
        "\n"
      ]
    },
    {
      "cell_type": "code",
      "metadata": {
        "id": "yNE3CdyQU0qk",
        "colab_type": "code",
        "colab": {}
      },
      "source": [
        "def inter_eqs_jacobini(x, w = 1.0):\n",
        "  # System Linear Solve with relatixion omega(w)\n",
        "  x1 = np.zeros(len(x))\n",
        "  for i in range(len(x)):\n",
        "    x1[i] = (w*(b[i] - np.dot(a[i,:], x[:]) + np.dot(a[i, i], x[i]))/a[i,i])-((1-w)*x[i])\n",
        "  return x1"
      ],
      "execution_count": null,
      "outputs": []
    },
    {
      "cell_type": "code",
      "metadata": {
        "id": "jbzN4aiq0crh",
        "colab_type": "code",
        "colab": {}
      },
      "source": [
        "def gauss_jacobi(x, n, tol=1.0e-9):\n",
        "  for i in range(1,n):\n",
        "    xOld = np.copy(x)\n",
        "    x  = inter_eqs_jacobini(x)\n",
        "    dx = np.sqrt(np.dot(x-xOld, x-xOld))\n",
        "    if(dx < tol):\n",
        "      return [x, i]\n",
        "  return [-1]"
      ],
      "execution_count": null,
      "outputs": []
    },
    {
      "cell_type": "code",
      "metadata": {
        "id": "08k9MNdBUtwW",
        "colab_type": "code",
        "colab": {}
      },
      "source": [
        ""
      ],
      "execution_count": null,
      "outputs": []
    },
    {
      "cell_type": "markdown",
      "metadata": {
        "id": "BP3sHmVDk-s1",
        "colab_type": "text"
      },
      "source": [
        "## Aplicações"
      ]
    },
    {
      "cell_type": "markdown",
      "metadata": {
        "id": "X5xhc2qklAMt",
        "colab_type": "text"
      },
      "source": [
        "## Calculo de densidades\n",
        "\n",
        "![Provetas](https://www.researchgate.net/publication/321584117/figure/fig5/AS:569090473709574@1512693150597/Figura-5-Etapas-de-teste-de-proveta-e-regioes-formadas-durante-a-sedimentacao-FAUST.png)</br>imagem da analise de acumulo de sedimentos\n",
        "\n",
        "A partir da relação $massa(m) = densidade(d) / volume(v)$, queremos descobrir a densidade $d_a$, $d_b$, $d_c$, $d_d$ dos respectivos liquidos A, B, C e D.</br> \n",
        "Porém apenas temos como estimar os volumes dos liquidos. Por exemplo, o liquido B na proveta 1, $v_{1b}$, na proveta 2, $v_{2b}$, do liquido A na proveta 2, $v_{2a}$, e assim adiante.</br>\n",
        "Para cada proveta, também sabemos as massas contidas ali dentro, desconsiderando as massas das provetas, sendo estas respectivamente, $m_1$, $m_2$, $m_3$ e $m_4$. Com essas informações, temos o seguinte sistema:\n",
        "\n",
        "> $v_{1a}*d_{a} + \\cdots + v_{1d}*d_{d} = m_{1}$\n",
        "\n",
        "> $v_{2a}*d_{a} + \\cdots + v_{2d}*d_{d}= m_{2}$\n",
        "\n",
        "> $v_{3a}*d_{a} + \\cdots + v_{3d}*d_{d} = m_{3}$\n",
        "\n",
        "> $a_{4a}*d_{a} + \\cdots + v_{4d}*d_{d} = m_{4}$\n",
        "\n"
      ]
    },
    {
      "cell_type": "markdown",
      "metadata": {
        "id": "55u2mFAat_RW",
        "colab_type": "text"
      },
      "source": [
        ""
      ]
    },
    {
      "cell_type": "markdown",
      "metadata": {
        "id": "bvi6kkkqaRZ2",
        "colab_type": "text"
      },
      "source": [
        "# Referências\n",
        "\n",
        "[1] Scientific Computing An Introductory Survey, capitulo 2, System of Linear Equations. "
      ]
    }
  ]
}