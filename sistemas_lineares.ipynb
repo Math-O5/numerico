{
  "nbformat": 4,
  "nbformat_minor": 0,
  "metadata": {
    "colab": {
      "name": "sistemas_lineares",
      "provenance": [],
      "collapsed_sections": []
    },
    "kernelspec": {
      "name": "python3",
      "display_name": "Python 3"
    }
  },
  "cells": [
    {
      "cell_type": "markdown",
      "metadata": {
        "id": "1QTwUvXqr4o6",
        "colab_type": "text"
      },
      "source": [
        "# **Sistema Lineares**\n",
        "---\n",
        "<ul>\n",
        "  <li><a href=\"#scrollTo=6T7Gy-Docn5C&uniqifier=1\">Sistemas Lineares</a>\n",
        "  </li>\n",
        "  <ul>\n",
        "      <li><a href=\"#scrollTo=dRkBMuF7ZtwR&uniqifier=1\">Introdução</a></li>\n",
        "    <li><a href=\"#scrollTo=RoOsu9Ppsd0v&uniqifier=1\">Funções comuns</a></li>\n",
        "    <li><a href=\"#scrollTo=6X8hhhuyhZHC&uniqifier=1\">Método direto</a>\n",
        "      <ul>\n",
        "          <li><a href=\"#scrollTo=fvXmmrPMwIVa&uniqifier=1\">Métodos</a></li>\n",
        "          <li><a href=\"#scrollTo=Q1l9-tNWhuaq&uniqifier=1\">Comparações</a></li>\n",
        "      </ul>\n",
        "    </li>\n",
        "    <li><a href=\"#scrollTo=Ti2W5pc9VLcl&uniqifier=1\">Método iterativo</a>\n",
        "        <ul>\n",
        "          <li><a href=\"#scrollTo=6X8hhhuyhZHC&uniqifier=1\">Métodos</a></li>\n",
        "          <li><a href=\"#scrollTo=Q1l9-tNWhuaq&uniqifier=1\">Comparações</a></li>\n",
        "      </ul>\n",
        "    </li>\n",
        "    <li><a href=\"#scrollTo=BP3sHmVDk-s1&uniqifier=1\">Aplicações</a></li>\n",
        "  </ul>"
      ]
    },
    {
      "cell_type": "code",
      "metadata": {
        "id": "K3cu4NeFtGla",
        "colab_type": "code",
        "colab": {}
      },
      "source": [
        "import numpy as np\n",
        "import matplotlib.pyplot as plt\n",
        "import timeit\n",
        "from scipy import random"
      ],
      "execution_count": 3,
      "outputs": []
    },
    {
      "cell_type": "markdown",
      "metadata": {
        "id": "dRkBMuF7ZtwR",
        "colab_type": "text"
      },
      "source": [
        "# Introdução\n",
        "\n",
        "> $Ax = b$\n",
        "\n",
        "\"O vetor $b_m$ pode ser expresso como combinação linear das colunas de $A_{mn}$?\"[1] \n",
        "\n",
        "> $a_{11}*x_{1} + \\cdots + a_{1n}*x_{n} = b_{1}$\n",
        ">\n",
        "> $a_{21}*x_{1} + \\cdots + a_{2n}*x_{n}= b_{2}$\n",
        ">\n",
        "> $\\vdots$ \n",
        ">\n",
        "> $a_{m1}*x_{1} + \\cdots + a_{mn}*x_{n} = b_{m}$\n"
      ]
    },
    {
      "cell_type": "markdown",
      "metadata": {
        "id": "RoOsu9Ppsd0v",
        "colab_type": "text"
      },
      "source": [
        "# Funções Comuns"
      ]
    },
    {
      "cell_type": "code",
      "metadata": {
        "id": "5l-3Opzjr2LG",
        "colab_type": "code",
        "colab": {}
      },
      "source": [
        "import time\n",
        "\n",
        "# @Decorator timeit\n",
        "# Retorna o tempo de excução da função\n",
        "# Não modifica a função.\n",
        "# Para mais informações sobre decorators e timeit:\n",
        "# https://medium.com/pythonhive/python-decorator-to-measure-the-execution-time-of-methods-fa04cb6bb36d\n",
        "def timeit(method):\n",
        "    def timed(*args, **kw):\n",
        "        ts = time.time();\n",
        "        result = method(*args, **kw);\n",
        "\n",
        "        te = time.time();\n",
        "\n",
        "        # Armazenar resultado\n",
        "        if 'log_time' in kw:\n",
        "            name = kw.get('log_name', method.__name__);\n",
        "            kw['log_time'][name].append((te - ts) * 1000);\n",
        "        else:\n",
        "            print(\"%r  %2.5f ms\" % (method.__name__, (te - ts) * 1000));\n",
        "        return result\n",
        "    return timed"
      ],
      "execution_count": 4,
      "outputs": []
    },
    {
      "cell_type": "markdown",
      "metadata": {
        "colab_type": "text",
        "id": "ETP1sGcGjg8h"
      },
      "source": [
        "\n",
        "**Foward Solution Ly = b**\n",
        "\n",
        ">$L_{m,n} =\n",
        " \\begin{pmatrix}\n",
        "  l_{1,1} & 0 & \\cdots & 0 \\\\\n",
        "  l_{2,1} & l_{2,2} & \\cdots & 0 \\\\\n",
        "  \\vdots  & \\vdots  & \\ddots & \\vdots  \\\\\n",
        "  l_{m,1} & l_{m,2} & \\cdots & l_{m,n}\n",
        " \\end{pmatrix}b_{m} =\n",
        " \\begin{pmatrix}\n",
        "  b_{1} \\\\\n",
        "  b_{2} \\\\\n",
        "  \\vdots  \\\\\n",
        "  b_{m}\n",
        " \\end{pmatrix}$\n",
        "\n",
        "\n",
        "> $y_1 = b_1/l_{11}$\n",
        ">\n",
        ">$\\vdots$\n",
        ">\n",
        "> $y_{n} = b_n - \\sum_{k=1}^{n} l_{ik}*y_{ik}$ "
      ]
    },
    {
      "cell_type": "code",
      "metadata": {
        "colab_type": "code",
        "id": "w36B8ZS_jm-V",
        "colab": {}
      },
      "source": [
        "# recebe a matriz inferior triangular A, e o vetor b. Retorna o vetor solução y.\n",
        "def forward_substitution(A, b):\n",
        "  l = np.copy(A);\n",
        "  y = np.copy(b); \n",
        "  n = np.shape(A)[0];\n",
        "\n",
        "  for i in range(1, n):\n",
        "    y[i] -= np.dot(l[i, 0:i], y[0:i]);\n",
        "  return y;"
      ],
      "execution_count": 5,
      "outputs": []
    },
    {
      "cell_type": "markdown",
      "metadata": {
        "colab_type": "text",
        "id": "dokmFp6tkFeA"
      },
      "source": [
        "**Back Solution Ux = y (then)**\n",
        "\n",
        ">$U_{m,n} =\n",
        " \\begin{pmatrix}\n",
        "  u_{1,1} & u_{1,2} & \\cdots & u_{1,n} \\\\\n",
        "  0 & a_{2,2} & \\cdots & u_{2,n} \\\\\n",
        "  \\vdots  & \\vdots  & \\ddots & \\vdots  \\\\\n",
        "  0 & 0 & \\cdots & u_{m,n}\n",
        " \\end{pmatrix}\n",
        "y_{m} =\n",
        " \\begin{pmatrix}\n",
        "  y_{1} \\\\\n",
        "  y_{2} \\\\\n",
        "  \\vdots  \\\\\n",
        "  y_{m}\n",
        " \\end{pmatrix}$\n",
        "\n",
        "> $x_n = y_n/u_{nn}$\n",
        "\n",
        "> $x_{n-1} = (y_{n-1}-x_{n}*u_{n-1n})/u_{n-1n-1}$ \n"
      ]
    },
    {
      "cell_type": "code",
      "metadata": {
        "colab_type": "code",
        "id": "JYRe7X-3kIpS",
        "colab": {}
      },
      "source": [
        "# Recebe a matriz tringular superiror A e o vetor y, Ux = y, returna o vetor solução x\n",
        "def back_substituion(A, y): \n",
        "  u = np.copy(A);\n",
        "  x = np.copy(y);\n",
        "  n = np.shape(A)[0];\n",
        "\n",
        "  for i in range(n-1, -1, -1):\n",
        "    x[i] = (x[i] - np.dot(u[i,i+1:n], x[i+1:n]))/u[i, i];\n",
        "\n",
        "  return x;"
      ],
      "execution_count": 6,
      "outputs": []
    },
    {
      "cell_type": "markdown",
      "metadata": {
        "id": "34V3FguS69Za",
        "colab_type": "text"
      },
      "source": [
        "## Determinante\n",
        "\n",
        "O determinante da matriz U (triangular superior) é igual ao produto da diagonal.\n",
        "\n",
        "> $|A| = |LU| = \\det(LU) = \\det(L) * \\det(U) = det(U) = |U| = \\prod_{i=1}^n u_{ii}$"
      ]
    },
    {
      "cell_type": "code",
      "metadata": {
        "id": "8gO_rCOuq78f",
        "colab_type": "code",
        "colab": {}
      },
      "source": [
        "# Recebe U, a matriz triangular superior quadrada, retorna o determinante (O produto da diagonal) \n",
        "def determinante_upper_matrix(U):\n",
        "  return U.diagonal().prod();"
      ],
      "execution_count": null,
      "outputs": []
    },
    {
      "cell_type": "markdown",
      "metadata": {
        "id": "9ne4104V7kKF",
        "colab_type": "text"
      },
      "source": [
        "## Tipo de matrizes e propriedades\n",
        "\n",
        "Propriedades:\n",
        "\n",
        "Se a matriz não é singular, seu determinante determinantes é diferente de zero, então sabemos que há pelo menos uma solução.\n",
        "> $x = A^{-1}*b$\n",
        "\n",
        "Matrizes Singulares Positivas Definidas(SPD): pode ser criada com a multiplicação \n",
        "\n",
        "> $A = LL^{t}$\n",
        ">\n",
        "> ou\n",
        ">\n",
        "> $A = 0.5 * (Random_{nn} +  Random_{nn}^{t}) + (n * Id_{nn})$ \n",
        "\n"
      ]
    },
    {
      "cell_type": "code",
      "metadata": {
        "id": "0mHdDUUx5Rr5",
        "colab_type": "code",
        "colab": {}
      },
      "source": [
        "def get_special_spd(n = 3):\n",
        "  A = np.zeros((n, n), dtype=np.float64) #cria matriz com tudo zero\n",
        "  np.fill_diagonal(A[:, :], 6)      #diagonal principal\n",
        "  np.fill_diagonal(A[1:, :-1], -4)  #digonal abaixo da principal\n",
        "  np.fill_diagonal(A[:-1, 1:], -4)  #diagonal acima da principal\n",
        "  np.fill_diagonal(A[:-2, 2:], 1)   #diagonal duas abaixo da principal\n",
        "  np.fill_diagonal(A[2:, :-2], 1)   #diagonal duas cima da principal\n",
        "\n",
        "  # Alguns valores distintos\n",
        "  A[0, 0] = 9\n",
        "  A[n-1, n-1] = 1\n",
        "  A[n-2, n-2] = 5\n",
        "  A[n-2, n-1] = -2\n",
        "  A[n-1, n-2] = -2\n",
        "\n",
        "  b = np.zeros(n, dtype=np.float64);\n",
        "  b.fill(1/n**4);\n",
        "  return [A,b]  "
      ],
      "execution_count": 29,
      "outputs": []
    },
    {
      "cell_type": "code",
      "metadata": {
        "id": "fZW7LIK0z2mv",
        "colab_type": "code",
        "colab": {}
      },
      "source": [
        "def generate_system(n=3, tmatrix='random'):\n",
        "    if(tmatrix=='spd-special'):\n",
        "      return get_special_spd(n);\n",
        "\n",
        "    A =  np.random.rand(n, n);\n",
        "    b =  np.random.rand(n, n);\n",
        "\n",
        "    if(tmatrix=='spd-hardcode'):\n",
        "      return [np.matrix([[6, 3], [5, 6]]), np.array([2, 3]), b];\n",
        "\n",
        "    if(tmatrix=='spd-0'):\n",
        "      return [np.dot(A, np.transpose(A)), b];\n",
        "    \n",
        "    if(tmatrix=='spd-1'):\n",
        "      A = 0.5 * (A + np.transpose(A));\n",
        "      return [A + (n * np.eye(n)), b];\n",
        "\n",
        "    if(tmatrix=='spd-2'):\n",
        "      return [np.dot(np.tril(A, k = 0), np.transpose(np.tril(A, k = 0))), b];\n",
        "\n",
        "    return [A, b];   "
      ],
      "execution_count": 28,
      "outputs": []
    },
    {
      "cell_type": "code",
      "metadata": {
        "id": "9e4v3hiWJcvw",
        "colab_type": "code",
        "colab": {}
      },
      "source": [
        "\"\"\"\n",
        "- @function plot_stat_methods.\n",
        "- @param    *     : obriga o usuário a nomear o parametro quando chamar a função.\n",
        "- @param function : method1 primeiro metodo.\n",
        "- @param functon  : method2 segundo metodo.\n",
        "- @param string   : namef1 nome do primeiro metodo.\n",
        "- @param string   : namef2 nome do segundo metodo.\n",
        "- @param number   : maxn maximo tamanho da matriz.\n",
        "- @param number   : increment é o passo de testes, que vai de 10 até um número menor que n.\n",
        "- @param number   : e é o erro minimo.\n",
        "- @param string   : tmatrix é o tipo de matriz que será usada.\n",
        "  Plota o tempo e erro de dois métodos.\n",
        "\n",
        "  # logtime_data = {\n",
        "  #     namef1: [],\n",
        "  #     namef2: []  \n",
        "  # }\n",
        "\n",
        "\"\"\"\n",
        "def plot_compare(namef1, namef2, x, logtime_data = {}, logerror_data = {}):\n",
        "  # Cria quadro\n",
        "  fig = plt.figure(figsize=(10,4));\n",
        "  ax1 = fig.add_subplot(111);\n",
        "\n",
        "  # Plot time\n",
        "  ax1.plot(x, logtime_data.get(namef1), 'b', label= namef1 + \" time\",  linewidth=3.5);\n",
        "  ax1.scatter(x, logtime_data.get(namef1), color='b');\n",
        "\n",
        "  ax1.plot(x, logtime_data.get(namef2), 'y', label= namef2 + \" time\",  linewidth=3.5);\n",
        "  ax1.scatter(x, logtime_data.get(namef2), color='y');\n",
        "\n",
        "  # Inicializa um segundo plot que compartilha o mesmo eixo-x \n",
        "  ax2 = ax1.twinx()\n",
        "  color = 'tab:red'\n",
        "  \n",
        "  # Plot errors\n",
        "  if( len(logerror_data.get(namef2)) > 0 ):\n",
        "    ax2.plot(x, logerror_data.get(namef2), 'g--',  linewidth=0.8);\n",
        "    ax2.scatter(x, logerror_data.get(namef2), label= namef2 + ' errors', marker='o', color='g');\n",
        "\n",
        "  if( len(logerror_data.get(namef1)) > 0 ):\n",
        "    ax2.plot(x, logerror_data.get(namef1), 'r--', linewidth=0.8);\n",
        "    ax2.scatter(x, logerror_data.get(namef1), label= namef1 + ' errors', marker='o', color='r');\n",
        "\n",
        "  # legendas e axes\n",
        "  ax1.set(title=\"Tempo(s) de execução em função de n\", xlabel=\"Tamanho n\", ylabel=\"Tempo(s)\");\n",
        "  ax1.legend(loc=\"best\", fontsize='large');\n",
        " \n",
        "  if( len(logerror_data.get(namef2)) > 0 or len(logerror_data.get(namef1)) > 0):\n",
        "    ax2.set_ylabel('Erros', color=color);\n",
        "    ax2.legend(loc=\"best\", fontsize='large');\n",
        "\n",
        "  plt.show();"
      ],
      "execution_count": 44,
      "outputs": []
    },
    {
      "cell_type": "code",
      "metadata": {
        "id": "mqgBRfSxJf-r",
        "colab_type": "code",
        "colab": {}
      },
      "source": [
        "def compare_direct(*, method1, method2, namef1, namef2, maxn = 600, increment = 100, tmatrix = 'random'):\n",
        "  # Tempo gerado por execução\n",
        "  logtime_data = {\n",
        "     namef1 : [],\n",
        "     namef2 : [],\n",
        "  }\n",
        "\n",
        "  # erro gerado por execução\n",
        "  logerror_data = {\n",
        "    namef1 : [],\n",
        "    namef2 : [],\n",
        "  } \n",
        "\n",
        "  # Testa teste entre 10 e maxn, com a matriz aumentando em increment passos.\n",
        "  x = [];\n",
        "  for i in range(10, maxn, increment):\n",
        "    A, b = generate_system(i, tmatrix);\n",
        "    method1(A, b, log_time=logtime_data);\n",
        "    method2(A, b, log_time=logtime_data);\n",
        "    x.append(i);\n",
        "\n",
        "  plot_compare(namef1, namef2, x, logtime_data, logerror_data);"
      ],
      "execution_count": null,
      "outputs": []
    },
    {
      "cell_type": "markdown",
      "metadata": {
        "id": "6X8hhhuyhZHC",
        "colab_type": "text"
      },
      "source": [
        "# **Métodos diretos**\n"
      ]
    },
    {
      "cell_type": "markdown",
      "metadata": {
        "colab_type": "text",
        "id": "ZR9YZ39ZnwwW"
      },
      "source": [
        "**Solve Ax = b**\n",
        "\n",
        "> $Ax = (LU)x = b$\n",
        ">\n",
        "> $L(Ux) = b$\n",
        ">\n",
        "> $Ly = b$    // foward solution\n",
        ">\n",
        "> $Ux = y$    // back solution"
      ]
    },
    {
      "cell_type": "code",
      "metadata": {
        "id": "5_kLcI8_pb9x",
        "colab_type": "code",
        "colab": {}
      },
      "source": [
        "# Recebe a matriz U, o vetor y e retorna a solução x \n",
        "def u_solve(U, y):\n",
        "    return back_substituion(U, y);"
      ],
      "execution_count": null,
      "outputs": []
    },
    {
      "cell_type": "code",
      "metadata": {
        "id": "N7TCbIoZSIjt",
        "colab_type": "code",
        "colab": {}
      },
      "source": [
        "# Recebe a matriz LU, o vetor b e retorna a solução x \n",
        "def lu_solve(LU, b):\n",
        "    y = forward_substitution(LU, b);\n",
        "    return back_substituion(LU, y);"
      ],
      "execution_count": null,
      "outputs": []
    },
    {
      "cell_type": "markdown",
      "metadata": {
        "id": "j9z_Gl-2oYvm",
        "colab_type": "text"
      },
      "source": [
        "##O método de Gaus\n",
        "\n",
        "O método de Gaus consiste em obter a matriz triangular inferior utilizando apenas operações elementares na forma matricial.\n",
        "\n",
        "Elas são, sobre a matriz A:\n",
        "\n",
        "1. Tocar duas linhas de A, o que muda o sinal de |A|.\n",
        "2. Multiplicar uma linha por um escalar $a$, diferente de zero, o que implica $a|A|$.\n",
        "3. Multiplicar uma linha e subtrair de uma linha. \n",
        "\n",
        "Para eliminar um termo $A_{i+kj}$, usamos o termo $A_{ij}$, em que $k = i + 1, ... n$\n",
        "\n",
        "> $a = A_{i+1j} / A_{ij}$\n",
        ">\n",
        "> $A_{i+1j} = A_{i+1j} - a*A_{ij} = 0$\n",
        ">\n",
        "\n",
        "Operação para modificar uma coluna:\n",
        "> $A_{ij} = A_{ij} +- a * A_{kj}, j = k, k + 1, ..., n$\n",
        ">\n",
        "> $b_i = b_i - a*b_k$\n",
        "\n",
        "Com A transformada em U, agora podemos fazer:\n",
        "> $Ux = y$\n",
        "\n"
      ]
    },
    {
      "cell_type": "code",
      "metadata": {
        "id": "CA_hBllK-bjT",
        "colab_type": "code",
        "colab": {}
      },
      "source": [
        "# Recebe a matriz A, o vetor b e retorna a matriz aumentada [U/y]\n",
        "def Gauss_decomposition(A, b):\n",
        "  u = np.copy(A);\n",
        "  y = np.copy(b);\n",
        "  n = np.shape(A)[0];\n",
        "\n",
        "  for k in range(0, n-1):\n",
        "    for i in range(k+1, n):\n",
        "      m = 0.0;\n",
        "      if(u[i, k] != 0):\n",
        "        m = u[i, k]/u[k, k]\n",
        "        u[i, k+1:n] -= m*u[k, k+1:n];\n",
        "        y[i] -= m*y[k]; \n",
        "\n",
        "  return [u, y]"
      ],
      "execution_count": null,
      "outputs": []
    },
    {
      "cell_type": "markdown",
      "metadata": {
        "id": "fvXmmrPMwIVa",
        "colab_type": "text"
      },
      "source": [
        "##O método da decomposição LU\n",
        "\n",
        "Decompoẽ a matriz A em LU. Multiplicando a forma idela de L e U obtem-se a seguinte expressão:\n",
        "\n",
        ">$A_{m,n} =\n",
        " \\begin{pmatrix}\n",
        "  u_{1,1} & u_{1,2} & u_{1,3} \\\\\n",
        "  u_{1,1}*l_{2,1} & u_{1,2}*l_{2,1} + u_{2,2}  & u_{1,3}*l_{2,1} + u_{2,3} \\\\\n",
        "  u_{1,1}*l_{3,1} & u_{12}*l_{3,1} + u_{2,2}*l_{3,2} &  u_{13}*l_{3,1} + u_{2,3}*l_{3,2} + u_{3,3}\n",
        " \\end{pmatrix}$\n",
        "\n",
        "Assim, podemos notar que de $ k = 0...n-1$ e $i = k + 1,..., n$ os termos $a_{ik}/a_{kk} = l_{ik}$ e aplicando a eliminação de Gauss obteremos a matriz triangular superior U."
      ]
    },
    {
      "cell_type": "code",
      "metadata": {
        "id": "fZohCVRIwPjQ",
        "colab_type": "code",
        "colab": {}
      },
      "source": [
        "# Recebe a matriz A, retorna a matriz aumentada [L/U]\n",
        "def LU_decomposition(A):\n",
        "  LU = np.copy(A);\n",
        "  n = np.shape(A)[0];\n",
        "\n",
        "  for k in range(0, n-1):\n",
        "    for i in range(k+1, n):\n",
        "      if(LU[i, k] != 0):\n",
        "        m = LU[i, k]/LU[k, k]\n",
        "        LU[i, k+1:n] -= m*LU[k, k+1:n];\n",
        "        LU[i, k] = m;\n",
        "\n",
        "  return LU"
      ],
      "execution_count": null,
      "outputs": []
    },
    {
      "cell_type": "markdown",
      "metadata": {
        "id": "nAI1-XYdrrlx",
        "colab_type": "text"
      },
      "source": [
        "##O método de Gaus com pivoteamento\n",
        "\n",
        "O pivoteamento é uma forma de preprocessar a matriz antes do método de Gauss devido aos dois seguintes casos:\n",
        "\n",
        ">$A_{m,n} =\n",
        " \\begin{pmatrix}\n",
        "  0 & -1 & 1 & | 0\\\\\n",
        "  -1 & 2 & -1 & | 0 \\\\\n",
        "  2 & -1 & 0 & |  1 \\\\\n",
        " \\end{pmatrix}$\n",
        ">$A_{m,n} =\n",
        " \\begin{pmatrix}\n",
        "  e & -1 & 1 & | 0\\\\\n",
        "  -1 & 2 & -1 & | 0 \\\\\n",
        "  2 & -1 & 0 & |  1 \\\\\n",
        " \\end{pmatrix}$\n",
        "\n",
        "Em que $1 > e > -1$.\n",
        "\n",
        "O pivoteamento reorganiza a matriz visando obter a matriz mais proxima com diagonal dominante, a qual pode ser definida como a matriz que tem a soma das linhas (sem contar elementos da diagonal principal) menor que o elemento diagonal. \n",
        "\n",
        "No algoritmo abaixo, o melhor pivor é escolhido em relação ao maior tamanho relativo. O tamanho relativo é o valor do elemento normalizado pelo maior elemento contido na mesma linha: $r_{ij} = \\max_j (|A_{ij}| / max(A_{i}), j \\geq k$\n"
      ]
    },
    {
      "cell_type": "code",
      "metadata": {
        "id": "vEHXNIgw0EkM",
        "colab_type": "code",
        "colab": {}
      },
      "source": [
        "# Recebe a matriz A, os indexes i e j, referente as duas linhas que comutarão.\n",
        "def swap_row(A, i, j):\n",
        "  if(len(A.shape) == 1):\n",
        "    A[i], A[j] = A[j], A[i]\n",
        "  else:\n",
        "    tmp = np.copy(A[i, :])\n",
        "    A[i, :] = np.copy(A[j, :])\n",
        "    A[j, :] = np.copy(tmp[:])"
      ],
      "execution_count": null,
      "outputs": []
    },
    {
      "cell_type": "code",
      "metadata": {
        "id": "JLO38w65rpmu",
        "colab_type": "code",
        "colab": {}
      },
      "source": [
        "# Recebe a matriz A, e o vetor b. Returna [U|y] (matriz aumentada)\n",
        "def gauss_pivot(A, b):\n",
        "  U = np.copy(A);\n",
        "  y = np.copy(b);\n",
        "  n = np.shape(A)[0];\n",
        "  tol=1.0e-9\n",
        "  \n",
        "  s = np.zeros([n], dtype=np.float64);\n",
        "\n",
        "  # escolhe-se os maiores elementos de cada linha.\n",
        "  for i in range(0, n):\n",
        "    s[i] = np.max(np.abs(U[i, :]))\n",
        "  \n",
        "  # pivoteamento\n",
        "  for k in np.arange(n-1):\n",
        "    # A próxima linha é aquela que possivel o elemento com maior tamnho relativo. \n",
        "    p = int(np.argmax(np.abs(U[k:n, k]/s[k:n]))) + k\n",
        "    if(np.abs(U[p, k]) < tol):\n",
        "      print('Matriz singular!');\n",
        "      return [A, b]\n",
        "    if(p != k):\n",
        "      swap_row(U, p, k)\n",
        "      swap_row(y, p, k)\n",
        "      swap_row(s, p, k)\n",
        "\n",
        "    # eliminação de Gauss\n",
        "    for i in range(k+1, n):\n",
        "      m = 0.0;\n",
        "      if(U[i, k] != 0):\n",
        "        m = U[i, k]/U[k, k]\n",
        "        U[i, k+1:n] -= m*U[k, k+1:n];\n",
        "        y[i] -= m*y[k]; \n",
        "\n",
        "  return [U, y]"
      ],
      "execution_count": null,
      "outputs": []
    },
    {
      "cell_type": "markdown",
      "metadata": {
        "id": "gpY-ZSgghpdm",
        "colab_type": "text"
      },
      "source": [
        "##O método de Cholesks\n",
        "\n",
        "Esse método decompoẽ uma matriz simétrica e positiva definida na matriz L.\n",
        "\n",
        "> $A = LL^t = LU => U = L^t$\n",
        "\n",
        "Analisando a multiplicação acima, pode-se concluir que:\n",
        "\n",
        "Se $i = j$\n",
        "\n",
        "> $L_{jj} = \\sqrt (A_{jj} -\\sum_{k=1}^{j-1} L_{j,k}^2), j = 2, 3, ..., n$\n",
        "\n",
        "Se $i \\neq j$\n",
        "\n",
        "> $L_{ij} = \\sqrt (A_{ij} -\\sum_{k=1}^{j-1} L_{i,k}*L_{j,k}) / L_{jj}, j = 2, 3, ..., n$"
      ]
    },
    {
      "cell_type": "code",
      "metadata": {
        "id": "poOg4-HpVA-2",
        "colab_type": "code",
        "colab": {}
      },
      "source": [
        "# Recebe a matrix simetrica, positiva definida A = L @ (^t)\n",
        "def choleskis_decomposition(A):  \n",
        "  L = np.copy(A);\n",
        "  n = np.shape(A)[0];\n",
        "\n",
        "  for i in range(0, n):\n",
        "    try:\n",
        "      L[i, i] = np.sqrt(L[i, i]-np.dot(L[i, 0:i], L[i, 0:i]));\n",
        "    \n",
        "    except ValueError:\n",
        "       error.err('Not a define posit]ive Matrix');  \n",
        "    \n",
        "    for k in range(i+1, n):\n",
        "      L[k,i] = (L[k,i] - np.dot(L[k, 0:i], L[i, 0:i]))/L[i,i];\n",
        "  # for k in range(1, n):\n",
        "  #   L[0:k, k] = 0.0;\n",
        "  return L;"
      ],
      "execution_count": 18,
      "outputs": []
    },
    {
      "cell_type": "markdown",
      "metadata": {
        "id": "31hqPWz_xmWz",
        "colab_type": "text"
      },
      "source": [
        "## Funções finais:"
      ]
    },
    {
      "cell_type": "code",
      "metadata": {
        "id": "SkVoou6X-rZP",
        "colab_type": "code",
        "colab": {}
      },
      "source": [
        "@timeit\n",
        "def Gauss_method(A, b, **kwargs):\n",
        "  u, y = Gauss_decomposition(A, b)\n",
        "  return back_substituion(u, y)"
      ],
      "execution_count": 19,
      "outputs": []
    },
    {
      "cell_type": "code",
      "metadata": {
        "id": "qkZxPywTw_HY",
        "colab_type": "code",
        "colab": {}
      },
      "source": [
        "@timeit\n",
        "def LU_method(A, b, **kwargs):\n",
        "  LU = LU_decomposition(A);\n",
        "  return lu_solve(LU, b); "
      ],
      "execution_count": 20,
      "outputs": []
    },
    {
      "cell_type": "code",
      "metadata": {
        "id": "ZgFgnIj4xUm4",
        "colab_type": "code",
        "colab": {}
      },
      "source": [
        "@timeit\n",
        "def Gauss_pivot_method(A, b, **kwargs):\n",
        "  U, y = gauss_pivot(A, b);\n",
        "  return u_solve(U, y);"
      ],
      "execution_count": 21,
      "outputs": []
    },
    {
      "cell_type": "code",
      "metadata": {
        "colab_type": "code",
        "id": "N2yciYk5mekK",
        "colab": {}
      },
      "source": [
        "@timeit\n",
        "def choleskis_solve(A, b, **kwargs):\n",
        "  L = choleskis_decomposition(A);\n",
        "  U = np.transpose(L);\n",
        "  y = forward_substitution(L, b);\n",
        "  return back_substituion(U, y);\n"
      ],
      "execution_count": 22,
      "outputs": []
    },
    {
      "cell_type": "code",
      "metadata": {
        "id": "JFRLEfYgOUhv",
        "colab_type": "code",
        "colab": {}
      },
      "source": [
        "def check_answer(A, b, x):\n",
        "  if(np.allclose(np.dot(A, x), b)):\n",
        "    print(\"The answer is correct!\", x);\n",
        "  else:\n",
        "    print(\"The answer is wrong!\", x);"
      ],
      "execution_count": 23,
      "outputs": []
    },
    {
      "cell_type": "markdown",
      "metadata": {
        "id": "HRzXCe71wluu",
        "colab_type": "text"
      },
      "source": [
        "Simples testes para verificar a assertividade dos métodos."
      ]
    },
    {
      "cell_type": "code",
      "metadata": {
        "id": "6qvfep9Vdgnj",
        "colab_type": "code",
        "colab": {}
      },
      "source": [
        "tmp_n = 3\n",
        "R = generate_system(tmp_n, 'random');\n",
        "SPD1, b = generate_system(tmp_n, 'spd-1');\n",
        "SPD2, c = generate_system(tmp_n,'spd-2');\n",
        "SPD3, d = generate_system(tmp_n,'spd-3');"
      ],
      "execution_count": null,
      "outputs": []
    },
    {
      "cell_type": "code",
      "metadata": {
        "id": "NEh74sqYMoZx",
        "colab_type": "code",
        "colab": {
          "base_uri": "https://localhost:8080/",
          "height": 115
        },
        "outputId": "887901ce-b8a7-451a-817b-aa09cafd185a"
      },
      "source": [
        "U, y = gauss_pivot(SPD2, b);\n",
        "x = u_solve(U, y);\n",
        "check_answer(SPD2, b, x);\n",
        "print(\"python answer\", np.linalg.solve(SPD2, b));"
      ],
      "execution_count": null,
      "outputs": [
        {
          "output_type": "stream",
          "text": [
            "The answer is correct! [[ 796.27606373 1106.01395307 1710.70567043]\n",
            " [ -56.89305248  -81.29892361 -124.75044281]\n",
            " [ -10.08139709  -12.53509919  -20.79935579]]\n",
            "python answer [[ 796.27606373 1106.01395307 1710.70567043]\n",
            " [ -56.89305248  -81.29892361 -124.75044281]\n",
            " [ -10.08139709  -12.53509919  -20.79935579]]\n"
          ],
          "name": "stdout"
        }
      ]
    },
    {
      "cell_type": "code",
      "metadata": {
        "id": "HBf2ukx3T9HV",
        "colab_type": "code",
        "colab": {
          "base_uri": "https://localhost:8080/",
          "height": 115
        },
        "outputId": "acc4fa81-9d19-46eb-c7fd-f92c5a55f661"
      },
      "source": [
        "LU = LU_decomposition(SPD2);\n",
        "x = lu_solve(LU, b);\n",
        "check_answer(SPD2, b, x);\n",
        "print(\"python answer\", np.linalg.solve(SPD2, b));"
      ],
      "execution_count": null,
      "outputs": [
        {
          "output_type": "stream",
          "text": [
            "The answer is correct! [[ 796.27606373 1106.01395307 1710.70567043]\n",
            " [ -56.89305248  -81.29892361 -124.75044281]\n",
            " [ -10.08139709  -12.53509919  -20.79935579]]\n",
            "python answer [[ 796.27606373 1106.01395307 1710.70567043]\n",
            " [ -56.89305248  -81.29892361 -124.75044281]\n",
            " [ -10.08139709  -12.53509919  -20.79935579]]\n"
          ],
          "name": "stdout"
        }
      ]
    },
    {
      "cell_type": "code",
      "metadata": {
        "id": "R4PPZeJe_cJ8",
        "colab_type": "code",
        "colab": {
          "base_uri": "https://localhost:8080/",
          "height": 131
        },
        "outputId": "c5db3928-c136-4816-a3ca-fc2bd0f2cee6"
      },
      "source": [
        "x = Gauss_method(SPD2, b);\n",
        "check_answer(SPD2, b, x);\n",
        "print(\"python answer\", np.linalg.solve(SPD2, b));"
      ],
      "execution_count": null,
      "outputs": [
        {
          "output_type": "stream",
          "text": [
            "'Gauss_method'  0.63825 ms\n",
            "The answer is correct! [[ 796.27606373 1106.01395307 1710.70567043]\n",
            " [ -56.89305248  -81.29892361 -124.75044281]\n",
            " [ -10.08139709  -12.53509919  -20.79935579]]\n",
            "python answer [[ 796.27606373 1106.01395307 1710.70567043]\n",
            " [ -56.89305248  -81.29892361 -124.75044281]\n",
            " [ -10.08139709  -12.53509919  -20.79935579]]\n"
          ],
          "name": "stdout"
        }
      ]
    },
    {
      "cell_type": "markdown",
      "metadata": {
        "id": "Q1l9-tNWhuaq",
        "colab_type": "text"
      },
      "source": [
        "# **Sistemas lineares diretos: Comparativo entre os métodos**"
      ]
    },
    {
      "cell_type": "markdown",
      "metadata": {
        "id": "q6ju6psiACK7",
        "colab_type": "text"
      },
      "source": [
        "## Decomposição LU x Gauss\n",
        "\n",
        "O método de Gauss transforma o sistema $Ax = b$ em $Ux = y$, enquanto o LU transforma $A$ na sua forma triangular superior. Uma diferença, portanto, é que se aplicarmos a LU em uma problema em um b varia a cada teste e A é o mesmo, então a LU pode obter vantagem. Um exemplo disto é o calculo da matriz inversa, discutido na seção de aplicações."
      ]
    },
    {
      "cell_type": "code",
      "metadata": {
        "id": "00ZUtC86KHQp",
        "colab_type": "code",
        "colab": {
          "base_uri": "https://localhost:8080/",
          "height": 295
        },
        "outputId": "16139225-c4bd-41d5-b3f0-92411b210c66"
      },
      "source": [
        "compare_direct(method1= LU_method, method2= Gauss_method, namef1= 'LU_method', namef2= 'Gauss_method', maxn = 1000, increment = 100, tmatrix= 'spd-2');"
      ],
      "execution_count": null,
      "outputs": [
        {
          "output_type": "display_data",
          "data": {
            "image/png": "[encoded data removed]",
            "text/plain": [
              "<Figure size 720x288 with 2 Axes>"
            ]
          },
          "metadata": {
            "tags": [],
            "needs_background": "light"
          }
        }
      ]
    },
    {
      "cell_type": "markdown",
      "metadata": {
        "id": "MSocpTN73DM_",
        "colab_type": "text"
      },
      "source": [
        "## Decomposição com e sem pivoteamento.\n"
      ]
    },
    {
      "cell_type": "code",
      "metadata": {
        "id": "c9IobkbWCeNS",
        "colab_type": "code",
        "colab": {
          "base_uri": "https://localhost:8080/",
          "height": 295
        },
        "outputId": "d83c1dee-6042-409f-cb5c-087d83d90031"
      },
      "source": [
        "compare_direct(method1= Gauss_pivot_method, method2= Gauss_method, namef1= 'Gauss_pivot_method', namef2= 'Gauss_method', maxn = 1000, increment = 100, tmatrix= 'spd-3');"
      ],
      "execution_count": null,
      "outputs": [
        {
          "output_type": "display_data",
          "data": {
            "image/png": "[encoded data removed]",
            "text/plain": [
              "<Figure size 720x288 with 2 Axes>"
            ]
          },
          "metadata": {
            "tags": [],
            "needs_background": "light"
          }
        }
      ]
    },
    {
      "cell_type": "markdown",
      "metadata": {
        "id": "lbEPggqn7Lif",
        "colab_type": "text"
      },
      "source": [
        "## Decomposição  de Cholesk e Gauss com pivoteamento."
      ]
    },
    {
      "cell_type": "code",
      "metadata": {
        "id": "JFMtHE58pLj7",
        "colab_type": "code",
        "colab": {
          "base_uri": "https://localhost:8080/",
          "height": 295
        },
        "outputId": "68125b94-04bc-48b1-9732-c8bb484636ad"
      },
      "source": [
        "compare_direct(method1= choleskis_solve, method2= Gauss_pivot_method, namef1= 'choleskis_solve', namef2= 'Gauss_pivot_method', maxn = 1000, increment = 100, tmatrix= 'spd-1');"
      ],
      "execution_count": null,
      "outputs": [
        {
          "output_type": "display_data",
          "data": {
            "image/png": "[encoded data removed]",
            "text/plain": [
              "<Figure size 720x288 with 2 Axes>"
            ]
          },
          "metadata": {
            "tags": [],
            "needs_background": "light"
          }
        }
      ]
    },
    {
      "cell_type": "markdown",
      "metadata": {
        "colab_type": "text",
        "id": "Ti2W5pc9VLcl"
      },
      "source": [
        "# **Métodos iterativos**\n",
        "\n",
        "Para resolver o sistema linear de ordem n, $Ax = b$, e $det(A) \\neq 0$, os métodos seguintes chutam uma solução incial $x^{(0)}$ e a cada iteração do método é gerado um novo vetor $x^{(i+1)} = x^{k}$ tal que esse novo vetor está convergindo para a solução: \n",
        "\n",
        "$\\lim_{x\\to\\infty} ||x^{(k)}-x|| = 0$ e ${x^{(k)} \\to x}$\n",
        "\n",
        "Os métodos apenas geram aproximações a cada iteração. Se o raio espectral de A é menor que 1, a sequência gerada converge para a solução. No entanto, isso pode gerar várias iterações, além de ser custoso o cálculo da raio espectral.\n",
        "Assim, os métodos iterativos priorizam a aproximação da solução, utilizando os seguintes critérios:\n",
        "\n",
        "Erro absoluto: $||x^{k+1}-x^{k}|| < e$\n",
        "\n",
        "Erro relativo:  $||x^{k+1}-x^{k}||/||x^{k+1}|| < e$\n",
        "\n",
        "Teste do  Resíduo: $||b-Ax^{k}|| < e$\n",
        "\n",
        "Todos esses critérios estão sujeitos a falha da falsa solução local (quando a curva se aproxima da solução, mas na verdade está longe dela) dependendo da situação.\n"
      ]
    },
    {
      "cell_type": "markdown",
      "metadata": {
        "colab_type": "text",
        "id": "8ZcWCZdsY3Sy"
      },
      "source": [
        "## **Gauss-Seidel**\n"
      ]
    },
    {
      "cell_type": "markdown",
      "metadata": {
        "id": "n34mSM4gy4W7",
        "colab_type": "text"
      },
      "source": [
        "O sistema $Ax = b$ pode ser descrito como:\n",
        "> De $i = 1, \\dots , n$ \n",
        ">\n",
        "> $\\sum_{j=1}^{n} A_{ij}*x_{j} = b_{i},$  \n",
        ">\n",
        "> $A_{ii}x_i + \\sum_{j=1, j \\neq i}^{n} A_{ij}*x_{j} = b_{i}$\n",
        ">\n",
        "> $x_i = 1/A_{ii} *(b_{i} - \\sum_{j=1, j \\neq i}^{n} A_{ij}*x_{j})$\n",
        "\n",
        "A última equação gera uma aproximação de $x_{(k+1)}$ através $x_{(k)}$, $k = 0, \\dots, Kmax$\n",
        "\n",
        ">\n",
        "> $x_i^{(k+1)} = w \\div A_{ii} *(b_{i} - \\sum_{j=1, j \\neq i}^{n} A_{ij}*x_{j}^{(k)}) + (1 - w)x_i^{(k)}$\n",
        "\n",
        "Omega $w$ é um fator de relaxamento[4].\n",
        "\n",
        "$ dx = |x^{(k-1)} - x^{k}|$\n",
        "\n",
        "$ w \\approx  2/1 + \\sqrt{1-(dx^{(k+1)}/dx^{(k)})^1/p} $"
      ]
    },
    {
      "cell_type": "code",
      "metadata": {
        "id": "qs7FISYnw8oQ",
        "colab_type": "code",
        "colab": {}
      },
      "source": [
        "def interEqs(A, b, xOld, w = 1.0):\n",
        "  x = np.copy(xOld);\n",
        "  n = np.shape(A)[0];\n",
        "  for i in range(n):\n",
        "    x[:] = (w * (b[i] - np.dot(A[i,:], x[:]) + np.dot(A[i, i], x[i]))/A[i,i])+((1-w)*x[i])\n",
        "  return x"
      ],
      "execution_count": 9,
      "outputs": []
    },
    {
      "cell_type": "code",
      "metadata": {
        "colab_type": "code",
        "id": "ERKVAm7uY2ia",
        "colab": {}
      },
      "source": [
        "# Recebe a matriz A, o vetor b, o vetor chute inicial x e o erro da solução tol\n",
        "def gauss_seidel(A, b, x, err=1.0e-9):\n",
        "  w = 1.0;\n",
        "  p = 1;\n",
        "  k = 1000;\n",
        "  n = np.shape(A)[0];\n",
        "  error = [];\n",
        "\n",
        "  for i in np.arange(1, k):\n",
        "    xOld = np.copy(x)\n",
        "    x = interEqs(A, b, x, w)\n",
        "    dx = np.sqrt(np.dot(x-xOld, x-xOld))\n",
        "    error.append(dx);  \n",
        "    if(dx < err):\n",
        "      return [x, error, i]\n",
        "    if(i == k):\n",
        "      dx1 = dx\n",
        "    if(i == k + p):\n",
        "      dx2 = dx\n",
        "      w = 2.0/(1.0 + np.sqrt(1.0-(dx2/dx1)))\n",
        "\n",
        "  print(\"No converge for \", err)\n",
        "  return  [-1, -1]"
      ],
      "execution_count": 24,
      "outputs": []
    },
    {
      "cell_type": "markdown",
      "metadata": {
        "id": "65v5gUycU7So",
        "colab_type": "text"
      },
      "source": [
        "## **Gauss-Jacobi**\n",
        "\n",
        "$Ax = b \\to Gauss-jacobi(A, b) \\to x^{(k+1)} = C*x^{(k)} + g$\n",
        "\n",
        "> $x_1 = (b_1 - (a_{12}*x_2 - a_{13}*x_3 + \\dots + a_{1n}*x_{n}) )/a_{11}$\n",
        "> \n",
        "> $x_2 = (b_2 - (a_{11}*x_1 - a_{13}*x_3 + \\dots + a_{2n}*x_{n}))/a_{22}$\n",
        "> \n",
        "> $\\vdots$\n",
        ">\n",
        "> $x_n = (b_n - (a_{n2}*x_2 - a_{13}*x_3 + \\dots + a_{nn-1}*x_{n-1}))/a_{nn}$\n",
        "\n",
        ">$C_{n,n} =\n",
        " \\begin{pmatrix}\n",
        "  0 & -a_{1,2}/a_{11} & \\cdots & -a_{1,n}/a_{11} \\\\\n",
        "  -a_{21}/a_{22} &   0 & \\cdots & -a_{2,n}/a_{22} \\\\\n",
        "  \\vdots  & \\vdots  & \\ddots & \\vdots \\\\\n",
        "  -a_{n1}/a_{nn} & -a_{n2}/a_{nn} & \\cdots & 0 \\\\\n",
        " \\end{pmatrix}$\n",
        "\n",
        "> $g = [b_1/a_{11}, \\dots, b_n/a_{nn}]$\n",
        "\n",
        "Agora, escolhemos dois critério de parada para decidir o fim das iterações: O primeiro decidirá se a solução está convergindo e será dado por kmax, que é o limite de interações. O segundo será o teste de resíduo, que diz se a solução está convergindo para zero.\n",
        "\n",
        "Teste do resíduo:\n",
        "\n",
        "> $||b-A*x^{(k)}||| < e$\n",
        "\n",
        "Outra forma de chegar a C e g, é usando a matriz diagonal D que tem a diagonal de A. \n",
        "\n",
        "> $Ax = b \\to (A-D+D)x=b \\to (A-D)x^{(k)} + Dx^{(k+1)}=b$\n",
        "\n",
        "Multiplicando os dois lados por $D^{-1}$\n",
        "\n",
        "> $(A-D)x^{(k)} + Dx^{(k+1)}=b$\n",
        ">\n",
        "> $x^{k+1} = (I - D^{-1}A)x^{k} + D^{-1}b $\n",
        "\n",
        "Para calcular a multiplicação $D^{-1}A$, usamos `np.linalg.solve(A, b)`, que resolve $Ax = b$, então:\n",
        "\n",
        "> $Dx = b \\to x = D^{-1}A$\n",
        "\n",
        "> $Dx = g \\to x = D^{-1}g$"
      ]
    },
    {
      "cell_type": "code",
      "metadata": {
        "id": "08k9MNdBUtwW",
        "colab_type": "code",
        "colab": {}
      },
      "source": [
        "def gauss_jacobi(A, b, xOld, err=1e-9):\n",
        "    x0 = np.copy(xOld);\n",
        "    n = np.shape(A)[0];\n",
        "    D = np.diag(np.diag(A));\n",
        "    I = np.eye(n)\n",
        "    D_iA = np.linalg.solve(D,A)\n",
        "    C = I - D_iA; \n",
        "    g = np.linalg.solve(D, b);\n",
        "    kmax = 10000; k = 0;\n",
        "\n",
        "\n",
        "    error = np.zeros(kmax, dtype=np.float64); \n",
        "    test = (np.linalg.norm(b-np.dot(A, x0)) > err and k < kmax);\n",
        "   \n",
        "    while test:\n",
        "        error[k] = np.linalg.norm(b-np.dot(A,x0));\n",
        "        k += 1;\n",
        "        x0 = np.dot(C, x0) + g;\n",
        "        test = (np.linalg.norm(b-np.dot(A, x0)) > err and k < kmax);\n",
        "    \n",
        "    if (k == kmax):\n",
        "        print('\\nErro: o método não converge.\\n')\n",
        "    \n",
        "    x = np.copy(x0);\n",
        "    return [x, k, error];"
      ],
      "execution_count": 34,
      "outputs": []
    },
    {
      "cell_type": "code",
      "metadata": {
        "id": "HSlMhNE2wcCM",
        "colab_type": "code",
        "colab": {}
      },
      "source": [
        "@timeit\n",
        "def gauss_seidel_method(A, b, **kwargs):\n",
        "  x0 = np.zeros(np.shape(A)[0]);\n",
        "  gauss_seidel(A, b, x0);"
      ],
      "execution_count": 35,
      "outputs": []
    },
    {
      "cell_type": "code",
      "metadata": {
        "id": "BMap1j0S4XQO",
        "colab_type": "code",
        "colab": {}
      },
      "source": [
        "@timeit\n",
        "def gauss_jacobi_method(A, b, **kwargs):\n",
        "  x0 = np.zeros(np.shape(A)[0]);\n",
        "  gauss_jacobi(A, b, x0);"
      ],
      "execution_count": 36,
      "outputs": []
    },
    {
      "cell_type": "code",
      "metadata": {
        "id": "JTBXq6-X3oKc",
        "colab_type": "code",
        "colab": {
          "base_uri": "https://localhost:8080/",
          "height": 90
        },
        "outputId": "18cbc525-d2c2-4a68-c249-395bfe45c42b"
      },
      "source": [
        "tmp_n = 3\n",
        "SPD1, b = generate_system(tmp_n, 'spd-special');\n",
        "x0 = np.zeros(tmp_n, dtype=np.float64);\n",
        "ans, err, it = gauss_seidel(SPD1, b, x0, 1e-9);\n",
        "print(ans, err, it);\n",
        "print(np.linalg.solve(SPD1, b));\n",
        "print(np.dot(np.linalg.solve(SPD1, b) - ans, np.linalg.solve(SPD1, b) - ans));"
      ],
      "execution_count": 31,
      "outputs": [
        {
          "output_type": "stream",
          "text": [
            "[0.02743484 0.02743484 0.02743484] [0.028511124404425967, 0.011404449761770378, 0.004561779904708161, 0.0018247119618832572, 0.0007298847847533029, 0.00029195391390131754, 0.00011678156556053183, 4.671262622420672e-05, 1.8685050489688698e-05, 7.474020195874278e-06, 2.989608078349711e-06, 1.1958432313398845e-06, 4.783372925335501e-07, 1.9133491702303483e-07, 7.653396680200282e-08, 3.0613586723204836e-08, 1.2245434691685636e-08, 4.898173871866848e-09, 1.959269549948591e-09, 7.837078295942498e-10] 20\n",
            "[0.01851852 0.07407407 0.14197531]\n",
            "0.015374237307280226\n"
          ],
          "name": "stdout"
        }
      ]
    },
    {
      "cell_type": "code",
      "metadata": {
        "id": "5PRb74YIBWNS",
        "colab_type": "code",
        "colab": {}
      },
      "source": [
        "def compare_iterative(*, method1, method2, namef1, namef2, maxn = 600, increment = 100, tmatrix = 'spd-1', error=1e-4):\n",
        "  # Tempo gerado por execução\n",
        "  logtime_data = {\n",
        "     namef1 : [],\n",
        "     namef2 : [],\n",
        "  }\n",
        "\n",
        "  # erro gerado por execução\n",
        "  logerror_data = {\n",
        "    namef1 : [],\n",
        "    namef2 : [],\n",
        "  } \n",
        "\n",
        "  x = [];\n",
        "  for i in range(10, maxn, increment):\n",
        "    A, b = generate_system(i, tmatrix);\n",
        "    result1 = method1(A, b, log_time=logtime_data);\n",
        "    result2 = method2(A, b, log_time=logtime_data);\n",
        "\n",
        "    logerror_data[namef1].append(result1);\n",
        "    logerror_data[namef2].append(result2);\n",
        "    \n",
        "    x.append(i);\n",
        "\n",
        "  plot_compare(namef1, namef2, x, logtime_data, logerror_data);"
      ],
      "execution_count": 42,
      "outputs": []
    },
    {
      "cell_type": "code",
      "metadata": {
        "id": "XyqvHrSdvdtq",
        "colab_type": "code",
        "colab": {
          "base_uri": "https://localhost:8080/",
          "height": 472
        },
        "outputId": "6378f61d-3098-44c9-81fc-051dd0628df7"
      },
      "source": [
        "compare_iterative(method1=gauss_jacobi_method, method2= gauss_seidel_method, namef1= 'gauss_jacobi_method', namef2= 'gauss_seidel_method');"
      ],
      "execution_count": 45,
      "outputs": [
        {
          "output_type": "stream",
          "text": [
            "/usr/local/lib/python3.6/dist-packages/ipykernel_launcher.py:5: RuntimeWarning: invalid value encountered in add\n",
            "  \"\"\"\n",
            "/usr/local/lib/python3.6/dist-packages/ipykernel_launcher.py:5: RuntimeWarning: invalid value encountered in double_scalars\n",
            "  \"\"\"\n"
          ],
          "name": "stderr"
        },
        {
          "output_type": "stream",
          "text": [
            "No converge for  1e-09\n",
            "No converge for  1e-09\n",
            "No converge for  1e-09\n",
            "No converge for  1e-09\n",
            "No converge for  1e-09\n",
            "No converge for  1e-09\n"
          ],
          "name": "stdout"
        },
        {
          "output_type": "display_data",
          "data": {
            "image/png": "[encoded data removed]",
            "text/plain": [
              "<Figure size 720x288 with 2 Axes>"
            ]
          },
          "metadata": {
            "tags": [],
            "needs_background": "light"
          }
        }
      ]
    },
    {
      "cell_type": "markdown",
      "metadata": {
        "id": "BP3sHmVDk-s1",
        "colab_type": "text"
      },
      "source": [
        "## Aplicações"
      ]
    },
    {
      "cell_type": "markdown",
      "metadata": {
        "id": "X5xhc2qklAMt",
        "colab_type": "text"
      },
      "source": [
        "## Calculo de densidades\n",
        "\n",
        "![Provetas](https://www.researchgate.net/publication/321584117/figure/fig5/AS:569090473709574@1512693150597/Figura-5-Etapas-de-teste-de-proveta-e-regioes-formadas-durante-a-sedimentacao-FAUST.png)\n",
        "\n",
        "Figura: imagem da analise de acumulo de sedimentos\n",
        "\n",
        "A partir da relação $massa(m) = densidade(d) / volume(v)$, queremos descobrir a densidade $d_a$, $d_b$, $d_c$, $d_d$ dos respectivos liquidos A, B, C e D.\n",
        "\n",
        "Porém apenas temos como estimar os volumes dos liquidos. Por exemplo, o liquido B na proveta 1, $v_{1b}$, na proveta 2, $v_{2b}$, do liquido A na proveta 2, $v_{2a}$, e assim adiante.\n",
        "\n",
        "Para cada proveta, também sabemos as massas contidas ali dentro, desconsiderando as massas das provetas, sendo estas respectivamente, $m_1$, $m_2$, $m_3$ e $m_4$. Com essas informações, temos o seguinte sistema:\n",
        "\n",
        "> $v_{1a}*d_{a} + \\cdots + v_{1d}*d_{d} = m_{1}$\n",
        ">\n",
        "> $v_{2a}*d_{a} + \\cdots + v_{2d}*d_{d}= m_{2}$\n",
        ">\n",
        "> $v_{3a}*d_{a} + \\cdots + v_{3d}*d_{d} = m_{3}$\n",
        ">\n",
        "> $a_{4a}*d_{a} + \\cdots + v_{4d}*d_{d} = m_{4}$\n",
        "\n"
      ]
    },
    {
      "cell_type": "markdown",
      "metadata": {
        "id": "55u2mFAat_RW",
        "colab_type": "text"
      },
      "source": [
        "## Representação das cores\n",
        "\n",
        "Podemos representar as cores como a adicação entre R(Red), G(Green), B(Blue), sendo a menor intensidade de cada cor é 0 e a maior é 1.\n",
        "\n",
        "A representação da cor $i$ então será: $C_i = (R_i, G_i, B_i) = R_i(1, 0, 0) + G_i(0, 1, 0) + B_i(0, 0, 1)$.\n",
        "\n",
        "Defini-se também que a quantidade da cor gerada é no máximo 1 e assim as cores que forma $C_i$ não devem exceder essa quantidade: $x_a + x_b + x_c = 1$.\n",
        "\n",
        "Uma mistura entre três cores pode ser representada como:\n",
        "$C = (C_1, C_2, C_3) = (1/4, 2/4, 1/4)$ e teremos o seguinte sistema linear:\n",
        "\n",
        "> $R_1*x_a + R_2*x_b + R_3*x_c = 1/4$\n",
        ">\n",
        "> $G_1*x_b + G_2*x_b + R_3*x_c = 2/4$\n",
        ">\n",
        "> $B_1*x_c + B_2*x_b + R_3*x_c = 1/4$\n",
        ">\n",
        "> $x_a + x_b + x_c = 1$\n",
        "\n",
        "Referências em [2]\n",
        "\n",
        "\n"
      ]
    },
    {
      "cell_type": "markdown",
      "metadata": {
        "id": "Jv2E9OBkqt70",
        "colab_type": "text"
      },
      "source": [
        "## Calcular o inverso da Matriz\n",
        "\n",
        "A matriz inversa por ser calculada resolvendo o seguinte sistema linear, obtido a parti da definição de matriz inversa.\n",
        "> $J @ J^{-1} = I_d$\n",
        "\n",
        "> $J^{-1} = V$\n",
        "\n",
        "Podemos extrair, para cada coluna de $I_d$, o seguinte sistema linear:\n",
        "\n",
        "Primeira coluna:\n",
        "> $| j_{11} j_{12} | |v_{11} | = 1 $\n",
        ">\n",
        "> $| j_{21} j_{22} | |v_{21} | = 0 $\n",
        "\n",
        "\n",
        "Segunda coluna:\n",
        "> $| j_{11} j_{12} | |v_{12} | = 0 $\n",
        ">\n",
        "> $| j_{21} j_{22} | |v_{22} | = 1 $\n",
        "\n",
        "Com isso, temos $n$ sistemas lineares. O método mais eficiente seria obter a decomposição LU da matriz, para facilitar os demais calculos. \n",
        "\n"
      ]
    },
    {
      "cell_type": "code",
      "metadata": {
        "id": "pC7Umkezq1cB",
        "colab_type": "code",
        "colab": {}
      },
      "source": [
        "def inverter_matrix(J):\n",
        "  n = np.shape(J)[0];\n",
        "  Id = np.eye(n);\n",
        "\n",
        "  LU = LU_decomposition(J)\n",
        "\n",
        "  for i in range(n):\n",
        "    Id[:, i] = lu_solve(LU, Id[:, i]);\n",
        "  return Id;"
      ],
      "execution_count": null,
      "outputs": []
    },
    {
      "cell_type": "code",
      "metadata": {
        "id": "G0SKVy-qVgSx",
        "colab_type": "code",
        "colab": {
          "base_uri": "https://localhost:8080/",
          "height": 50
        },
        "outputId": "6e3db828-f48a-44cb-834f-42415a28a6cc"
      },
      "source": [
        "# Verificando validade da função inverter_matrix\n",
        "# matrizes não singulares:\n",
        "A = [[2.,1.],[4.,3.]]\n",
        "inv_A = inverter_matrix(np.copy(A));\n",
        "\n",
        "\"Espera-se a matriz identidade 2x2\"\n",
        "print(A @ inv_A);"
      ],
      "execution_count": null,
      "outputs": [
        {
          "output_type": "stream",
          "text": [
            "[[1. 0.]\n",
            " [0. 1.]]\n"
          ],
          "name": "stdout"
        }
      ]
    },
    {
      "cell_type": "markdown",
      "metadata": {
        "id": "bvi6kkkqaRZ2",
        "colab_type": "text"
      },
      "source": [
        "# Referências\n",
        "\n",
        "[1] Scientific Computing An Introductory Survey, capitulo 2, System of Linear Equations.\n",
        "\n",
        "[2] IME curso Calculo Númerico IAG-2005, resumo colli, capitulo 1, 2, 3.\n",
        "\n",
        "[3] Datacamp, tutorial matplotlib, Julho 10, 2020. Disponivel em: https://www.datacamp.com/community/tutorials/matplotlib-tutorial-python\n",
        "\n",
        "[4] Jaan Kiusalaas, Numerical Methods in Engineering with Python "
      ]
    }
  ]
}