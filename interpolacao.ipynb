{
  "nbformat": 4,
  "nbformat_minor": 0,
  "metadata": {
    "colab": {
      "name": "interpolacao.ipynb",
      "provenance": [],
      "collapsed_sections": []
    },
    "kernelspec": {
      "name": "python3",
      "display_name": "Python 3"
    }
  },
  "cells": [
    {
      "cell_type": "markdown",
      "metadata": {
        "id": "9HBuNrOXSfRu",
        "colab_type": "text"
      },
      "source": [
        "# **Interpolação**\n",
        "---\n",
        "<ul>\n",
        "  <li><a href=\"#scrollTo=6T7Gy-Docn5C&uniqifier=1\">Interpolação</a>\n",
        "  </li>\n",
        "  <ul>\n",
        "      <li><a href=\"#scrollTo=E2wcnL1ak8bG&uniqifier=1\">Introdução</a></li>\n",
        "    <li><a href=\"#scrollTo=pFFXXiPXkxvA&uniqifier=1\">Funções comuns</a></li>\n",
        "    <li><a href=\"#scrollTo=ytnsyQGrrANe\">Método de Lagrange</a></li>\n",
        "    <li><a href=\"#scrollTo=I0AnaO4OKRnb\">Aplicações: Comparações</a></li>\n",
        "    <li><a href=\"#scrollTo=I0AnaO4OKRnb\">Aplicações: Splines</a></li>\n",
        "  </ul>"
      ]
    },
    {
      "cell_type": "code",
      "metadata": {
        "id": "ZVtgK5TVd5uA",
        "colab_type": "code",
        "colab": {}
      },
      "source": [
        "import numpy as np\n",
        "import matplotlib.pyplot as plt\n",
        "import timeit"
      ],
      "execution_count": 4,
      "outputs": []
    },
    {
      "cell_type": "markdown",
      "metadata": {
        "id": "pOnS3F_GY36u",
        "colab_type": "text"
      },
      "source": [
        "# Introdução\n",
        "\n",
        "A interpolação é um método de próxima $y(x)$ a partir de $n + 1$ pontos na forma $(x_i, y_i)$, para $i = 0, 1, ...,n \\space$ e com $x_0 < x_1 < ... < x_n$.\n",
        "\n",
        "A função estima será um polinomio de grau n, tal que $y_i = P_n(x_i)$ para todo  $0 \\leq i \\leq n$.\n",
        "\n",
        "> $P_n(x) = $\n",
        ">\n",
        "> $a_0 + a_1*x^1_0 \\cdots + a_n*x^n_0 = y_{0}$\n",
        ">\n",
        "> $a_0 + a_1*x^1_1 \\cdots + a_n*x^n_1 = y_{1}$\n",
        ">\n",
        "> $\\vdots$ \n",
        ">\n",
        "> $a_0 + a_1*x^1_n \\cdots + a_n*x^n_n = y_{n}$\n",
        "\n",
        "O determinante desse sistema mostra que P é único se e somente se $det(A) \\neq 0$.\n",
        "\n",
        "> A = \n",
        ">\n",
        "> $1 + x^1_1 \\cdots + x^n_1$\n",
        ">\n",
        "> $1 + x^1_2 \\cdots + x^n_2$\n",
        ">\n",
        "> $\\vdots$ \n",
        ">\n",
        "> $1 + x^1_n \\cdots + x^n_n$\n",
        "\n",
        "Essa é a matriz de Vandermonde e seu determinante pode ser calculado como:\n",
        "\n",
        "$\\det(A)=\\prod _{1\\leq i<j\\leq n}(x_{j}-x_{i}) \\neq 0$\n",
        "\n",
        "Portanto, como $x_i \\neq x_j$ P é único. "
      ]
    },
    {
      "cell_type": "code",
      "metadata": {
        "id": "yRXhGpuO7KTq",
        "colab_type": "code",
        "colab": {}
      },
      "source": [
        "# Interpola o vetor x e y. Retorna o polinomio com o maior grau a esquerda. \n",
        "def interpolacao_linear(x, y):\n",
        "  n = np.shape(x)[0];\n",
        "  vander = np.vander(x, n);\n",
        "  return np.linalg.solve(vander, y);"
      ],
      "execution_count": 23,
      "outputs": []
    },
    {
      "cell_type": "code",
      "metadata": {
        "id": "P0IyWrUD8FZO",
        "colab_type": "code",
        "colab": {
          "base_uri": "https://localhost:8080/",
          "height": 422
        },
        "outputId": "5b709002-4b8f-4070-e265-6e310de45ff0"
      },
      "source": [
        "x = np.array([-6, 0, 4, 7]);\n",
        "y = np.array([-4, -1, 6, 7]);\n",
        "p = interpolacao_linear(x, y);\n",
        "\n",
        "# Cria quadro\n",
        "fig, ax = plt.subplots(1,1, figsize=(15,6));\n",
        "\n",
        "# intervalo\n",
        "t = np.linspace(-10, 10);\n",
        "pt = np.polyval(p, t);\n",
        "\n",
        "# Centralizar eixos\n",
        "ax.spines['left'].set_position('center')\n",
        "ax.spines['bottom'].set_position('center')\n",
        "\n",
        "# Plot time\n",
        "ax.plot(x, y, 'ro', t, pt);\n",
        "\n",
        "plt.show();"
      ],
      "execution_count": 28,
      "outputs": [
        {
          "output_type": "stream",
          "text": [
            "[[-216   36   -6    1]\n",
            " [   0    0    0    1]\n",
            " [  64   16    4    1]\n",
            " [ 343   49    7    1]]\n"
          ],
          "name": "stdout"
        },
        {
          "output_type": "display_data",
          "data": {
            "image/png": "[encoded data removed]",
            "text/plain": [
              "<Figure size 1080x432 with 1 Axes>"
            ]
          },
          "metadata": {
            "tags": [],
            "needs_background": "light"
          }
        }
      ]
    },
    {
      "cell_type": "markdown",
      "metadata": {
        "id": "ytnsyQGrrANe",
        "colab_type": "text"
      },
      "source": [
        "## Interpolação com Lagrange"
      ]
    },
    {
      "cell_type": "markdown",
      "metadata": {
        "id": "LSL-QyXbHjKs",
        "colab_type": "text"
      },
      "source": [
        "A interpolação també pode ser obtida a partir da fórmula de Lagrange.\n",
        "\n",
        "$P_n(x) = \\sum_{i=0}^n y_i * l_i(x)$\n",
        "\n",
        "Em que $l_i$ é:\n",
        "\n",
        "$li = \\prod_{i=0, i \\neq j}^n (x - x_j) / (x_i - x_j)$\n",
        "\n",
        "O significado de $l_i$ é:\n",
        "\n",
        "$L_i(x_j)=\\left\\{\\begin{matrix}\n",
        "  0 & se & i \\neq j \\\\\n",
        "  1 & se & i = j \\\\ \n",
        "\\end{matrix}\\right.$"
      ]
    },
    {
      "cell_type": "code",
      "metadata": {
        "id": "8yDPGl6FSn0a",
        "colab_type": "code",
        "colab": {}
      },
      "source": [
        "from scipy.interpolate import lagrange\n"
      ],
      "execution_count": null,
      "outputs": []
    },
    {
      "cell_type": "markdown",
      "metadata": {
        "id": "I0AnaO4OKRnb",
        "colab_type": "text"
      },
      "source": [
        "## Splines\n"
      ]
    },
    {
      "cell_type": "code",
      "metadata": {
        "id": "V27UUFTV8DSz",
        "colab_type": "code",
        "colab": {}
      },
      "source": [
        ""
      ],
      "execution_count": null,
      "outputs": []
    }
  ]
}